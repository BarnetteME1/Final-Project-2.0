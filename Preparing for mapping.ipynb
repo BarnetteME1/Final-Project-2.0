{
 "cells": [
  {
   "cell_type": "code",
   "execution_count": 1,
   "metadata": {
    "collapsed": true
   },
   "outputs": [],
   "source": [
    "import pandas as pd"
   ]
  },
  {
   "cell_type": "code",
   "execution_count": 2,
   "metadata": {
    "collapsed": false
   },
   "outputs": [],
   "source": [
    "top_three = pd.read_csv('/Users/MatthewBarnette/final_project_predictions//test_results_top_three.csv')\n",
    "top_three = top_three.set_index('Id')\n",
    "top_three.Dates = pd.to_datetime(top_three.Dates)"
   ]
  },
  {
   "cell_type": "code",
   "execution_count": 3,
   "metadata": {
    "collapsed": false
   },
   "outputs": [],
   "source": [
    "top_three_March_14_2015 = top_three[top_three.Dates.dt.year == 2015]\n",
    "top_three_March_14_2015 = top_three_March_14_2015[top_three_March_14_2015.Dates.dt.month == 3]\n",
    "top_three_March_14_2015 = top_three_March_14_2015[top_three_March_14_2015.Dates.dt.day == 14]"
   ]
  },
  {
   "cell_type": "code",
   "execution_count": 4,
   "metadata": {
    "collapsed": true
   },
   "outputs": [],
   "source": [
    "top_three_March_14_2015.to_csv('/Users/MatthewBarnette/final_project_predictions/march_14_2015.csv')"
   ]
  }
 ],
 "metadata": {
  "kernelspec": {
   "display_name": "Python 3",
   "language": "python",
   "name": "python3"
  },
  "language_info": {
   "codemirror_mode": {
    "name": "ipython",
    "version": 3
   },
   "file_extension": ".py",
   "mimetype": "text/x-python",
   "name": "python",
   "nbconvert_exporter": "python",
   "pygments_lexer": "ipython3",
   "version": "3.5.0"
  }
 },
 "nbformat": 4,
 "nbformat_minor": 0
}
