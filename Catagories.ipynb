{
 "cells": [
  {
   "cell_type": "code",
   "execution_count": 1,
   "metadata": {
    "collapsed": true
   },
   "outputs": [],
   "source": [
    "import pandas as pd"
   ]
  },
  {
   "cell_type": "code",
   "execution_count": 2,
   "metadata": {
    "collapsed": true
   },
   "outputs": [],
   "source": [
    "crime_in_sf = pd.read_csv('SF_crime/train.csv')\n",
    "crime_in_sf.Dates = pd.to_datetime(crime_in_sf.Dates)\n",
    "\n",
    "test_pred = pd.read_csv('te', index_col='Id')\n",
    "test.Dates = pd.to_datetime(test.Dates)"
   ]
  },
  {
   "cell_type": "code",
   "execution_count": 3,
   "metadata": {
    "collapsed": false
   },
   "outputs": [],
   "source": [
    "category = crime_in_sf.Category"
   ]
  },
  {
   "cell_type": "code",
   "execution_count": 4,
   "metadata": {
    "collapsed": false
   },
   "outputs": [],
   "source": [
    "category = category.unique()"
   ]
  },
  {
   "cell_type": "code",
   "execution_count": 5,
   "metadata": {
    "collapsed": true
   },
   "outputs": [],
   "source": [
    "catagory_df = pd.DataFrame(category)"
   ]
  },
  {
   "cell_type": "code",
   "execution_count": 6,
   "metadata": {
    "collapsed": true
   },
   "outputs": [],
   "source": [
    "sex_crimes = ['PROSTITUTION', 'SEX OFFENSES NON FORCIBLE', 'SEX OFFENSES FORCIBLE', 'PORNOGRAPHY/OBSCENE MAT']\n",
    "theft = ['LARCENY/THEFT', 'VEHICLE THEFT', 'BURGLARY', 'ROBBERY', 'STOLEN PROPERTY', 'RECOVERED VEHICLE']\n",
    "misc_lesser = ['WARRANTS',  'OTHER OFFENSES', 'NON-CRIMINAL', 'SECONDARY CODES', 'TRESPASS', 'FAMILY OFFENSES', \n",
    "               'LOITERING','BAD CHECKS', 'TREA', 'VANDALISM']\n",
    "violent = ['ASSAULT', 'WEAPON LAWS', 'ARSON', 'SUICIDE', 'DRIVING UNDER THE INFLUENCE']\n",
    "controlled_substances_alchohol = ['DRUNKENNESS', 'LIQUOR LAWS', 'DISORDERLY CONDUCT', 'DRUG/NARCOTIC']\n",
    "missing = ['MISSING PERSON', 'KIDNAPPING', 'RUNAWAY']\n",
    "financial = ['FORGERY/COUNTERFEITING', 'BRIBERY', 'EMBEZZLEMENT', 'EXTORTION', 'GAMBLING', 'FRAUD', 'SUSPICIOUS OCC']"
   ]
  },
  {
   "cell_type": "code",
   "execution_count": 7,
   "metadata": {
    "collapsed": false
   },
   "outputs": [
    {
     "name": "stdout",
     "output_type": "stream",
     "text": [
      "sex_crimes 4\n",
      "theft 6\n",
      "misc_lesser 10\n",
      "violent 5\n",
      "controlled_substances_alchohol 4\n",
      "missing 3\n",
      "financial 7\n"
     ]
    }
   ],
   "source": [
    "print('sex_crimes', len(sex_crimes))\n",
    "print('theft', len(theft))\n",
    "print('misc_lesser', len(misc_lesser))\n",
    "print('violent', len(violent))\n",
    "print('controlled_substances_alchohol', len(controlled_substances_alchohol))\n",
    "print('missing', len(missing))\n",
    "print('financial', len(financial))"
   ]
  },
  {
   "cell_type": "code",
   "execution_count": 8,
   "metadata": {
    "collapsed": true
   },
   "outputs": [],
   "source": [
    "TREA = 'Trespassing or loitering near posted industrial property'"
   ]
  }
 ],
 "metadata": {
  "kernelspec": {
   "display_name": "Python 3",
   "language": "python",
   "name": "python3"
  },
  "language_info": {
   "codemirror_mode": {
    "name": "ipython",
    "version": 3
   },
   "file_extension": ".py",
   "mimetype": "text/x-python",
   "name": "python",
   "nbconvert_exporter": "python",
   "pygments_lexer": "ipython3",
   "version": "3.5.0"
  }
 },
 "nbformat": 4,
 "nbformat_minor": 0
}
