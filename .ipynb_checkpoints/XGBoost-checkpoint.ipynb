{
 "cells": [
  {
   "cell_type": "code",
   "execution_count": 54,
   "metadata": {
    "collapsed": false
   },
   "outputs": [],
   "source": [
    "import scipy\n",
    "import numpy as np\n",
    "import pandas as pd\n",
    "import seaborn as sns\n",
    "import xgboost as xgb\n",
    "import matplotlib.pyplot as plt\n",
    "from sklearn.preprocessing import LabelEncoder\n",
    "from sklearn.cross_validation import train_test_split\n",
    "%matplotlib inline\n",
    "le = LabelEncoder()"
   ]
  },
  {
   "cell_type": "code",
   "execution_count": 55,
   "metadata": {
    "collapsed": false
   },
   "outputs": [],
   "source": [
    "sample = pd.read_csv('SF_crime/sampleSubmission.csv')\n",
    "test = pd.read_csv('SF_crime/test.csv', index_col='Id')\n",
    "test = test.rename(columns={'X': 'Longitude', \"Y\": \"Latitude\"})\n",
    "test.Dates = pd.to_datetime(test.Dates)\n",
    "test_keep = test\n",
    "crime_in_sf = pd.read_csv('SF_crime/train.csv')\n",
    "crime_in_sf.Dates = pd.to_datetime(crime_in_sf.Dates)\n",
    "crime_in_sf = crime_in_sf.rename(columns={'X': 'Longitude', \"Y\": \"Latitude\",})\n",
    "crime_in_sf = crime_in_sf.drop(['Resolution', 'Descript'], axis=1)\n",
    "crime_train, crime_test = train_test_split(crime_in_sf, test_size=.4)"
   ]
  },
  {
   "cell_type": "code",
   "execution_count": 56,
   "metadata": {
    "collapsed": false
   },
   "outputs": [
    {
     "name": "stderr",
     "output_type": "stream",
     "text": [
      "/Users/MatthewBarnette/final_project_2/.direnv/python-3.5.0/lib/python3.5/site-packages/ipykernel/__main__.py:9: SettingWithCopyWarning: \n",
      "A value is trying to be set on a copy of a slice from a DataFrame.\n",
      "Try using .loc[row_indexer,col_indexer] = value instead\n",
      "\n",
      "See the caveats in the documentation: http://pandas.pydata.org/pandas-docs/stable/indexing.html#indexing-view-versus-copy\n",
      "/Users/MatthewBarnette/final_project_2/.direnv/python-3.5.0/lib/python3.5/site-packages/ipykernel/__main__.py:14: SettingWithCopyWarning: \n",
      "A value is trying to be set on a copy of a slice from a DataFrame.\n",
      "Try using .loc[row_indexer,col_indexer] = value instead\n",
      "\n",
      "See the caveats in the documentation: http://pandas.pydata.org/pandas-docs/stable/indexing.html#indexing-view-versus-copy\n"
     ]
    }
   ],
   "source": [
    "for column in test.columns.values:\n",
    "    if column != 'Longitude' and column != 'Latitude':\n",
    "        le.fit(test[column])\n",
    "        test[column] = le.transform(test[column])\n",
    "\n",
    "for column in crime_in_sf.columns.values:\n",
    "    if column != 'Longitude' and column != 'Latitude':\n",
    "        le.fit(crime_in_sf[column])\n",
    "        crime_train[column] = le.transform(crime_train[column])\n",
    "\n",
    "for column in crime_in_sf.columns.values:\n",
    "    if column != 'Longitude' and column != 'Latitude':\n",
    "        le.fit(crime_in_sf[column])        \n",
    "        crime_test[column] = le.transform(crime_test[column])"
   ]
  },
  {
   "cell_type": "code",
   "execution_count": 57,
   "metadata": {
    "collapsed": false
   },
   "outputs": [
    {
     "data": {
      "text/html": [
       "<div>\n",
       "<table border=\"1\" class=\"dataframe\">\n",
       "  <thead>\n",
       "    <tr style=\"text-align: right;\">\n",
       "      <th></th>\n",
       "      <th>Dates</th>\n",
       "      <th>Category</th>\n",
       "      <th>DayOfWeek</th>\n",
       "      <th>PdDistrict</th>\n",
       "      <th>Address</th>\n",
       "      <th>Longitude</th>\n",
       "      <th>Latitude</th>\n",
       "    </tr>\n",
       "  </thead>\n",
       "  <tbody>\n",
       "    <tr>\n",
       "      <th>431245</th>\n",
       "      <td>199741</td>\n",
       "      <td>21</td>\n",
       "      <td>4</td>\n",
       "      <td>9</td>\n",
       "      <td>2257</td>\n",
       "      <td>-122.413893</td>\n",
       "      <td>37.782347</td>\n",
       "    </tr>\n",
       "    <tr>\n",
       "      <th>202452</th>\n",
       "      <td>301329</td>\n",
       "      <td>20</td>\n",
       "      <td>6</td>\n",
       "      <td>4</td>\n",
       "      <td>15930</td>\n",
       "      <td>-122.432330</td>\n",
       "      <td>37.781429</td>\n",
       "    </tr>\n",
       "    <tr>\n",
       "      <th>634285</th>\n",
       "      <td>105273</td>\n",
       "      <td>1</td>\n",
       "      <td>6</td>\n",
       "      <td>9</td>\n",
       "      <td>18827</td>\n",
       "      <td>-122.414744</td>\n",
       "      <td>37.778719</td>\n",
       "    </tr>\n",
       "    <tr>\n",
       "      <th>697961</th>\n",
       "      <td>76950</td>\n",
       "      <td>7</td>\n",
       "      <td>3</td>\n",
       "      <td>3</td>\n",
       "      <td>6387</td>\n",
       "      <td>-122.419658</td>\n",
       "      <td>37.764221</td>\n",
       "    </tr>\n",
       "    <tr>\n",
       "      <th>569371</th>\n",
       "      <td>135427</td>\n",
       "      <td>35</td>\n",
       "      <td>1</td>\n",
       "      <td>6</td>\n",
       "      <td>12565</td>\n",
       "      <td>-122.466019</td>\n",
       "      <td>37.775271</td>\n",
       "    </tr>\n",
       "  </tbody>\n",
       "</table>\n",
       "</div>"
      ],
      "text/plain": [
       "         Dates  Category  DayOfWeek  PdDistrict  Address   Longitude  \\\n",
       "431245  199741        21          4           9     2257 -122.413893   \n",
       "202452  301329        20          6           4    15930 -122.432330   \n",
       "634285  105273         1          6           9    18827 -122.414744   \n",
       "697961   76950         7          3           3     6387 -122.419658   \n",
       "569371  135427        35          1           6    12565 -122.466019   \n",
       "\n",
       "         Latitude  \n",
       "431245  37.782347  \n",
       "202452  37.781429  \n",
       "634285  37.778719  \n",
       "697961  37.764221  \n",
       "569371  37.775271  "
      ]
     },
     "execution_count": 57,
     "metadata": {},
     "output_type": "execute_result"
    }
   ],
   "source": [
    "crime_train.head()"
   ]
  },
  {
   "cell_type": "code",
   "execution_count": 58,
   "metadata": {
    "collapsed": false
   },
   "outputs": [],
   "source": [
    "categories = crime_train.Category\n",
    "crime_train = crime_train.drop('Category', axis=1)\n",
    "\n",
    "categories2 = crime_test.Category\n",
    "crime_test = crime_test.drop('Category', axis=1)"
   ]
  },
  {
   "cell_type": "code",
   "execution_count": 59,
   "metadata": {
    "collapsed": false
   },
   "outputs": [],
   "source": [
    "dtrain = xgb.DMatrix(crime_train.as_matrix(),\n",
    "                     label=categories)\n",
    "dtest = xgb.DMatrix(crime_test.as_matrix(),\n",
    "                    label=categories2)"
   ]
  },
  {
   "cell_type": "code",
   "execution_count": 61,
   "metadata": {
    "collapsed": false
   },
   "outputs": [],
   "source": [
    "param = {'bst:max_depth':6, 'objective':'multi:softprob', 'num_class':39}\n",
    "param['nthread'] = 4\n",
    "param['eval_metric'] = ['mlogloss', 'merror']"
   ]
  },
  {
   "cell_type": "code",
   "execution_count": 62,
   "metadata": {
    "collapsed": false
   },
   "outputs": [],
   "source": [
    "evallist  = [(dtest,'eval'), (dtrain,'train')]"
   ]
  },
  {
   "cell_type": "code",
   "execution_count": null,
   "metadata": {
    "collapsed": false,
    "scrolled": false
   },
   "outputs": [
    {
     "name": "stderr",
     "output_type": "stream",
     "text": [
      "Will train until train error hasn't decreased in 5 rounds.\n",
      "Multiple eval metrics have been passed: 'merror' will be used for early stopping.\n",
      "\n",
      "[0]\teval-mlogloss:3.103518\teval-merror:0.742942\ttrain-mlogloss:3.096600\ttrain-merror:0.740669\n",
      "[1]\teval-mlogloss:2.926047\teval-merror:0.738201\ttrain-mlogloss:2.916772\ttrain-merror:0.735916\n",
      "[2]\teval-mlogloss:2.812259\teval-merror:0.736877\ttrain-mlogloss:2.800406\ttrain-merror:0.734396\n",
      "[3]\teval-mlogloss:2.729690\teval-merror:0.735539\ttrain-mlogloss:2.715824\ttrain-merror:0.733204\n",
      "[4]\teval-mlogloss:2.669227\teval-merror:0.734807\ttrain-mlogloss:2.653466\ttrain-merror:0.732023\n",
      "[5]\teval-mlogloss:2.621853\teval-merror:0.733580\ttrain-mlogloss:2.604320\ttrain-merror:0.730873\n",
      "[6]\teval-mlogloss:2.584888\teval-merror:0.732817\ttrain-mlogloss:2.565605\ttrain-merror:0.729768\n",
      "[7]\teval-mlogloss:2.555097\teval-merror:0.732322\ttrain-mlogloss:2.533905\ttrain-merror:0.728960\n",
      "[8]\teval-mlogloss:2.531972\teval-merror:0.731442\ttrain-mlogloss:2.509042\ttrain-merror:0.728172\n",
      "[9]\teval-mlogloss:2.512442\teval-merror:0.730730\ttrain-mlogloss:2.487720\ttrain-merror:0.727058\n",
      "[10]\teval-mlogloss:2.496983\teval-merror:0.730249\ttrain-mlogloss:2.470423\ttrain-merror:0.726446\n",
      "[11]\teval-mlogloss:2.483576\teval-merror:0.729594\ttrain-mlogloss:2.455184\ttrain-merror:0.725676\n",
      "[12]\teval-mlogloss:2.473308\teval-merror:0.729321\ttrain-mlogloss:2.443018\ttrain-merror:0.725114\n",
      "[13]\teval-mlogloss:2.463720\teval-merror:0.729096\ttrain-mlogloss:2.431644\ttrain-merror:0.724381\n",
      "[14]\teval-mlogloss:2.456332\teval-merror:0.728979\ttrain-mlogloss:2.422371\ttrain-merror:0.723897\n",
      "[15]\teval-mlogloss:2.449592\teval-merror:0.728777\ttrain-mlogloss:2.413596\ttrain-merror:0.723366\n",
      "[16]\teval-mlogloss:2.444011\teval-merror:0.728467\ttrain-mlogloss:2.406341\ttrain-merror:0.722796\n",
      "[17]\teval-mlogloss:2.438818\teval-merror:0.727820\ttrain-mlogloss:2.399323\ttrain-merror:0.722039\n",
      "[18]\teval-mlogloss:2.434917\teval-merror:0.727755\ttrain-mlogloss:2.393658\ttrain-merror:0.721597\n",
      "[19]\teval-mlogloss:2.431075\teval-merror:0.727476\ttrain-mlogloss:2.388021\ttrain-merror:0.721175\n",
      "[20]\teval-mlogloss:2.427704\teval-merror:0.727108\ttrain-mlogloss:2.383018\ttrain-merror:0.720577\n",
      "[21]\teval-mlogloss:2.425207\teval-merror:0.726775\ttrain-mlogloss:2.378765\ttrain-merror:0.720008\n",
      "[22]\teval-mlogloss:2.422860\teval-merror:0.726490\ttrain-mlogloss:2.374849\ttrain-merror:0.719448\n",
      "[23]\teval-mlogloss:2.421033\teval-merror:0.726194\ttrain-mlogloss:2.371297\ttrain-merror:0.719036\n",
      "[24]\teval-mlogloss:2.418836\teval-merror:0.725742\ttrain-mlogloss:2.367483\ttrain-merror:0.718313\n",
      "[25]\teval-mlogloss:2.416827\teval-merror:0.725634\ttrain-mlogloss:2.363809\ttrain-merror:0.717804\n",
      "[26]\teval-mlogloss:2.415457\teval-merror:0.725409\ttrain-mlogloss:2.361072\ttrain-merror:0.717470\n",
      "[27]\teval-mlogloss:2.414329\teval-merror:0.725229\ttrain-mlogloss:2.358444\ttrain-merror:0.716931\n",
      "[28]\teval-mlogloss:2.413119\teval-merror:0.725067\ttrain-mlogloss:2.355749\ttrain-merror:0.716601\n",
      "[29]\teval-mlogloss:2.412120\teval-merror:0.724962\ttrain-mlogloss:2.353085\ttrain-merror:0.716350\n",
      "[30]\teval-mlogloss:2.410850\teval-merror:0.724603\ttrain-mlogloss:2.350185\ttrain-merror:0.715796\n",
      "[31]\teval-mlogloss:2.409509\teval-merror:0.724418\ttrain-mlogloss:2.347333\ttrain-merror:0.715477\n",
      "[32]\teval-mlogloss:2.408853\teval-merror:0.724287\ttrain-mlogloss:2.345208\ttrain-merror:0.715152\n",
      "[33]\teval-mlogloss:2.408132\teval-merror:0.724107\ttrain-mlogloss:2.343120\ttrain-merror:0.714682\n",
      "[34]\teval-mlogloss:2.407400\teval-merror:0.723976\ttrain-mlogloss:2.340878\ttrain-merror:0.714198\n",
      "[35]\teval-mlogloss:2.406354\teval-merror:0.723697\ttrain-mlogloss:2.338233\ttrain-merror:0.713780\n",
      "[36]\teval-mlogloss:2.405310\teval-merror:0.723535\ttrain-mlogloss:2.335874\ttrain-merror:0.713332\n",
      "[37]\teval-mlogloss:2.404510\teval-merror:0.723236\ttrain-mlogloss:2.333652\ttrain-merror:0.712799\n",
      "[38]\teval-mlogloss:2.403785\teval-merror:0.723074\ttrain-mlogloss:2.331280\ttrain-merror:0.712307\n",
      "[39]\teval-mlogloss:2.403220\teval-merror:0.722880\ttrain-mlogloss:2.329315\ttrain-merror:0.711958\n",
      "[40]\teval-mlogloss:2.402451\teval-merror:0.722772\ttrain-mlogloss:2.327298\ttrain-merror:0.711574\n",
      "[41]\teval-mlogloss:2.401587\teval-merror:0.722613\ttrain-mlogloss:2.325003\ttrain-merror:0.711195\n",
      "[42]\teval-mlogloss:2.401006\teval-merror:0.722482\ttrain-mlogloss:2.323075\ttrain-merror:0.710766\n",
      "[43]\teval-mlogloss:2.400507\teval-merror:0.722285\ttrain-mlogloss:2.321259\ttrain-merror:0.710416\n",
      "[44]\teval-mlogloss:2.399888\teval-merror:0.722288\ttrain-mlogloss:2.319482\ttrain-merror:0.710122\n",
      "[45]\teval-mlogloss:2.399576\teval-merror:0.722254\ttrain-mlogloss:2.317903\ttrain-merror:0.709891\n",
      "[46]\teval-mlogloss:2.399164\teval-merror:0.721924\ttrain-mlogloss:2.316182\ttrain-merror:0.709551\n",
      "[47]\teval-mlogloss:2.398733\teval-merror:0.721881\ttrain-mlogloss:2.314659\ttrain-merror:0.709262\n",
      "[48]\teval-mlogloss:2.398413\teval-merror:0.721770\ttrain-mlogloss:2.313302\ttrain-merror:0.708976\n",
      "[49]\teval-mlogloss:2.398081\teval-merror:0.721741\ttrain-mlogloss:2.311532\ttrain-merror:0.708676\n",
      "[50]\teval-mlogloss:2.397685\teval-merror:0.721582\ttrain-mlogloss:2.309801\ttrain-merror:0.708422\n",
      "[51]\teval-mlogloss:2.397210\teval-merror:0.721343\ttrain-mlogloss:2.308259\ttrain-merror:0.708061\n",
      "[52]\teval-mlogloss:2.396860\teval-merror:0.721132\ttrain-mlogloss:2.306697\ttrain-merror:0.707736\n",
      "[53]\teval-mlogloss:2.396622\teval-merror:0.721112\ttrain-mlogloss:2.305248\ttrain-merror:0.707469\n",
      "[54]\teval-mlogloss:2.396187\teval-merror:0.720873\ttrain-mlogloss:2.303596\ttrain-merror:0.706952\n",
      "[55]\teval-mlogloss:2.395575\teval-merror:0.720691\ttrain-mlogloss:2.301785\ttrain-merror:0.706466\n",
      "[56]\teval-mlogloss:2.395190\teval-merror:0.720622\ttrain-mlogloss:2.300200\ttrain-merror:0.706180\n",
      "[57]\teval-mlogloss:2.394895\teval-merror:0.720474\ttrain-mlogloss:2.298724\ttrain-merror:0.705832\n",
      "[58]\teval-mlogloss:2.394606\teval-merror:0.720360\ttrain-mlogloss:2.297271\ttrain-merror:0.705517\n",
      "[59]\teval-mlogloss:2.394089\teval-merror:0.720104\ttrain-mlogloss:2.295399\ttrain-merror:0.705157\n",
      "[60]\teval-mlogloss:2.393520\teval-merror:0.719911\ttrain-mlogloss:2.293551\ttrain-merror:0.704713\n",
      "[61]\teval-mlogloss:2.393180\teval-merror:0.719708\ttrain-mlogloss:2.291988\ttrain-merror:0.704339\n",
      "[62]\teval-mlogloss:2.392741\teval-merror:0.719637\ttrain-mlogloss:2.290329\ttrain-merror:0.703999\n",
      "[63]\teval-mlogloss:2.392637\teval-merror:0.719617\ttrain-mlogloss:2.289197\ttrain-merror:0.703703\n",
      "[64]\teval-mlogloss:2.392469\teval-merror:0.719540\ttrain-mlogloss:2.287876\ttrain-merror:0.703386\n",
      "[65]\teval-mlogloss:2.392198\teval-merror:0.719478\ttrain-mlogloss:2.286644\ttrain-merror:0.703057\n",
      "[66]\teval-mlogloss:2.391814\teval-merror:0.719412\ttrain-mlogloss:2.285177\ttrain-merror:0.702708\n",
      "[67]\teval-mlogloss:2.391491\teval-merror:0.719316\ttrain-mlogloss:2.283677\ttrain-merror:0.702463\n",
      "[68]\teval-mlogloss:2.391159\teval-merror:0.719347\ttrain-mlogloss:2.282279\ttrain-merror:0.702315\n",
      "[69]\teval-mlogloss:2.390643\teval-merror:0.719310\ttrain-mlogloss:2.280479\ttrain-merror:0.701994\n",
      "[70]\teval-mlogloss:2.390082\teval-merror:0.719108\ttrain-mlogloss:2.278856\ttrain-merror:0.701353\n",
      "[71]\teval-mlogloss:2.389798\teval-merror:0.719079\ttrain-mlogloss:2.277600\ttrain-merror:0.701043\n",
      "[72]\teval-mlogloss:2.389607\teval-merror:0.718877\ttrain-mlogloss:2.276480\ttrain-merror:0.700800\n",
      "[73]\teval-mlogloss:2.389324\teval-merror:0.718820\ttrain-mlogloss:2.275113\ttrain-merror:0.700565\n",
      "[74]\teval-mlogloss:2.389044\teval-merror:0.718703\ttrain-mlogloss:2.273632\ttrain-merror:0.700288\n",
      "[75]\teval-mlogloss:2.388794\teval-merror:0.718626\ttrain-mlogloss:2.272192\ttrain-merror:0.700102\n",
      "[76]\teval-mlogloss:2.388595\teval-merror:0.718533\ttrain-mlogloss:2.270764\ttrain-merror:0.699836\n",
      "[77]\teval-mlogloss:2.388360\teval-merror:0.718339\ttrain-mlogloss:2.269375\ttrain-merror:0.699601\n",
      "[78]\teval-mlogloss:2.388093\teval-merror:0.718273\ttrain-mlogloss:2.267964\ttrain-merror:0.699291\n",
      "[79]\teval-mlogloss:2.387964\teval-merror:0.718157\ttrain-mlogloss:2.266871\ttrain-merror:0.699047\n",
      "[80]\teval-mlogloss:2.387747\teval-merror:0.718054\ttrain-mlogloss:2.265386\ttrain-merror:0.698705\n",
      "[81]\teval-mlogloss:2.387526\teval-merror:0.717980\ttrain-mlogloss:2.264096\ttrain-merror:0.698460\n",
      "[82]\teval-mlogloss:2.387293\teval-merror:0.717895\ttrain-mlogloss:2.262856\ttrain-merror:0.698240\n",
      "[83]\teval-mlogloss:2.387225\teval-merror:0.717861\ttrain-mlogloss:2.261627\ttrain-merror:0.698046\n",
      "[84]\teval-mlogloss:2.387004\teval-merror:0.717801\ttrain-mlogloss:2.260242\ttrain-merror:0.697703\n",
      "[85]\teval-mlogloss:2.386781\teval-merror:0.717695\ttrain-mlogloss:2.258763\ttrain-merror:0.697397\n",
      "[86]\teval-mlogloss:2.386497\teval-merror:0.717650\ttrain-mlogloss:2.257406\ttrain-merror:0.697031\n",
      "[87]\teval-mlogloss:2.386014\teval-merror:0.717368\ttrain-mlogloss:2.255670\ttrain-merror:0.696678\n",
      "[88]\teval-mlogloss:2.385618\teval-merror:0.717399\ttrain-mlogloss:2.254129\ttrain-merror:0.696281\n",
      "[89]\teval-mlogloss:2.385516\teval-merror:0.717419\ttrain-mlogloss:2.253083\ttrain-merror:0.696095\n",
      "[90]\teval-mlogloss:2.385403\teval-merror:0.717348\ttrain-mlogloss:2.251645\ttrain-merror:0.695867\n",
      "[91]\teval-mlogloss:2.385124\teval-merror:0.717229\ttrain-mlogloss:2.250228\ttrain-merror:0.695567\n",
      "[92]\teval-mlogloss:2.384914\teval-merror:0.717126\ttrain-mlogloss:2.249050\ttrain-merror:0.695224\n",
      "[93]\teval-mlogloss:2.384790\teval-merror:0.717140\ttrain-mlogloss:2.247885\ttrain-merror:0.694990\n",
      "[94]\teval-mlogloss:2.384613\teval-merror:0.717052\ttrain-mlogloss:2.246627\ttrain-merror:0.694768\n",
      "[95]\teval-mlogloss:2.384293\teval-merror:0.717018\ttrain-mlogloss:2.245378\ttrain-merror:0.694409\n",
      "[96]\teval-mlogloss:2.384198\teval-merror:0.716961\ttrain-mlogloss:2.244418\ttrain-merror:0.694197\n",
      "[97]\teval-mlogloss:2.384143\teval-merror:0.716952\ttrain-mlogloss:2.243573\ttrain-merror:0.694030\n",
      "[98]\teval-mlogloss:2.383945\teval-merror:0.716810\ttrain-mlogloss:2.242333\ttrain-merror:0.693798\n",
      "[99]\teval-mlogloss:2.383745\teval-merror:0.716850\ttrain-mlogloss:2.241168\ttrain-merror:0.693553\n",
      "[100]\teval-mlogloss:2.383310\teval-merror:0.716594\ttrain-mlogloss:2.239722\ttrain-merror:0.693227\n",
      "[101]\teval-mlogloss:2.383129\teval-merror:0.716588\ttrain-mlogloss:2.238541\ttrain-merror:0.693052\n",
      "[102]\teval-mlogloss:2.382952\teval-merror:0.716434\ttrain-mlogloss:2.237326\ttrain-merror:0.692589\n",
      "[103]\teval-mlogloss:2.382710\teval-merror:0.716286\ttrain-mlogloss:2.236015\ttrain-merror:0.692367\n",
      "[104]\teval-mlogloss:2.382591\teval-merror:0.716166\ttrain-mlogloss:2.234820\ttrain-merror:0.692101\n",
      "[105]\teval-mlogloss:2.382399\teval-merror:0.716132\ttrain-mlogloss:2.233638\ttrain-merror:0.691834\n",
      "[106]\teval-mlogloss:2.382217\teval-merror:0.716058\ttrain-mlogloss:2.232489\ttrain-merror:0.691534\n",
      "[107]\teval-mlogloss:2.381998\teval-merror:0.716038\ttrain-mlogloss:2.231225\ttrain-merror:0.691302\n",
      "[108]\teval-mlogloss:2.381824\teval-merror:0.715976\ttrain-mlogloss:2.230092\ttrain-merror:0.691118\n",
      "[109]\teval-mlogloss:2.381629\teval-merror:0.716007\ttrain-mlogloss:2.228877\ttrain-merror:0.690811\n",
      "[110]\teval-mlogloss:2.381465\teval-merror:0.715896\ttrain-mlogloss:2.227488\ttrain-merror:0.690560\n",
      "[111]\teval-mlogloss:2.381317\teval-merror:0.715848\ttrain-mlogloss:2.226351\ttrain-merror:0.690315\n",
      "[112]\teval-mlogloss:2.381228\teval-merror:0.715779\ttrain-mlogloss:2.225345\ttrain-merror:0.690053\n",
      "[113]\teval-mlogloss:2.381131\teval-merror:0.715705\ttrain-mlogloss:2.224153\ttrain-merror:0.689767\n",
      "[114]\teval-mlogloss:2.381098\teval-merror:0.715634\ttrain-mlogloss:2.223182\ttrain-merror:0.689544\n",
      "[115]\teval-mlogloss:2.381039\teval-merror:0.715586\ttrain-mlogloss:2.222133\ttrain-merror:0.689246\n",
      "[116]\teval-mlogloss:2.380899\teval-merror:0.715466\ttrain-mlogloss:2.221034\ttrain-merror:0.689030\n",
      "[117]\teval-mlogloss:2.380642\teval-merror:0.715338\ttrain-mlogloss:2.219785\ttrain-merror:0.688743\n",
      "[118]\teval-mlogloss:2.380418\teval-merror:0.715284\ttrain-mlogloss:2.218655\ttrain-merror:0.688451\n",
      "[119]\teval-mlogloss:2.380235\teval-merror:0.715227\ttrain-mlogloss:2.217419\ttrain-merror:0.688056\n",
      "[120]\teval-mlogloss:2.380072\teval-merror:0.715136\ttrain-mlogloss:2.216223\ttrain-merror:0.687770\n",
      "[121]\teval-mlogloss:2.380010\teval-merror:0.715093\ttrain-mlogloss:2.215278\ttrain-merror:0.687496\n",
      "[122]\teval-mlogloss:2.379928\teval-merror:0.715019\ttrain-mlogloss:2.214296\ttrain-merror:0.687267\n",
      "[123]\teval-mlogloss:2.379848\teval-merror:0.715019\ttrain-mlogloss:2.213352\ttrain-merror:0.687077\n",
      "[124]\teval-mlogloss:2.379711\teval-merror:0.714891\ttrain-mlogloss:2.212338\ttrain-merror:0.686838\n",
      "[125]\teval-mlogloss:2.379618\teval-merror:0.714749\ttrain-mlogloss:2.211350\ttrain-merror:0.686606\n",
      "[126]\teval-mlogloss:2.379435\teval-merror:0.714754\ttrain-mlogloss:2.210291\ttrain-merror:0.686411\n",
      "[127]\teval-mlogloss:2.379283\teval-merror:0.714703\ttrain-mlogloss:2.209117\ttrain-merror:0.686071\n",
      "[128]\teval-mlogloss:2.379198\teval-merror:0.714643\ttrain-mlogloss:2.208076\ttrain-merror:0.685993\n",
      "[129]\teval-mlogloss:2.379042\teval-merror:0.714527\ttrain-mlogloss:2.206820\ttrain-merror:0.685760\n",
      "[130]\teval-mlogloss:2.378829\teval-merror:0.714504\ttrain-mlogloss:2.205543\ttrain-merror:0.685522\n",
      "[131]\teval-mlogloss:2.378763\teval-merror:0.714495\ttrain-mlogloss:2.204537\ttrain-merror:0.685245\n",
      "[132]\teval-mlogloss:2.378586\teval-merror:0.714435\ttrain-mlogloss:2.203518\ttrain-merror:0.685004\n",
      "[133]\teval-mlogloss:2.378471\teval-merror:0.714339\ttrain-mlogloss:2.202532\ttrain-merror:0.684767\n",
      "[134]\teval-mlogloss:2.378336\teval-merror:0.714273\ttrain-mlogloss:2.201420\ttrain-merror:0.684474\n",
      "[135]\teval-mlogloss:2.378203\teval-merror:0.714134\ttrain-mlogloss:2.200315\ttrain-merror:0.684121\n",
      "[136]\teval-mlogloss:2.377993\teval-merror:0.714136\ttrain-mlogloss:2.199049\ttrain-merror:0.683810\n",
      "[137]\teval-mlogloss:2.377834\teval-merror:0.713997\ttrain-mlogloss:2.197794\ttrain-merror:0.683529\n",
      "[138]\teval-mlogloss:2.377680\teval-merror:0.714011\ttrain-mlogloss:2.196635\ttrain-merror:0.683178\n",
      "[139]\teval-mlogloss:2.377585\teval-merror:0.714034\ttrain-mlogloss:2.195704\ttrain-merror:0.682954\n",
      "[140]\teval-mlogloss:2.377489\teval-merror:0.714034\ttrain-mlogloss:2.194646\ttrain-merror:0.682654\n",
      "[141]\teval-mlogloss:2.377410\teval-merror:0.714040\ttrain-mlogloss:2.193470\ttrain-merror:0.682366\n",
      "[142]\teval-mlogloss:2.376917\teval-merror:0.713809\ttrain-mlogloss:2.191941\ttrain-merror:0.681866\n",
      "[143]\teval-mlogloss:2.376722\teval-merror:0.713681\ttrain-mlogloss:2.190683\ttrain-merror:0.681483\n",
      "[144]\teval-mlogloss:2.376529\teval-merror:0.713761\ttrain-mlogloss:2.189294\ttrain-merror:0.681067\n",
      "[145]\teval-mlogloss:2.376348\teval-merror:0.713675\ttrain-mlogloss:2.188007\ttrain-merror:0.680800\n",
      "[146]\teval-mlogloss:2.376245\teval-merror:0.713601\ttrain-mlogloss:2.186852\ttrain-merror:0.680587\n",
      "[147]\teval-mlogloss:2.376155\teval-merror:0.713550\ttrain-mlogloss:2.185905\ttrain-merror:0.680456\n",
      "[148]\teval-mlogloss:2.376019\teval-merror:0.713573\ttrain-mlogloss:2.184788\ttrain-merror:0.680225\n",
      "[149]\teval-mlogloss:2.375879\teval-merror:0.713482\ttrain-mlogloss:2.183672\ttrain-merror:0.679911\n",
      "[150]\teval-mlogloss:2.375783\teval-merror:0.713342\ttrain-mlogloss:2.182489\ttrain-merror:0.679653\n",
      "[151]\teval-mlogloss:2.375638\teval-merror:0.713191\ttrain-mlogloss:2.181343\ttrain-merror:0.679365\n",
      "[152]\teval-mlogloss:2.375631\teval-merror:0.713208\ttrain-mlogloss:2.180452\ttrain-merror:0.679160\n",
      "[153]\teval-mlogloss:2.375467\teval-merror:0.713191\ttrain-mlogloss:2.179369\ttrain-merror:0.678915\n",
      "[154]\teval-mlogloss:2.375268\teval-merror:0.713129\ttrain-mlogloss:2.178351\ttrain-merror:0.678566\n",
      "[155]\teval-mlogloss:2.375194\teval-merror:0.713074\ttrain-mlogloss:2.177313\ttrain-merror:0.678364\n",
      "[156]\teval-mlogloss:2.375089\teval-merror:0.713023\ttrain-mlogloss:2.176354\ttrain-merror:0.678167\n",
      "[157]\teval-mlogloss:2.375129\teval-merror:0.712972\ttrain-mlogloss:2.175432\ttrain-merror:0.678004\n",
      "[158]\teval-mlogloss:2.375116\teval-merror:0.712961\ttrain-mlogloss:2.174608\ttrain-merror:0.677880\n",
      "[159]\teval-mlogloss:2.375068\teval-merror:0.712921\ttrain-mlogloss:2.173736\ttrain-merror:0.677656\n",
      "[160]\teval-mlogloss:2.375037\teval-merror:0.712969\ttrain-mlogloss:2.172739\ttrain-merror:0.677413\n",
      "[161]\teval-mlogloss:2.375007\teval-merror:0.712926\ttrain-mlogloss:2.171808\ttrain-merror:0.677146\n",
      "[162]\teval-mlogloss:2.374950\teval-merror:0.712892\ttrain-mlogloss:2.170767\ttrain-merror:0.676812\n",
      "[163]\teval-mlogloss:2.374915\teval-merror:0.712864\ttrain-mlogloss:2.169926\ttrain-merror:0.676603\n",
      "[164]\teval-mlogloss:2.374899\teval-merror:0.712719\ttrain-mlogloss:2.169138\ttrain-merror:0.676398\n",
      "[165]\teval-mlogloss:2.374889\teval-merror:0.712642\ttrain-mlogloss:2.168425\ttrain-merror:0.676170\n",
      "[166]\teval-mlogloss:2.374779\teval-merror:0.712613\ttrain-mlogloss:2.167545\ttrain-merror:0.675982\n",
      "[167]\teval-mlogloss:2.374760\teval-merror:0.712562\ttrain-mlogloss:2.166729\ttrain-merror:0.675809\n",
      "[168]\teval-mlogloss:2.374719\teval-merror:0.712488\ttrain-mlogloss:2.165602\ttrain-merror:0.675584\n",
      "[169]\teval-mlogloss:2.374609\teval-merror:0.712468\ttrain-mlogloss:2.164605\ttrain-merror:0.675333\n",
      "[170]\teval-mlogloss:2.374582\teval-merror:0.712368\ttrain-mlogloss:2.163723\ttrain-merror:0.675111\n",
      "[171]\teval-mlogloss:2.374537\teval-merror:0.712354\ttrain-mlogloss:2.162830\ttrain-merror:0.674938\n",
      "[172]\teval-mlogloss:2.374507\teval-merror:0.712351\ttrain-mlogloss:2.161825\ttrain-merror:0.674756\n",
      "[173]\teval-mlogloss:2.374493\teval-merror:0.712331\ttrain-mlogloss:2.160899\ttrain-merror:0.674560\n",
      "[174]\teval-mlogloss:2.374389\teval-merror:0.712328\ttrain-mlogloss:2.159955\ttrain-merror:0.674261\n",
      "[175]\teval-mlogloss:2.374300\teval-merror:0.712314\ttrain-mlogloss:2.158955\ttrain-merror:0.674014\n",
      "[176]\teval-mlogloss:2.374255\teval-merror:0.712391\ttrain-mlogloss:2.158129\ttrain-merror:0.673837\n",
      "[177]\teval-mlogloss:2.374213\teval-merror:0.712397\ttrain-mlogloss:2.157182\ttrain-merror:0.673553\n",
      "[178]\teval-mlogloss:2.374225\teval-merror:0.712397\ttrain-mlogloss:2.156523\ttrain-merror:0.673420\n",
      "[179]\teval-mlogloss:2.374025\teval-merror:0.712212\ttrain-mlogloss:2.155499\ttrain-merror:0.673097\n",
      "[180]\teval-mlogloss:2.373948\teval-merror:0.712123\ttrain-mlogloss:2.154628\ttrain-merror:0.672877\n",
      "[181]\teval-mlogloss:2.373867\teval-merror:0.712115\ttrain-mlogloss:2.153732\ttrain-merror:0.672700\n",
      "[182]\teval-mlogloss:2.373737\teval-merror:0.712069\ttrain-mlogloss:2.152667\ttrain-merror:0.672366\n",
      "[183]\teval-mlogloss:2.373729\teval-merror:0.712069\ttrain-mlogloss:2.151823\ttrain-merror:0.672165\n",
      "[184]\teval-mlogloss:2.373714\teval-merror:0.712035\ttrain-mlogloss:2.151006\ttrain-merror:0.671954\n",
      "[185]\teval-mlogloss:2.373734\teval-merror:0.712035\ttrain-mlogloss:2.150031\ttrain-merror:0.671755\n",
      "[186]\teval-mlogloss:2.373682\teval-merror:0.711998\ttrain-mlogloss:2.149208\ttrain-merror:0.671480\n",
      "[187]\teval-mlogloss:2.373682\teval-merror:0.711961\ttrain-mlogloss:2.148393\ttrain-merror:0.671286\n",
      "[188]\teval-mlogloss:2.373630\teval-merror:0.711884\ttrain-mlogloss:2.147340\ttrain-merror:0.670948\n",
      "[189]\teval-mlogloss:2.373588\teval-merror:0.711887\ttrain-mlogloss:2.146471\ttrain-merror:0.670762\n",
      "[190]\teval-mlogloss:2.373549\teval-merror:0.711822\ttrain-mlogloss:2.145526\ttrain-merror:0.670550\n",
      "[191]\teval-mlogloss:2.373370\teval-merror:0.711659\ttrain-mlogloss:2.144520\ttrain-merror:0.670269\n",
      "[192]\teval-mlogloss:2.373362\teval-merror:0.711619\ttrain-mlogloss:2.143773\ttrain-merror:0.670111\n",
      "[193]\teval-mlogloss:2.373362\teval-merror:0.711614\ttrain-mlogloss:2.142899\ttrain-merror:0.669849\n",
      "[194]\teval-mlogloss:2.373301\teval-merror:0.711608\ttrain-mlogloss:2.142027\ttrain-merror:0.669582\n",
      "[195]\teval-mlogloss:2.373191\teval-merror:0.711548\ttrain-mlogloss:2.141152\ttrain-merror:0.669437\n",
      "[196]\teval-mlogloss:2.373138\teval-merror:0.711469\ttrain-mlogloss:2.140283\ttrain-merror:0.669215\n",
      "[197]\teval-mlogloss:2.373096\teval-merror:0.711454\ttrain-mlogloss:2.139209\ttrain-merror:0.668855\n",
      "[198]\teval-mlogloss:2.372918\teval-merror:0.711369\ttrain-mlogloss:2.138137\ttrain-merror:0.668524\n",
      "[199]\teval-mlogloss:2.372913\teval-merror:0.711335\ttrain-mlogloss:2.137309\ttrain-merror:0.668314\n"
     ]
    }
   ],
   "source": [
    "num_round = 200\n",
    "bst = xgb.train(param, dtrain, num_round, evallist, early_stopping_rounds=5)"
   ]
  },
  {
   "cell_type": "code",
   "execution_count": null,
   "metadata": {
    "collapsed": false
   },
   "outputs": [],
   "source": [
    "predictions = bst.predict(xgb.DMatrix(test.as_matrix()), output_margin=False)"
   ]
  },
  {
   "cell_type": "code",
   "execution_count": null,
   "metadata": {
    "collapsed": false
   },
   "outputs": [],
   "source": [
    "predictions = pd.DataFrame(predictions)"
   ]
  },
  {
   "cell_type": "code",
   "execution_count": null,
   "metadata": {
    "collapsed": false
   },
   "outputs": [],
   "source": [
    "le.fit(crime_in_sf.Category)\n",
    "predictions.columns = le.inverse_transform(predictions.columns)"
   ]
  },
  {
   "cell_type": "code",
   "execution_count": null,
   "metadata": {
    "collapsed": true
   },
   "outputs": [],
   "source": [
    "pred_test = predictions"
   ]
  },
  {
   "cell_type": "code",
   "execution_count": null,
   "metadata": {
    "collapsed": true
   },
   "outputs": [],
   "source": [
    "predictions['Id'] = predictions.index"
   ]
  },
  {
   "cell_type": "code",
   "execution_count": null,
   "metadata": {
    "collapsed": true
   },
   "outputs": [],
   "source": [
    "def order(frame,var):\n",
    "    varlist =[w for w in frame.columns if w not in var]\n",
    "    frame = frame[var+varlist]\n",
    "    return frame\n",
    "predictions = order(predictions,['Id'])"
   ]
  },
  {
   "cell_type": "code",
   "execution_count": null,
   "metadata": {
    "collapsed": false
   },
   "outputs": [],
   "source": [
    "predictions.to_csv('predictions_XGB2.csv', index=False)"
   ]
  },
  {
   "cell_type": "code",
   "execution_count": null,
   "metadata": {
    "collapsed": true
   },
   "outputs": [],
   "source": [
    "def dummy_to_column(df):\n",
    "    columns = df.columns.values\n",
    "    df_t = df.T\n",
    "    characters = []\n",
    "    for column in range(len(columns)):\n",
    "        for row in range(len(df[columns[column]])):\n",
    "            if df[columns[column]][row] == '1':\n",
    "                df[columns[column]][row] = columns[column]\n",
    "    columns = df_t.columns.values\n",
    "    characters = []\n",
    "    for column in range(len(columns)):\n",
    "        for row in range(len(df_t[columns[column]])):\n",
    "            if df_t[columns[column]][row] in df_t.index:\n",
    "                characters.append(df_t[columns[column]][row])\n",
    "    return characters\n",
    "\n",
    "def prob_to_column(df):\n",
    "    df_t = df.T\n",
    "    columns = df_t.columns.values\n",
    "    probability = []\n",
    "    for column in range(len(columns)):\n",
    "        current_prob = 0\n",
    "        for row in range(len(df_t[columns[column]])):\n",
    "            if df_t[columns[column]][row] > current_prob:\n",
    "                current_prob = df_t[columns[column]][row]\n",
    "        probability.append(current_prob)\n",
    "    n = 0\n",
    "    df_t = df_t.applymap(str)\n",
    "    for column in range(len(columns)):\n",
    "        for row in range(len(df_t[column])):\n",
    "            if df_t[column][row] == str(probability[n]):\n",
    "                df_t[column][row] = '1'\n",
    "        n+=1\n",
    "    return df_t.T"
   ]
  },
  {
   "cell_type": "code",
   "execution_count": null,
   "metadata": {
    "collapsed": true
   },
   "outputs": [],
   "source": [
    "pred_results = pd.DataFrame(dummy_to_column(prob_to_column(pred_test)))"
   ]
  }
 ],
 "metadata": {
  "kernelspec": {
   "display_name": "Python 3",
   "language": "python",
   "name": "python3"
  },
  "language_info": {
   "codemirror_mode": {
    "name": "ipython",
    "version": 3
   },
   "file_extension": ".py",
   "mimetype": "text/x-python",
   "name": "python",
   "nbconvert_exporter": "python",
   "pygments_lexer": "ipython3",
   "version": "3.5.0"
  }
 },
 "nbformat": 4,
 "nbformat_minor": 0
}
