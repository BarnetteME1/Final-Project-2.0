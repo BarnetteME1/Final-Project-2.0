{
 "cells": [
  {
   "cell_type": "code",
   "execution_count": null,
   "metadata": {
    "collapsed": false
   },
   "outputs": [],
   "source": [
    "import pandas as pd\n",
    "import numpy as np\n",
    "import seaborn\n",
    "import matplotlib.pyplot as plt\n",
    "% matplotlib inline"
   ]
  },
  {
   "cell_type": "code",
   "execution_count": null,
   "metadata": {
    "collapsed": false
   },
   "outputs": [],
   "source": [
    "crime_in_sf = pd.read_csv('SF_crime/train.csv')\n",
    "crime_in_sf = crime_in_sf.rename(columns={'X':'Longitude', 'Y':'Latitude'})\n",
    "crime_in_sf.Dates = pd.to_datetime(crime_in_sf.Dates)\n",
    "crime_in_sf = crime_in_sf.drop(['Descript', 'PdDistrict', 'Resolution', 'Address', 'Longitude', 'Latitude'], axis=1)\n",
    "\n",
    "crime_in_sf_day = pd.read_csv('SF_crime/train.csv')\n",
    "crime_in_sf_day = crime_in_sf_day.rename(columns={'X':'Longitude', 'Y':'Latitude'})\n",
    "crime_in_sf_day.Dates = pd.to_datetime(crime_in_sf_day.Dates)\n",
    "\n",
    "test_pred = pd.read_csv('/Users/MatthewBarnette/final_project_predictions/test_results_top_three.csv')\n",
    "test_pred.Dates = pd.to_datetime(test_pred.Dates)\n",
    "\n",
    "test_pred_day = pd.read_csv('/Users/MatthewBarnette/final_project_predictions/test_results_top_three.csv')\n",
    "test_pred_day.Dates = pd.to_datetime(test_pred_day.Dates)"
   ]
  },
  {
   "cell_type": "code",
   "execution_count": null,
   "metadata": {
    "collapsed": true
   },
   "outputs": [],
   "source": [
    "def order(frame,var):\n",
    "    varlist = [w for w in frame.columns if w not in var]\n",
    "    frame = frame[var+varlist]\n",
    "    return frame "
   ]
  },
  {
   "cell_type": "code",
   "execution_count": null,
   "metadata": {
    "collapsed": false
   },
   "outputs": [],
   "source": [
    "category = crime_in_sf.Category"
   ]
  },
  {
   "cell_type": "code",
   "execution_count": null,
   "metadata": {
    "collapsed": true
   },
   "outputs": [],
   "source": [
    "catagory_df = pd.DataFrame(category)"
   ]
  },
  {
   "cell_type": "code",
   "execution_count": null,
   "metadata": {
    "collapsed": true
   },
   "outputs": [],
   "source": [
    "sex_crimes = ['PROSTITUTION', 'SEX OFFENSES NON FORCIBLE', 'SEX OFFENSES FORCIBLE', 'PORNOGRAPHY/OBSCENE MAT']\n",
    "theft = ['BURGLARY', 'ROBBERY', 'STOLEN PROPERTY', 'RECOVERED VEHICLE']\n",
    "misc_lesser = ['WARRANTS', 'NON-CRIMINAL', 'SECONDARY CODES', 'TRESPASS', 'FAMILY OFFENSES', \n",
    "               'LOITERING', 'TREA', 'VANDALISM']\n",
    "most_crimes = ['VEHICLE THEFT', 'LARCENY/THEFT', 'OTHER OFFENSES']\n",
    "violent = ['ASSAULT', 'WEAPON LAWS', 'ARSON', 'SUICIDE']\n",
    "controlled_substances_alchohol = ['DRUNKENNESS', 'LIQUOR LAWS', 'DISORDERLY CONDUCT', 'DRUG/NARCOTIC', 'DRIVING UNDER THE INFLUENCE']\n",
    "missing = ['MISSING PERSON', 'KIDNAPPING', 'RUNAWAY']\n",
    "financial = ['FORGERY/COUNTERFEITING', 'BRIBERY', 'EMBEZZLEMENT', 'EXTORTION', 'GAMBLING', 'FRAUD', 'SUSPICIOUS OCC', 'BAD CHECKS']"
   ]
  },
  {
   "cell_type": "code",
   "execution_count": null,
   "metadata": {
    "collapsed": false
   },
   "outputs": [],
   "source": [
    "test_pred_sex_crimes = test_pred[test_pred['most_likely'].isin(sex_crimes)]\n",
    "test_pred_theft = test_pred[test_pred['most_likely'].isin(theft)]\n",
    "test_pred_misc_lesser = test_pred[test_pred['most_likely'].isin(misc_lesser)]\n",
    "test_pred_violent = test_pred[test_pred['most_likely'].isin(violent)]\n",
    "test_pred_other_offenses = test_pred[test_pred['most_likely'].isin(most_crimes)]\n",
    "test_pred_controlled_substances_alchohol = test_pred[test_pred['most_likely'].isin(controlled_substances_alchohol)]\n",
    "test_pred_missing = test_pred[test_pred['most_likely'].isin(missing)]\n",
    "test_pred_financial = test_pred[test_pred['most_likely'].isin(financial)]"
   ]
  },
  {
   "cell_type": "code",
   "execution_count": null,
   "metadata": {
    "collapsed": false
   },
   "outputs": [],
   "source": [
    "test_pred = test_pred.drop(['PdDistrict','Address', 'Longitude', 'Latitude'], axis=1)\n",
    "test_pred_use = test_pred.drop(['Dates', 'highest_probability', 'second_most_likely', 'second_hightest_prob', 'third_most_likely', 'third_highest_prob'], axis=1)\n",
    "test_pred_use['count'] = 1"
   ]
  },
  {
   "cell_type": "code",
   "execution_count": null,
   "metadata": {
    "collapsed": false
   },
   "outputs": [],
   "source": [
    "test_pred_2015 = test_pred[test_pred.Dates.dt.year == 2015]\n",
    "test_pred_2014 = test_pred[test_pred.Dates.dt.year == 2014]\n",
    "test_pred_2013 = test_pred[test_pred.Dates.dt.year == 2013]\n",
    "test_pred_2012 = test_pred[test_pred.Dates.dt.year == 2012]\n",
    "test_pred_2011 = test_pred[test_pred.Dates.dt.year == 2011]\n",
    "test_pred_2010 = test_pred[test_pred.Dates.dt.year == 2010]\n",
    "test_pred_2009 = test_pred[test_pred.Dates.dt.year == 2009]\n",
    "test_pred_2008 = test_pred[test_pred.Dates.dt.year == 2008]\n",
    "test_pred_2007 = test_pred[test_pred.Dates.dt.year == 2007]\n",
    "test_pred_2006 = test_pred[test_pred.Dates.dt.year == 2006]\n",
    "test_pred_2005 = test_pred[test_pred.Dates.dt.year == 2005]\n",
    "test_pred_2004 = test_pred[test_pred.Dates.dt.year == 2004]\n",
    "test_pred_2003 = test_pred[test_pred.Dates.dt.year == 2003]"
   ]
  },
  {
   "cell_type": "code",
   "execution_count": null,
   "metadata": {
    "collapsed": true
   },
   "outputs": [],
   "source": [
    "crime_in_sf_2015 = crime_in_sf[crime_in_sf.Dates.dt.year == 2015]\n",
    "crime_in_sf_2014 = crime_in_sf[crime_in_sf.Dates.dt.year == 2014]\n",
    "crime_in_sf_2013 = crime_in_sf[crime_in_sf.Dates.dt.year == 2013]\n",
    "crime_in_sf_2012 = crime_in_sf[crime_in_sf.Dates.dt.year == 2012]\n",
    "crime_in_sf_2011 = crime_in_sf[crime_in_sf.Dates.dt.year == 2011]\n",
    "crime_in_sf_2010 = crime_in_sf[crime_in_sf.Dates.dt.year == 2010]\n",
    "crime_in_sf_2009 = crime_in_sf[crime_in_sf.Dates.dt.year == 2009]\n",
    "crime_in_sf_2008 = crime_in_sf[crime_in_sf.Dates.dt.year == 2008]\n",
    "crime_in_sf_2007 = crime_in_sf[crime_in_sf.Dates.dt.year == 2007]\n",
    "crime_in_sf_2006 = crime_in_sf[crime_in_sf.Dates.dt.year == 2006]\n",
    "crime_in_sf_2005 = crime_in_sf[crime_in_sf.Dates.dt.year == 2005]\n",
    "crime_in_sf_2004 = crime_in_sf[crime_in_sf.Dates.dt.year == 2004]\n",
    "crime_in_sf_2003 = crime_in_sf[crime_in_sf.Dates.dt.year == 2003]"
   ]
  },
  {
   "cell_type": "code",
   "execution_count": null,
   "metadata": {
    "collapsed": true
   },
   "outputs": [],
   "source": [
    "test_pred_mon = test_pred[test_pred.DayOfWeek == 'Monday']\n",
    "test_pred_tue = test_pred[test_pred.DayOfWeek == 'Tuesday']\n",
    "test_pred_wed = test_pred[test_pred.DayOfWeek == 'Wednesday']\n",
    "test_pred_thu = test_pred[test_pred.DayOfWeek == 'Thursday']\n",
    "test_pred_fri = test_pred[test_pred.DayOfWeek == 'Friday']\n",
    "test_pred_sat = test_pred[test_pred.DayOfWeek == 'Saturday']\n",
    "test_pred_sun = test_pred[test_pred.DayOfWeek == 'Sunday']"
   ]
  },
  {
   "cell_type": "code",
   "execution_count": null,
   "metadata": {
    "collapsed": true
   },
   "outputs": [],
   "source": [
    "crime_in_sf_mon = crime_in_sf[crime_in_sf.DayOfWeek == 'Monday']\n",
    "crime_in_sf_tue = crime_in_sf[crime_in_sf.DayOfWeek == 'Tuesday']\n",
    "crime_in_sf_wed = crime_in_sf[crime_in_sf.DayOfWeek == 'Wednesday']\n",
    "crime_in_sf_thu = crime_in_sf[crime_in_sf.DayOfWeek == 'Thursday']\n",
    "crime_in_sf_fri = crime_in_sf[crime_in_sf.DayOfWeek == 'Friday']\n",
    "crime_in_sf_sat = crime_in_sf[crime_in_sf.DayOfWeek == 'Saturday']\n",
    "crime_in_sf_sun = crime_in_sf[crime_in_sf.DayOfWeek == 'Sunday']"
   ]
  },
  {
   "cell_type": "code",
   "execution_count": null,
   "metadata": {
    "collapsed": true
   },
   "outputs": [],
   "source": [
    "test_pred_jan = test_pred[test_pred.Dates.dt.month == 1]\n",
    "test_pred_feb = test_pred[test_pred.Dates.dt.month == 2]\n",
    "test_pred_mar = test_pred[test_pred.Dates.dt.month == 3]\n",
    "test_pred_apr = test_pred[test_pred.Dates.dt.month == 4]\n",
    "test_pred_may = test_pred[test_pred.Dates.dt.month == 5]\n",
    "test_pred_jun = test_pred[test_pred.Dates.dt.month == 6]\n",
    "test_pred_jul = test_pred[test_pred.Dates.dt.month == 7]\n",
    "test_pred_aug = test_pred[test_pred.Dates.dt.month == 8]\n",
    "test_pred_sep = test_pred[test_pred.Dates.dt.month == 9]\n",
    "test_pred_oct = test_pred[test_pred.Dates.dt.month == 10]\n",
    "test_pred_nov = test_pred[test_pred.Dates.dt.month == 11]\n",
    "test_pred_dec = test_pred[test_pred.Dates.dt.month == 12]"
   ]
  },
  {
   "cell_type": "code",
   "execution_count": null,
   "metadata": {
    "collapsed": true
   },
   "outputs": [],
   "source": [
    "crime_in_sf_jan = crime_in_sf[crime_in_sf.Dates.dt.month == 1]\n",
    "crime_in_sf_feb = crime_in_sf[crime_in_sf.Dates.dt.month == 2]\n",
    "crime_in_sf_mar = crime_in_sf[crime_in_sf.Dates.dt.month == 3]\n",
    "crime_in_sf_apr = crime_in_sf[crime_in_sf.Dates.dt.month == 4]\n",
    "crime_in_sf_may = crime_in_sf[crime_in_sf.Dates.dt.month == 5]\n",
    "crime_in_sf_jun = crime_in_sf[crime_in_sf.Dates.dt.month == 6]\n",
    "crime_in_sf_jul = crime_in_sf[crime_in_sf.Dates.dt.month == 7]\n",
    "crime_in_sf_aug = crime_in_sf[crime_in_sf.Dates.dt.month == 8]\n",
    "crime_in_sf_sep = crime_in_sf[crime_in_sf.Dates.dt.month == 9]\n",
    "crime_in_sf_oct = crime_in_sf[crime_in_sf.Dates.dt.month == 10]\n",
    "crime_in_sf_nov = crime_in_sf[crime_in_sf.Dates.dt.month == 11]\n",
    "crime_in_sf_dec = crime_in_sf[crime_in_sf.Dates.dt.month == 12]"
   ]
  },
  {
   "cell_type": "code",
   "execution_count": null,
   "metadata": {
    "collapsed": true
   },
   "outputs": [],
   "source": [
    "test_pred_0 = test_pred[test_pred.Dates.dt.hour == 0]\n",
    "test_pred_1 = test_pred[test_pred.Dates.dt.hour == 1]\n",
    "test_pred_2 = test_pred[test_pred.Dates.dt.hour == 2]\n",
    "test_pred_3 = test_pred[test_pred.Dates.dt.hour == 3]\n",
    "test_pred_4 = test_pred[test_pred.Dates.dt.hour == 4]\n",
    "test_pred_5 = test_pred[test_pred.Dates.dt.hour == 5]\n",
    "test_pred_6 = test_pred[test_pred.Dates.dt.hour == 6]\n",
    "test_pred_7 = test_pred[test_pred.Dates.dt.hour == 7]\n",
    "test_pred_8 = test_pred[test_pred.Dates.dt.hour == 8]\n",
    "test_pred_9 = test_pred[test_pred.Dates.dt.hour == 9]\n",
    "test_pred_10 = test_pred[test_pred.Dates.dt.hour == 10]\n",
    "test_pred_11 = test_pred[test_pred.Dates.dt.hour == 11]\n",
    "test_pred_12 = test_pred[test_pred.Dates.dt.hour == 12]\n",
    "test_pred_13 = test_pred[test_pred.Dates.dt.hour == 13]\n",
    "test_pred_14 = test_pred[test_pred.Dates.dt.hour == 14]\n",
    "test_pred_15 = test_pred[test_pred.Dates.dt.hour == 15]\n",
    "test_pred_16 = test_pred[test_pred.Dates.dt.hour == 16]\n",
    "test_pred_17 = test_pred[test_pred.Dates.dt.hour == 17]\n",
    "test_pred_18 = test_pred[test_pred.Dates.dt.hour == 18]\n",
    "test_pred_19 = test_pred[test_pred.Dates.dt.hour == 19]\n",
    "test_pred_20 = test_pred[test_pred.Dates.dt.hour == 20]\n",
    "test_pred_21 = test_pred[test_pred.Dates.dt.hour == 21]\n",
    "test_pred_22 = test_pred[test_pred.Dates.dt.hour == 22]\n",
    "test_pred_23 = test_pred[test_pred.Dates.dt.hour == 23]"
   ]
  },
  {
   "cell_type": "code",
   "execution_count": null,
   "metadata": {
    "collapsed": true
   },
   "outputs": [],
   "source": [
    "crime_in_sf_0 = crime_in_sf[crime_in_sf.Dates.dt.hour == 0]\n",
    "crime_in_sf_1 = crime_in_sf[crime_in_sf.Dates.dt.hour == 1]\n",
    "crime_in_sf_2 = crime_in_sf[crime_in_sf.Dates.dt.hour == 2]\n",
    "crime_in_sf_3 = crime_in_sf[crime_in_sf.Dates.dt.hour == 3]\n",
    "crime_in_sf_4 = crime_in_sf[crime_in_sf.Dates.dt.hour == 4]\n",
    "crime_in_sf_5 = crime_in_sf[crime_in_sf.Dates.dt.hour == 5]\n",
    "crime_in_sf_6 = crime_in_sf[crime_in_sf.Dates.dt.hour == 6]\n",
    "crime_in_sf_7 = crime_in_sf[crime_in_sf.Dates.dt.hour == 7]\n",
    "crime_in_sf_8 = crime_in_sf[crime_in_sf.Dates.dt.hour == 8]\n",
    "crime_in_sf_9 = crime_in_sf[crime_in_sf.Dates.dt.hour == 9]\n",
    "crime_in_sf_10 = crime_in_sf[crime_in_sf.Dates.dt.hour == 10]\n",
    "crime_in_sf_11 = crime_in_sf[crime_in_sf.Dates.dt.hour == 11]\n",
    "crime_in_sf_12 = crime_in_sf[crime_in_sf.Dates.dt.hour == 12]\n",
    "crime_in_sf_13 = crime_in_sf[crime_in_sf.Dates.dt.hour == 13]\n",
    "crime_in_sf_14 = crime_in_sf[crime_in_sf.Dates.dt.hour == 14]\n",
    "crime_in_sf_15 = crime_in_sf[crime_in_sf.Dates.dt.hour == 15]\n",
    "crime_in_sf_16 = crime_in_sf[crime_in_sf.Dates.dt.hour == 16]\n",
    "crime_in_sf_17 = crime_in_sf[crime_in_sf.Dates.dt.hour == 17]\n",
    "crime_in_sf_18 = crime_in_sf[crime_in_sf.Dates.dt.hour == 18]\n",
    "crime_in_sf_19 = crime_in_sf[crime_in_sf.Dates.dt.hour == 19]\n",
    "crime_in_sf_20 = crime_in_sf[crime_in_sf.Dates.dt.hour == 20]\n",
    "crime_in_sf_21 = crime_in_sf[crime_in_sf.Dates.dt.hour == 21]\n",
    "crime_in_sf_22 = crime_in_sf[crime_in_sf.Dates.dt.hour == 22]\n",
    "crime_in_sf_23 = crime_in_sf[crime_in_sf.Dates.dt.hour == 23]"
   ]
  },
  {
   "cell_type": "code",
   "execution_count": null,
   "metadata": {
    "collapsed": false
   },
   "outputs": [],
   "source": [
    "test_pred_6 = test_pred_6.drop(['DayOfWeek', 'Dates', 'highest_probability', 'second_most_likely', 'second_hightest_prob', 'third_most_likely', 'third_highest_prob'], axis=1)\n",
    "test_pred_6 = pd.DataFrame((pd.get_dummies(test_pred_6, columns = ['most_likely'], prefix='',prefix_sep='')).sum())\n",
    "test_pred_6 = test_pred_6.rename(columns={0:'06'})\n",
    "\n",
    "test_pred_7 = test_pred_7.drop(['DayOfWeek', 'Dates', 'highest_probability', 'second_most_likely', 'second_hightest_prob', 'third_most_likely', 'third_highest_prob'], axis=1)\n",
    "test_pred_7 = pd.DataFrame((pd.get_dummies(test_pred_7, columns = ['most_likely'], prefix='',prefix_sep='')).sum())\n",
    "test_pred_7 = test_pred_7.rename(columns={0:'07'})\n",
    "\n",
    "test_pred_8 = test_pred_8.drop(['DayOfWeek', 'Dates', 'highest_probability', 'second_most_likely', 'second_hightest_prob', 'third_most_likely', 'third_highest_prob'], axis=1)\n",
    "test_pred_8 = pd.DataFrame((pd.get_dummies(test_pred_8, columns = ['most_likely'], prefix='',prefix_sep='')).sum())\n",
    "test_pred_8 = test_pred_8.rename(columns={0:'08'})\n",
    "\n",
    "test_pred_9 = test_pred_9.drop(['DayOfWeek', 'Dates', 'highest_probability', 'second_most_likely', 'second_hightest_prob', 'third_most_likely', 'third_highest_prob'], axis=1)\n",
    "test_pred_9 = pd.DataFrame((pd.get_dummies(test_pred_9, columns = ['most_likely'], prefix='',prefix_sep='')).sum())\n",
    "test_pred_9 = test_pred_9.rename(columns={0:'09'})\n",
    "\n",
    "test_pred_10 = test_pred_10.drop(['DayOfWeek', 'Dates', 'highest_probability', 'second_most_likely', 'second_hightest_prob', 'third_most_likely', 'third_highest_prob'], axis=1)\n",
    "test_pred_10 = pd.DataFrame((pd.get_dummies(test_pred_10, columns = ['most_likely'], prefix='',prefix_sep='')).sum())\n",
    "test_pred_10 = test_pred_10.rename(columns={0:'10'})\n",
    "\n",
    "test_pred_11 = test_pred_11.drop(['DayOfWeek', 'Dates', 'highest_probability', 'second_most_likely', 'second_hightest_prob', 'third_most_likely', 'third_highest_prob'], axis=1)\n",
    "test_pred_11 = pd.DataFrame((pd.get_dummies(test_pred_11, columns = ['most_likely'], prefix='',prefix_sep='')).sum())\n",
    "test_pred_11 = test_pred_11.rename(columns={0:'11'})\n",
    "\n",
    "test_pred_12 = test_pred_12.drop(['DayOfWeek', 'Dates', 'highest_probability', 'second_most_likely', 'second_hightest_prob', 'third_most_likely', 'third_highest_prob'], axis=1)\n",
    "test_pred_12 = pd.DataFrame((pd.get_dummies(test_pred_12, columns = ['most_likely'], prefix='',prefix_sep='')).sum())\n",
    "test_pred_12 = test_pred_12.rename(columns={0:'12'})\n",
    "\n",
    "test_pred_13 = test_pred_13.drop(['DayOfWeek', 'Dates', 'highest_probability', 'second_most_likely', 'second_hightest_prob', 'third_most_likely', 'third_highest_prob'], axis=1)\n",
    "test_pred_13 = pd.DataFrame((pd.get_dummies(test_pred_13, columns = ['most_likely'], prefix='',prefix_sep='')).sum())\n",
    "test_pred_13 = test_pred_13.rename(columns={0:'13'})\n",
    "\n",
    "test_pred_14 = test_pred_14.drop(['DayOfWeek', 'Dates', 'highest_probability', 'second_most_likely', 'second_hightest_prob', 'third_most_likely', 'third_highest_prob'], axis=1)\n",
    "test_pred_14 = pd.DataFrame((pd.get_dummies(test_pred_14, columns = ['most_likely'], prefix='',prefix_sep='')).sum())\n",
    "test_pred_14 = test_pred_14.rename(columns={0:'14'})\n",
    "\n",
    "test_pred_15 = test_pred_15.drop(['DayOfWeek', 'Dates', 'highest_probability', 'second_most_likely', 'second_hightest_prob', 'third_most_likely', 'third_highest_prob'], axis=1)\n",
    "test_pred_15 = pd.DataFrame((pd.get_dummies(test_pred_15, columns = ['most_likely'], prefix='',prefix_sep='')).sum())\n",
    "test_pred_15 = test_pred_15.rename(columns={0:'15'})\n",
    "\n",
    "test_pred_16 = test_pred_16.drop(['DayOfWeek', 'Dates', 'highest_probability', 'second_most_likely', 'second_hightest_prob', 'third_most_likely', 'third_highest_prob'], axis=1)\n",
    "test_pred_16 = pd.DataFrame((pd.get_dummies(test_pred_16, columns = ['most_likely'], prefix='',prefix_sep='')).sum())\n",
    "test_pred_16 = test_pred_16.rename(columns={0:'16'})\n",
    "\n",
    "test_pred_17 = test_pred_17.drop(['DayOfWeek', 'Dates', 'highest_probability', 'second_most_likely', 'second_hightest_prob', 'third_most_likely', 'third_highest_prob'], axis=1)\n",
    "test_pred_17 = pd.DataFrame((pd.get_dummies(test_pred_17, columns = ['most_likely'], prefix='',prefix_sep='')).sum())\n",
    "test_pred_17 = test_pred_17.rename(columns={0:'17'})\n",
    "\n",
    "test_pred_18 = test_pred_18.drop(['DayOfWeek', 'Dates', 'highest_probability', 'second_most_likely', 'second_hightest_prob', 'third_most_likely', 'third_highest_prob'], axis=1)\n",
    "test_pred_18 = pd.DataFrame((pd.get_dummies(test_pred_18, columns = ['most_likely'], prefix='',prefix_sep='')).sum())\n",
    "test_pred_18 = test_pred_18.rename(columns={0:'18'})"
   ]
  },
  {
   "cell_type": "code",
   "execution_count": null,
   "metadata": {
    "collapsed": false
   },
   "outputs": [],
   "source": [
    "crime_in_sf_6 = crime_in_sf_6.drop(['DayOfWeek', 'Dates'], axis=1)\n",
    "crime_in_sf_6 = pd.DataFrame((pd.get_dummies(crime_in_sf_6, columns = ['Category'], prefix='',prefix_sep='')).sum())\n",
    "crime_in_sf_6 = crime_in_sf_6.rename(columns={0:'06'})\n",
    "\n",
    "crime_in_sf_7 = crime_in_sf_7.drop(['DayOfWeek', 'Dates'], axis=1)\n",
    "crime_in_sf_7 = pd.DataFrame((pd.get_dummies(crime_in_sf_7, columns = ['Category'], prefix='',prefix_sep='')).sum())\n",
    "crime_in_sf_7 = crime_in_sf_7.rename(columns={0:'07'})\n",
    "\n",
    "crime_in_sf_8 = crime_in_sf_8.drop(['DayOfWeek', 'Dates'], axis=1)\n",
    "crime_in_sf_8 = pd.DataFrame((pd.get_dummies(crime_in_sf_8, columns = ['Category'], prefix='',prefix_sep='')).sum())\n",
    "crime_in_sf_8 = crime_in_sf_8.rename(columns={0:'08'})\n",
    "\n",
    "crime_in_sf_9 = crime_in_sf_9.drop(['DayOfWeek', 'Dates'], axis=1)\n",
    "crime_in_sf_9 = pd.DataFrame((pd.get_dummies(crime_in_sf_9, columns = ['Category'], prefix='',prefix_sep='')).sum())\n",
    "crime_in_sf_9 = crime_in_sf_9.rename(columns={0:'09'})\n",
    "\n",
    "crime_in_sf_10 = crime_in_sf_10.drop(['DayOfWeek', 'Dates'], axis=1)\n",
    "crime_in_sf_10 = pd.DataFrame((pd.get_dummies(crime_in_sf_10, columns = ['Category'], prefix='',prefix_sep='')).sum())\n",
    "crime_in_sf_10 = crime_in_sf_10.rename(columns={0:'10'})\n",
    "\n",
    "crime_in_sf_11 = crime_in_sf_11.drop(['DayOfWeek', 'Dates'], axis=1)\n",
    "crime_in_sf_11 = pd.DataFrame((pd.get_dummies(crime_in_sf_11, columns = ['Category'], prefix='',prefix_sep='')).sum())\n",
    "crime_in_sf_11 = crime_in_sf_11.rename(columns={0:'11'})\n",
    "\n",
    "crime_in_sf_12 = crime_in_sf_12.drop(['DayOfWeek', 'Dates'], axis=1)\n",
    "crime_in_sf_12 = pd.DataFrame((pd.get_dummies(crime_in_sf_12, columns = ['Category'], prefix='',prefix_sep='')).sum())\n",
    "crime_in_sf_12 = crime_in_sf_12.rename(columns={0:'12'})\n",
    "\n",
    "crime_in_sf_13 = crime_in_sf_13.drop(['DayOfWeek', 'Dates'], axis=1)\n",
    "crime_in_sf_13 = pd.DataFrame((pd.get_dummies(crime_in_sf_13, columns = ['Category'], prefix='',prefix_sep='')).sum())\n",
    "crime_in_sf_13 = crime_in_sf_13.rename(columns={0:'13'})\n",
    "\n",
    "crime_in_sf_14 = crime_in_sf_14.drop(['DayOfWeek', 'Dates'], axis=1)\n",
    "crime_in_sf_14 = pd.DataFrame((pd.get_dummies(crime_in_sf_14, columns = ['Category'], prefix='',prefix_sep='')).sum())\n",
    "crime_in_sf_14 = crime_in_sf_14.rename(columns={0:'14'})\n",
    "\n",
    "crime_in_sf_15 = crime_in_sf_15.drop(['DayOfWeek', 'Dates'], axis=1)\n",
    "crime_in_sf_15 = pd.DataFrame((pd.get_dummies(crime_in_sf_15, columns = ['Category'], prefix='',prefix_sep='')).sum())\n",
    "crime_in_sf_15 = crime_in_sf_15.rename(columns={0:'15'})\n",
    "\n",
    "crime_in_sf_16 = crime_in_sf_16.drop(['DayOfWeek', 'Dates'], axis=1)\n",
    "crime_in_sf_16 = pd.DataFrame((pd.get_dummies(crime_in_sf_16, columns = ['Category'], prefix='',prefix_sep='')).sum())\n",
    "crime_in_sf_16 = crime_in_sf_16.rename(columns={0:'16'})\n",
    "\n",
    "crime_in_sf_17 = crime_in_sf_17.drop(['DayOfWeek', 'Dates'], axis=1)\n",
    "crime_in_sf_17 = pd.DataFrame((pd.get_dummies(crime_in_sf_17, columns = ['Category'], prefix='',prefix_sep='')).sum())\n",
    "crime_in_sf_17 = crime_in_sf_17.rename(columns={0:'17'})\n",
    "\n",
    "crime_in_sf_18 = crime_in_sf_18.drop(['DayOfWeek', 'Dates'], axis=1)\n",
    "crime_in_sf_18 = pd.DataFrame((pd.get_dummies(crime_in_sf_18, columns = ['Category'], prefix='',prefix_sep='')).sum())\n",
    "crime_in_sf_18 = crime_in_sf_18.rename(columns={0:'18'})"
   ]
  },
  {
   "cell_type": "code",
   "execution_count": null,
   "metadata": {
    "collapsed": true
   },
   "outputs": [],
   "source": [
    "test_pred_day = test_pred_6.join(test_pred_7, how='outer').join(test_pred_8, how='outer').join(test_pred_9, how='outer').join(test_pred_10, how='outer').join(test_pred_11, how='outer').join(test_pred_12, how='outer').join(test_pred_13, how='outer').join(test_pred_14, how='outer').join(test_pred_15, how='outer').join(test_pred_16, how='outer').join(test_pred_17, how='outer').join(test_pred_18, how='outer')\n",
    "test_pred_day = test_pred_day.fillna(0)"
   ]
  },
  {
   "cell_type": "code",
   "execution_count": null,
   "metadata": {
    "collapsed": true
   },
   "outputs": [],
   "source": [
    "crime_in_sf_day = crime_in_sf_6.join(crime_in_sf_7, how='outer').join(crime_in_sf_8, how='outer').join(crime_in_sf_9, how='outer').join(crime_in_sf_10, how='outer').join(crime_in_sf_11, how='outer').join(crime_in_sf_12, how='outer').join(crime_in_sf_13, how='outer').join(crime_in_sf_14, how='outer').join(crime_in_sf_15, how='outer').join(crime_in_sf_16, how='outer').join(crime_in_sf_17, how='outer').join(crime_in_sf_18, how='outer')\n",
    "crime_in_sf_day = crime_in_sf_day.fillna(0)"
   ]
  },
  {
   "cell_type": "code",
   "execution_count": null,
   "metadata": {
    "collapsed": true
   },
   "outputs": [],
   "source": [
    "test_pred_day_high = test_pred_day.drop(['ARSON', 'BURGLARY', 'DISORDERLY CONDUCT', 'DRUNKENNESS', 'EMBEZZLEMENT', 'FRAUD', 'GAMBLING', 'KIDNAPPING', 'MISSING PERSON', 'PROSTITUTION', 'ROBBERY', 'SECONDARY CODES', 'SEX OFFENSES FORCIBLE', 'SUSPICIOUS OCC', 'TRESPASS', 'VANDALISM', 'WARRANTS', 'WEAPON LAWS', 'FORGERY/COUNTERFEITING', 'RUNAWAY', 'LIQUOR LAWS', 'EXTORTION', 'FAMILY OFFENSES', 'RECOVERED VEHICLE', 'LOITERING', 'DRIVING UNDER THE INFLUENCE', 'STOLEN PROPERTY', 'SUICIDE', 'BRIBERY', 'SEX OFFENSES NON FORCIBLE', 'BAD CHECKS'])\n",
    "test_pred_day_medium = test_pred_day.drop(['ASSAULT', 'DRUG/NARCOTIC', 'LARCENY/THEFT', 'NON-CRIMINAL', 'OTHER OFFENSES', 'VEHICLE THEFT', 'ARSON', 'DISORDERLY CONDUCT', 'DRUNKENNESS', 'EMBEZZLEMENT', 'FRAUD', 'GAMBLING', 'KIDNAPPING', 'ROBBERY', 'SECONDARY CODES', 'SEX OFFENSES FORCIBLE', 'SUSPICIOUS OCC', 'TRESPASS', 'WEAPON LAWS', 'FORGERY/COUNTERFEITING', 'RUNAWAY', 'LIQUOR LAWS', 'EXTORTION', 'FAMILY OFFENSES', 'RECOVERED VEHICLE', 'LOITERING', 'DRIVING UNDER THE INFLUENCE', 'STOLEN PROPERTY', 'SUICIDE', 'BRIBERY', 'SEX OFFENSES NON FORCIBLE', 'BAD CHECKS'])\n",
    "test_pred_day_low = test_pred_day.drop(['ASSAULT', 'BURGLARY', 'DRUG/NARCOTIC', 'LARCENY/THEFT', 'NON-CRIMINAL', 'OTHER OFFENSES', 'VEHICLE THEFT', 'MISSING PERSON', 'PROSTITUTION', 'VANDALISM', 'WARRANTS'], axis=0)"
   ]
  },
  {
   "cell_type": "code",
   "execution_count": null,
   "metadata": {
    "collapsed": false
   },
   "outputs": [],
   "source": [
    "crime_in_sf_day_high = crime_in_sf_day.drop(['ARSON', 'BURGLARY', 'DISORDERLY CONDUCT', 'DRUNKENNESS', 'EMBEZZLEMENT', 'FRAUD', 'GAMBLING', 'KIDNAPPING', 'MISSING PERSON', 'PROSTITUTION', 'ROBBERY', 'SECONDARY CODES', 'SEX OFFENSES FORCIBLE', 'SUSPICIOUS OCC', 'TRESPASS', 'VANDALISM', 'WARRANTS', 'WEAPON LAWS', 'FORGERY/COUNTERFEITING', 'RUNAWAY', 'LIQUOR LAWS', 'EXTORTION', 'FAMILY OFFENSES', 'RECOVERED VEHICLE', 'LOITERING', 'DRIVING UNDER THE INFLUENCE', 'STOLEN PROPERTY', 'SUICIDE', 'BRIBERY', 'SEX OFFENSES NON FORCIBLE', 'BAD CHECKS', 'TREA', 'PORNOGRAPHY/OBSCENE MAT'])\n",
    "crime_in_sf_day_medium = crime_in_sf_day.drop(['ASSAULT', 'DRUG/NARCOTIC', 'LARCENY/THEFT', 'NON-CRIMINAL', 'OTHER OFFENSES', 'VEHICLE THEFT', 'ARSON', 'DISORDERLY CONDUCT', 'DRUNKENNESS', 'EMBEZZLEMENT', 'FRAUD', 'GAMBLING', 'KIDNAPPING', 'ROBBERY', 'SECONDARY CODES', 'SEX OFFENSES FORCIBLE', 'SUSPICIOUS OCC', 'TRESPASS', 'WEAPON LAWS', 'FORGERY/COUNTERFEITING', 'RUNAWAY', 'LIQUOR LAWS', 'EXTORTION', 'FAMILY OFFENSES', 'RECOVERED VEHICLE', 'LOITERING', 'DRIVING UNDER THE INFLUENCE', 'STOLEN PROPERTY', 'SUICIDE', 'BRIBERY', 'SEX OFFENSES NON FORCIBLE', 'BAD CHECKS', 'TREA', 'PORNOGRAPHY/OBSCENE MAT'])\n",
    "crime_in_sf_day_low = crime_in_sf_day.drop(['ASSAULT', 'BURGLARY', 'DRUG/NARCOTIC', 'LARCENY/THEFT', 'NON-CRIMINAL', 'OTHER OFFENSES', 'VEHICLE THEFT', 'MISSING PERSON', 'PROSTITUTION', 'VANDALISM', 'WARRANTS'], axis=0)"
   ]
  },
  {
   "cell_type": "code",
   "execution_count": null,
   "metadata": {
    "collapsed": false
   },
   "outputs": [],
   "source": [
    "test_pred_19 = test_pred_19.drop(['DayOfWeek', 'Dates', 'highest_probability', 'second_most_likely', 'second_hightest_prob', 'third_most_likely', 'third_highest_prob'], axis=1)\n",
    "test_pred_19 = pd.DataFrame((pd.get_dummies(test_pred_19, columns = ['most_likely'], prefix='',prefix_sep='')).sum())\n",
    "test_pred_19 = test_pred_19.rename(columns={0:'19'})\n",
    "\n",
    "test_pred_20 = test_pred_20.drop(['DayOfWeek', 'Dates', 'highest_probability', 'second_most_likely', 'second_hightest_prob', 'third_most_likely', 'third_highest_prob'], axis=1)\n",
    "test_pred_20 = pd.DataFrame((pd.get_dummies(test_pred_20, columns = ['most_likely'], prefix='',prefix_sep='')).sum())\n",
    "test_pred_20 = test_pred_20.rename(columns={0:'20'})\n",
    "\n",
    "test_pred_21 = test_pred_21.drop(['DayOfWeek', 'Dates', 'highest_probability', 'second_most_likely', 'second_hightest_prob', 'third_most_likely', 'third_highest_prob'], axis=1)\n",
    "test_pred_21 = pd.DataFrame((pd.get_dummies(test_pred_21, columns = ['most_likely'], prefix='',prefix_sep='')).sum())\n",
    "test_pred_21 = test_pred_21.rename(columns={0:'21'})\n",
    "\n",
    "test_pred_22 = test_pred_22.drop(['DayOfWeek', 'Dates', 'highest_probability', 'second_most_likely', 'second_hightest_prob', 'third_most_likely', 'third_highest_prob'], axis=1)\n",
    "test_pred_22 = pd.DataFrame((pd.get_dummies(test_pred_22, columns = ['most_likely'], prefix='',prefix_sep='')).sum())\n",
    "test_pred_22 = test_pred_22.rename(columns={0:'22'})\n",
    "\n",
    "test_pred_23 = test_pred_23.drop(['DayOfWeek', 'Dates', 'highest_probability', 'second_most_likely', 'second_hightest_prob', 'third_most_likely', 'third_highest_prob'], axis=1)\n",
    "test_pred_23 = pd.DataFrame((pd.get_dummies(test_pred_23, columns = ['most_likely'], prefix='',prefix_sep='')).sum())\n",
    "test_pred_23 = test_pred_23.rename(columns={0:'23'})\n",
    "\n",
    "test_pred_0 = test_pred_0.drop(['DayOfWeek', 'Dates', 'highest_probability', 'second_most_likely', 'second_hightest_prob', 'third_most_likely', 'third_highest_prob'], axis=1)\n",
    "test_pred_0 = pd.DataFrame((pd.get_dummies(test_pred_0, columns = ['most_likely'], prefix='',prefix_sep='')).sum())\n",
    "test_pred_0 = test_pred_0.rename(columns={0:'00'})\n",
    "\n",
    "test_pred_1 = test_pred_1.drop(['DayOfWeek', 'Dates', 'highest_probability', 'second_most_likely', 'second_hightest_prob', 'third_most_likely', 'third_highest_prob'], axis=1)\n",
    "test_pred_1 = pd.DataFrame((pd.get_dummies(test_pred_1, columns = ['most_likely'], prefix='',prefix_sep='')).sum())\n",
    "test_pred_1 = test_pred_1.rename(columns={0:'01'})\n",
    "\n",
    "test_pred_2 = test_pred_2.drop(['DayOfWeek', 'Dates', 'highest_probability', 'second_most_likely', 'second_hightest_prob', 'third_most_likely', 'third_highest_prob'], axis=1)\n",
    "test_pred_2 = pd.DataFrame((pd.get_dummies(test_pred_2, columns = ['most_likely'], prefix='',prefix_sep='')).sum())\n",
    "test_pred_2 = test_pred_2.rename(columns={0:'02'})\n",
    "\n",
    "test_pred_3 = test_pred_3.drop(['DayOfWeek', 'Dates', 'highest_probability', 'second_most_likely', 'second_hightest_prob', 'third_most_likely', 'third_highest_prob'], axis=1)\n",
    "test_pred_3 = pd.DataFrame((pd.get_dummies(test_pred_3, columns = ['most_likely'], prefix='',prefix_sep='')).sum())\n",
    "test_pred_3 = test_pred_3.rename(columns={0:'03'})\n",
    "\n",
    "test_pred_4 = test_pred_4.drop(['DayOfWeek', 'Dates', 'highest_probability', 'second_most_likely', 'second_hightest_prob', 'third_most_likely', 'third_highest_prob'], axis=1)\n",
    "test_pred_4 = pd.DataFrame((pd.get_dummies(test_pred_4, columns = ['most_likely'], prefix='',prefix_sep='')).sum())\n",
    "test_pred_4 = test_pred_4.rename(columns={0:'04'})\n",
    "\n",
    "test_pred_5 = test_pred_5.drop(['DayOfWeek', 'Dates', 'highest_probability', 'second_most_likely', 'second_hightest_prob', 'third_most_likely', 'third_highest_prob'], axis=1)\n",
    "test_pred_5 = pd.DataFrame((pd.get_dummies(test_pred_5, columns = ['most_likely'], prefix='',prefix_sep='')).sum())\n",
    "test_pred_5 = test_pred_5.rename(columns={0:'05'})"
   ]
  },
  {
   "cell_type": "code",
   "execution_count": null,
   "metadata": {
    "collapsed": true
   },
   "outputs": [],
   "source": [
    "crime_in_sf_19 = crime_in_sf_19.drop(['DayOfWeek', 'Dates'], axis=1)\n",
    "crime_in_sf_19 = pd.DataFrame((pd.get_dummies(crime_in_sf_19, columns = ['Category'], prefix='',prefix_sep='')).sum())\n",
    "crime_in_sf_19 = crime_in_sf_19.rename(columns={0:'19'})\n",
    "\n",
    "crime_in_sf_20 = crime_in_sf_20.drop(['DayOfWeek', 'Dates'], axis=1)\n",
    "crime_in_sf_20 = pd.DataFrame((pd.get_dummies(crime_in_sf_20, columns = ['Category'], prefix='',prefix_sep='')).sum())\n",
    "crime_in_sf_20 = crime_in_sf_20.rename(columns={0:'20'})\n",
    "\n",
    "crime_in_sf_21 = crime_in_sf_21.drop(['DayOfWeek', 'Dates'], axis=1)\n",
    "crime_in_sf_21 = pd.DataFrame((pd.get_dummies(crime_in_sf_21, columns = ['Category'], prefix='',prefix_sep='')).sum())\n",
    "crime_in_sf_21 = crime_in_sf_21.rename(columns={0:'21'})\n",
    "\n",
    "crime_in_sf_22 = crime_in_sf_22.drop(['DayOfWeek', 'Dates'], axis=1)\n",
    "crime_in_sf_22 = pd.DataFrame((pd.get_dummies(crime_in_sf_22, columns = ['Category'], prefix='',prefix_sep='')).sum())\n",
    "crime_in_sf_22 = crime_in_sf_22.rename(columns={0:'22'})\n",
    "\n",
    "crime_in_sf_23 = crime_in_sf_23.drop(['DayOfWeek', 'Dates'], axis=1)\n",
    "crime_in_sf_23 = pd.DataFrame((pd.get_dummies(crime_in_sf_23, columns = ['Category'], prefix='',prefix_sep='')).sum())\n",
    "crime_in_sf_23 = crime_in_sf_23.rename(columns={0:'23'})\n",
    "\n",
    "crime_in_sf_0 = crime_in_sf_0.drop(['DayOfWeek', 'Dates'], axis=1)\n",
    "crime_in_sf_0 = pd.DataFrame((pd.get_dummies(crime_in_sf_0, columns = ['Category'], prefix='',prefix_sep='')).sum())\n",
    "crime_in_sf_0 = crime_in_sf_0.rename(columns={0:'00'})\n",
    "\n",
    "crime_in_sf_1 = crime_in_sf_1.drop(['DayOfWeek', 'Dates'], axis=1)\n",
    "crime_in_sf_1 = pd.DataFrame((pd.get_dummies(crime_in_sf_1, columns = ['Category'], prefix='',prefix_sep='')).sum())\n",
    "crime_in_sf_1 = crime_in_sf_1.rename(columns={0:'01'})\n",
    "\n",
    "crime_in_sf_2 = crime_in_sf_2.drop(['DayOfWeek', 'Dates'], axis=1)\n",
    "crime_in_sf_2 = pd.DataFrame((pd.get_dummies(crime_in_sf_2, columns = ['Category'], prefix='',prefix_sep='')).sum())\n",
    "crime_in_sf_2 = crime_in_sf_2.rename(columns={0:'02'})\n",
    "\n",
    "crime_in_sf_3 = crime_in_sf_3.drop(['DayOfWeek', 'Dates'], axis=1)\n",
    "crime_in_sf_3 = pd.DataFrame((pd.get_dummies(crime_in_sf_3, columns = ['Category'], prefix='',prefix_sep='')).sum())\n",
    "crime_in_sf_3 = crime_in_sf_3.rename(columns={0:'03'})\n",
    "\n",
    "crime_in_sf_4 = crime_in_sf_4.drop(['DayOfWeek', 'Dates'], axis=1)\n",
    "crime_in_sf_4 = pd.DataFrame((pd.get_dummies(crime_in_sf_4, columns = ['Category'], prefix='',prefix_sep='')).sum())\n",
    "crime_in_sf_4 = crime_in_sf_4.rename(columns={0:'04'})\n",
    "\n",
    "crime_in_sf_5 = crime_in_sf_5.drop(['DayOfWeek', 'Dates'], axis=1)\n",
    "crime_in_sf_5 = pd.DataFrame((pd.get_dummies(crime_in_sf_5, columns = ['Category'], prefix='',prefix_sep='')).sum())\n",
    "crime_in_sf_5 = crime_in_sf_5.rename(columns={0:'05'})"
   ]
  },
  {
   "cell_type": "code",
   "execution_count": null,
   "metadata": {
    "collapsed": true
   },
   "outputs": [],
   "source": [
    "test_pred_night = test_pred_19.join(test_pred_20, how='outer').join(test_pred_21, how='outer').join(test_pred_22, how='outer').join(test_pred_23, how='outer').join(test_pred_0, how='outer').join(test_pred_1, how='outer').join(test_pred_2, how='outer').join(test_pred_3, how='outer').join(test_pred_4, how='outer').join(test_pred_5, how='outer')\n",
    "test_pred_night = test_pred_night.fillna(0)\n",
    "test_pred_night = test_pred_night.reset_index()\n",
    "test_pred_night = test_pred_night.rename(columns={'index':'Category'})\n",
    "missing_crime = pd.DataFrame(['STOLEN PROPERTY', 'BRIBERY'])\n",
    "missing_crime = missing_crime.rename(columns={0:'Category'})\n",
    "test_pred_night = test_pred_night.append(missing_crime)\n",
    "test_pred_night = test_pred_night.fillna(0)\n",
    "test_pred_night.index = test_pred_night.pop('Category')"
   ]
  },
  {
   "cell_type": "code",
   "execution_count": null,
   "metadata": {
    "collapsed": false
   },
   "outputs": [],
   "source": [
    "crime_in_sf_night = crime_in_sf_19.join(crime_in_sf_20, how='outer').join(crime_in_sf_21, how='outer').join(crime_in_sf_22, how='outer').join(crime_in_sf_23, how='outer').join(crime_in_sf_0, how='outer').join(crime_in_sf_1, how='outer').join(crime_in_sf_2, how='outer').join(crime_in_sf_3, how='outer').join(crime_in_sf_4, how='outer').join(crime_in_sf_5, how='outer')\n",
    "crime_in_sf_night = crime_in_sf_night.fillna(0)\n",
    "crime_in_sf_night = crime_in_sf_night.reset_index()\n",
    "crime_in_sf_night = crime_in_sf_night.rename(columns={'index':'Category'})\n",
    "missing_crime = pd.DataFrame(['STOLEN PROPERTY', 'BRIBERY'])\n",
    "missing_crime = missing_crime.rename(columns={0:'Category'})\n",
    "crime_in_sf_night = crime_in_sf_night.append(missing_crime)\n",
    "crime_in_sf_night = crime_in_sf_night.fillna(0)\n",
    "crime_in_sf_night.index = crime_in_sf_night.pop('Category')"
   ]
  },
  {
   "cell_type": "code",
   "execution_count": null,
   "metadata": {
    "collapsed": true
   },
   "outputs": [],
   "source": [
    "test_pred_night_high = test_pred_night.drop(['ARSON', 'BURGLARY', 'DISORDERLY CONDUCT', 'DRUNKENNESS', 'EMBEZZLEMENT', 'FRAUD', 'GAMBLING', 'KIDNAPPING', 'MISSING PERSON', 'PROSTITUTION', 'ROBBERY', 'SECONDARY CODES', 'SEX OFFENSES FORCIBLE', 'SUSPICIOUS OCC', 'TRESPASS', 'VANDALISM', 'WARRANTS', 'WEAPON LAWS', 'FORGERY/COUNTERFEITING', 'RUNAWAY', 'LIQUOR LAWS', 'EXTORTION', 'FAMILY OFFENSES', 'RECOVERED VEHICLE', 'LOITERING', 'DRIVING UNDER THE INFLUENCE', 'STOLEN PROPERTY', 'SUICIDE', 'BRIBERY', 'SEX OFFENSES NON FORCIBLE', 'BAD CHECKS'])\n",
    "test_pred_night_medium = test_pred_night.drop(['ASSAULT', 'DRUG/NARCOTIC', 'LARCENY/THEFT', 'NON-CRIMINAL', 'OTHER OFFENSES', 'VEHICLE THEFT', 'ARSON', 'DISORDERLY CONDUCT', 'DRUNKENNESS', 'EMBEZZLEMENT', 'FRAUD', 'GAMBLING', 'KIDNAPPING', 'ROBBERY', 'SECONDARY CODES', 'SEX OFFENSES FORCIBLE', 'SUSPICIOUS OCC', 'TRESPASS', 'WEAPON LAWS', 'FORGERY/COUNTERFEITING', 'RUNAWAY', 'LIQUOR LAWS', 'EXTORTION', 'FAMILY OFFENSES', 'RECOVERED VEHICLE', 'LOITERING', 'DRIVING UNDER THE INFLUENCE', 'STOLEN PROPERTY', 'SUICIDE', 'BRIBERY', 'SEX OFFENSES NON FORCIBLE', 'BAD CHECKS'])\n",
    "test_pred_night_low = test_pred_night.drop(['ASSAULT', 'BURGLARY', 'DRUG/NARCOTIC', 'LARCENY/THEFT', 'NON-CRIMINAL', 'OTHER OFFENSES', 'VEHICLE THEFT', 'MISSING PERSON', 'PROSTITUTION', 'VANDALISM', 'WARRANTS'], axis=0)"
   ]
  },
  {
   "cell_type": "code",
   "execution_count": null,
   "metadata": {
    "collapsed": false
   },
   "outputs": [],
   "source": [
    "crime_in_sf_night_high = crime_in_sf_night.drop(['ARSON', 'BURGLARY', 'DISORDERLY CONDUCT', 'DRUNKENNESS', 'EMBEZZLEMENT', 'FRAUD', 'GAMBLING', 'KIDNAPPING', 'MISSING PERSON', 'PROSTITUTION', 'ROBBERY', 'SECONDARY CODES', 'SEX OFFENSES FORCIBLE', 'SUSPICIOUS OCC', 'TRESPASS', 'VANDALISM', 'WARRANTS', 'WEAPON LAWS', 'FORGERY/COUNTERFEITING', 'RUNAWAY', 'LIQUOR LAWS', 'EXTORTION', 'FAMILY OFFENSES', 'RECOVERED VEHICLE', 'LOITERING', 'DRIVING UNDER THE INFLUENCE', 'STOLEN PROPERTY', 'SUICIDE', 'BRIBERY', 'SEX OFFENSES NON FORCIBLE', 'BAD CHECKS', 'TREA', 'PORNOGRAPHY/OBSCENE MAT'])\n",
    "crime_in_sf_night_medium = crime_in_sf_night.drop(['ASSAULT', 'DRUG/NARCOTIC', 'LARCENY/THEFT', 'NON-CRIMINAL', 'OTHER OFFENSES', 'VEHICLE THEFT', 'ARSON', 'DISORDERLY CONDUCT', 'DRUNKENNESS', 'EMBEZZLEMENT', 'FRAUD', 'GAMBLING', 'KIDNAPPING', 'ROBBERY', 'SECONDARY CODES', 'SEX OFFENSES FORCIBLE', 'SUSPICIOUS OCC', 'TRESPASS', 'WEAPON LAWS', 'FORGERY/COUNTERFEITING', 'RUNAWAY', 'LIQUOR LAWS', 'EXTORTION', 'FAMILY OFFENSES', 'RECOVERED VEHICLE', 'LOITERING', 'DRIVING UNDER THE INFLUENCE', 'STOLEN PROPERTY', 'SUICIDE', 'BRIBERY', 'SEX OFFENSES NON FORCIBLE', 'BAD CHECKS', 'TREA', 'PORNOGRAPHY/OBSCENE MAT'])\n",
    "crime_in_sf_night_low = crime_in_sf_night.drop(['ASSAULT', 'BURGLARY', 'DRUG/NARCOTIC', 'LARCENY/THEFT', 'NON-CRIMINAL', 'OTHER OFFENSES', 'VEHICLE THEFT', 'MISSING PERSON', 'PROSTITUTION', 'VANDALISM', 'WARRANTS'], axis=0)"
   ]
  },
  {
   "cell_type": "code",
   "execution_count": null,
   "metadata": {
    "collapsed": false
   },
   "outputs": [],
   "source": [
    "crime_in_sf_night_high = order(crime_in_sf_night_high, ['19', '20', '21', '22', '23'])\n",
    "crime_in_sf_night_medium = order(crime_in_sf_night_medium, ['19', '20', '21', '22', '23'])\n",
    "crime_in_sf_night_low = order(crime_in_sf_night_low, ['19', '20', '21', '22', '23'])\n",
    "test_pred_night_high = order(test_pred_night_high, ['19', '20', '21', '22', '23'])\n",
    "test_pred_night_medium = order(test_pred_night_medium, ['19', '20', '21', '22', '23'])\n",
    "test_pred_night_low = order(test_pred_night_low, ['19', '20', '21', '22', '23'])"
   ]
  },
  {
   "cell_type": "code",
   "execution_count": null,
   "metadata": {
    "collapsed": false
   },
   "outputs": [],
   "source": [
    "crime_in_sf_day_high.plot(kind='bar', figsize=(20,10), rot=0, fontsize=20)"
   ]
  },
  {
   "cell_type": "code",
   "execution_count": null,
   "metadata": {
    "collapsed": false
   },
   "outputs": [],
   "source": [
    "crime_in_sf_day_medium.plot(kind='bar', figsize=(20,10), rot=0, fontsize=20)"
   ]
  },
  {
   "cell_type": "code",
   "execution_count": null,
   "metadata": {
    "collapsed": false
   },
   "outputs": [],
   "source": [
    "crime_in_sf_day_low.plot(kind='bar', figsize=(20,10), rot=45, fontsize=20)"
   ]
  },
  {
   "cell_type": "code",
   "execution_count": null,
   "metadata": {
    "collapsed": false
   },
   "outputs": [],
   "source": [
    "crime_in_sf_night_high.plot(kind='bar', figsize=(20,10), rot=0, fontsize=20)"
   ]
  },
  {
   "cell_type": "code",
   "execution_count": null,
   "metadata": {
    "collapsed": false
   },
   "outputs": [],
   "source": [
    "crime_in_sf_night_medium.plot(kind='bar', figsize=(20,10), rot=0, fontsize=20)"
   ]
  },
  {
   "cell_type": "code",
   "execution_count": null,
   "metadata": {
    "collapsed": false
   },
   "outputs": [],
   "source": [
    "crime_in_sf_night_low.plot(kind='bar', figsize=(20,10), rot=45, fontsize=20)"
   ]
  },
  {
   "cell_type": "code",
   "execution_count": null,
   "metadata": {
    "collapsed": true
   },
   "outputs": [],
   "source": [
    "test_pred_mar = test_pred_mar.drop(['DayOfWeek', 'Dates', 'highest_probability', 'second_most_likely', 'second_hightest_prob', 'third_most_likely', 'third_highest_prob'], axis=1)\n",
    "test_pred_mar = pd.DataFrame((pd.get_dummies(test_pred_mar, columns = ['most_likely'], prefix='',prefix_sep='')).sum())\n",
    "test_pred_mar = test_pred_mar.rename(columns={0:'March'})\n",
    "\n",
    "test_pred_apr = test_pred_apr.drop(['DayOfWeek', 'Dates', 'highest_probability', 'second_most_likely', 'second_hightest_prob', 'third_most_likely', 'third_highest_prob'], axis=1)\n",
    "test_pred_apr = pd.DataFrame((pd.get_dummies(test_pred_apr, columns = ['most_likely'], prefix='',prefix_sep='')).sum())\n",
    "test_pred_apr = test_pred_apr.rename(columns={0:'April'})\n",
    "\n",
    "test_pred_may = test_pred_may.drop(['DayOfWeek', 'Dates', 'highest_probability', 'second_most_likely', 'second_hightest_prob', 'third_most_likely', 'third_highest_prob'], axis=1)\n",
    "test_pred_may = pd.DataFrame((pd.get_dummies(test_pred_may, columns = ['most_likely'], prefix='',prefix_sep='')).sum())\n",
    "test_pred_may = test_pred_may.rename(columns={0:'May'})\n",
    "\n",
    "test_pred_spr = test_pred_mar.join(test_pred_apr).join(test_pred_may)\n",
    "test_pred_spr = test_pred_spr.fillna(0)"
   ]
  },
  {
   "cell_type": "code",
   "execution_count": null,
   "metadata": {
    "collapsed": true
   },
   "outputs": [],
   "source": [
    "crime_in_sf_mar = crime_in_sf_mar.drop(['DayOfWeek', 'Dates'], axis=1)\n",
    "crime_in_sf_mar = pd.DataFrame((pd.get_dummies(crime_in_sf_mar, columns = ['Category'], prefix='',prefix_sep='')).sum())\n",
    "crime_in_sf_mar = crime_in_sf_mar.rename(columns={0:'March'})\n",
    "\n",
    "crime_in_sf_apr = crime_in_sf_apr.drop(['DayOfWeek', 'Dates'], axis=1)\n",
    "crime_in_sf_apr = pd.DataFrame((pd.get_dummies(crime_in_sf_apr, columns = ['Category'], prefix='',prefix_sep='')).sum())\n",
    "crime_in_sf_apr = crime_in_sf_apr.rename(columns={0:'April'})\n",
    "\n",
    "crime_in_sf_may = crime_in_sf_may.drop(['DayOfWeek', 'Dates'], axis=1)\n",
    "crime_in_sf_may = pd.DataFrame((pd.get_dummies(crime_in_sf_may, columns = ['Category'], prefix='',prefix_sep='')).sum())\n",
    "crime_in_sf_may = crime_in_sf_may.rename(columns={0:'May'})\n",
    "\n",
    "crime_in_sf_spr = crime_in_sf_mar.join(crime_in_sf_apr).join(crime_in_sf_may)\n",
    "crime_in_sf_spr = crime_in_sf_spr.fillna(0)"
   ]
  },
  {
   "cell_type": "code",
   "execution_count": null,
   "metadata": {
    "collapsed": true
   },
   "outputs": [],
   "source": [
    "test_pred_jun = test_pred_jun.drop(['DayOfWeek', 'Dates', 'highest_probability', 'second_most_likely', 'second_hightest_prob', 'third_most_likely', 'third_highest_prob'], axis=1)\n",
    "test_pred_jun = pd.DataFrame((pd.get_dummies(test_pred_jun, columns = ['most_likely'], prefix='',prefix_sep='')).sum())\n",
    "test_pred_jun = test_pred_jun.rename(columns={0:'June'})\n",
    "\n",
    "test_pred_jul = test_pred_jul.drop(['DayOfWeek', 'Dates', 'highest_probability', 'second_most_likely', 'second_hightest_prob', 'third_most_likely', 'third_highest_prob'], axis=1)\n",
    "test_pred_jul = pd.DataFrame((pd.get_dummies(test_pred_jul, columns = ['most_likely'], prefix='',prefix_sep='')).sum())\n",
    "test_pred_jul = test_pred_jul.rename(columns={0:'July'})\n",
    "\n",
    "test_pred_aug = test_pred_aug.drop(['DayOfWeek', 'Dates', 'highest_probability', 'second_most_likely', 'second_hightest_prob', 'third_most_likely', 'third_highest_prob'], axis=1)\n",
    "test_pred_aug = pd.DataFrame((pd.get_dummies(test_pred_aug, columns = ['most_likely'], prefix='',prefix_sep='')).sum())\n",
    "test_pred_aug = test_pred_aug.rename(columns={0:'August'})\n",
    "\n",
    "test_pred_sum = test_pred_jun.join(test_pred_jul).join(test_pred_aug)\n",
    "test_pred_sum = test_pred_sum.fillna(0)"
   ]
  },
  {
   "cell_type": "code",
   "execution_count": null,
   "metadata": {
    "collapsed": true
   },
   "outputs": [],
   "source": [
    "crime_in_sf_jun = crime_in_sf_jun.drop(['DayOfWeek', 'Dates'], axis=1)\n",
    "crime_in_sf_jun = pd.DataFrame((pd.get_dummies(crime_in_sf_jun, columns = ['Category'], prefix='',prefix_sep='')).sum())\n",
    "crime_in_sf_jun = crime_in_sf_jun.rename(columns={0:'June'})\n",
    "\n",
    "crime_in_sf_jul = crime_in_sf_jul.drop(['DayOfWeek', 'Dates'], axis=1)\n",
    "crime_in_sf_jul = pd.DataFrame((pd.get_dummies(crime_in_sf_jul, columns = ['Category'], prefix='',prefix_sep='')).sum())\n",
    "crime_in_sf_jul = crime_in_sf_jul.rename(columns={0:'July'})\n",
    "\n",
    "crime_in_sf_aug = crime_in_sf_aug.drop(['DayOfWeek', 'Dates'], axis=1)\n",
    "crime_in_sf_aug = pd.DataFrame((pd.get_dummies(crime_in_sf_aug, columns = ['Category'], prefix='',prefix_sep='')).sum())\n",
    "crime_in_sf_aug = crime_in_sf_aug.rename(columns={0:'August'})\n",
    "\n",
    "crime_in_sf_sum = crime_in_sf_jun.join(crime_in_sf_jul).join(crime_in_sf_aug)\n",
    "crime_in_sf_sum = crime_in_sf_sum.fillna(0)"
   ]
  },
  {
   "cell_type": "code",
   "execution_count": null,
   "metadata": {
    "collapsed": true
   },
   "outputs": [],
   "source": [
    "test_pred_sep = test_pred_sep.drop(['DayOfWeek', 'Dates', 'highest_probability', 'second_most_likely', 'second_hightest_prob', 'third_most_likely', 'third_highest_prob'], axis=1)\n",
    "test_pred_sep = pd.DataFrame((pd.get_dummies(test_pred_sep, columns = ['most_likely'], prefix='',prefix_sep='')).sum())\n",
    "test_pred_sep = test_pred_sep.rename(columns={0:'September'})\n",
    "\n",
    "test_pred_oct = test_pred_oct.drop(['DayOfWeek', 'Dates', 'highest_probability', 'second_most_likely', 'second_hightest_prob', 'third_most_likely', 'third_highest_prob'], axis=1)\n",
    "test_pred_oct = pd.DataFrame((pd.get_dummies(test_pred_oct, columns = ['most_likely'], prefix='',prefix_sep='')).sum())\n",
    "test_pred_oct = test_pred_oct.rename(columns={0:'October'})\n",
    "\n",
    "test_pred_nov = test_pred_nov.drop(['DayOfWeek', 'Dates', 'highest_probability', 'second_most_likely', 'second_hightest_prob', 'third_most_likely', 'third_highest_prob'], axis=1)\n",
    "test_pred_nov = pd.DataFrame((pd.get_dummies(test_pred_nov, columns = ['most_likely'], prefix='',prefix_sep='')).sum())\n",
    "test_pred_nov = test_pred_nov.rename(columns={0:'November'})\n",
    "\n",
    "test_pred_fall = test_pred_sep.join(test_pred_oct).join(test_pred_nov)\n",
    "test_pred_fall = test_pred_fall.fillna(0)"
   ]
  },
  {
   "cell_type": "code",
   "execution_count": null,
   "metadata": {
    "collapsed": true
   },
   "outputs": [],
   "source": [
    "crime_in_sf_sep = crime_in_sf_sep.drop(['DayOfWeek', 'Dates'], axis=1)\n",
    "crime_in_sf_sep = pd.DataFrame((pd.get_dummies(crime_in_sf_sep, columns = ['Category'], prefix='',prefix_sep='')).sum())\n",
    "crime_in_sf_sep = crime_in_sf_sep.rename(columns={0:'September'})\n",
    "\n",
    "crime_in_sf_oct = crime_in_sf_oct.drop(['DayOfWeek', 'Dates'], axis=1)\n",
    "crime_in_sf_oct = pd.DataFrame((pd.get_dummies(crime_in_sf_oct, columns = ['Category'], prefix='',prefix_sep='')).sum())\n",
    "crime_in_sf_oct = crime_in_sf_oct.rename(columns={0:'October'})\n",
    "\n",
    "crime_in_sf_nov = crime_in_sf_nov.drop(['DayOfWeek', 'Dates'], axis=1)\n",
    "crime_in_sf_nov = pd.DataFrame((pd.get_dummies(crime_in_sf_nov, columns = ['Category'], prefix='',prefix_sep='')).sum())\n",
    "crime_in_sf_nov = crime_in_sf_nov.rename(columns={0:'November'})\n",
    "\n",
    "crime_in_sf_fall = crime_in_sf_sep.join(crime_in_sf_oct).join(crime_in_sf_nov)\n",
    "crime_in_sf_fall = crime_in_sf_fall.fillna(0)"
   ]
  },
  {
   "cell_type": "code",
   "execution_count": null,
   "metadata": {
    "collapsed": false
   },
   "outputs": [],
   "source": [
    "test_pred_dec = test_pred_dec.drop(['DayOfWeek', 'Dates', 'highest_probability', 'second_most_likely', 'second_hightest_prob', 'third_most_likely', 'third_highest_prob'], axis=1)\n",
    "test_pred_dec = pd.DataFrame((pd.get_dummies(test_pred_dec, columns = ['most_likely'], prefix='',prefix_sep='')).sum())\n",
    "test_pred_dec = test_pred_dec.rename(columns={0:'December'})\n",
    "\n",
    "test_pred_jan = test_pred_jan.drop(['DayOfWeek', 'Dates', 'highest_probability', 'second_most_likely', 'second_hightest_prob', 'third_most_likely', 'third_highest_prob'], axis=1)\n",
    "test_pred_jan = pd.DataFrame((pd.get_dummies(test_pred_jan, columns = ['most_likely'], prefix='',prefix_sep='')).sum())\n",
    "test_pred_jan = test_pred_jan.rename(columns={0:'January'})\n",
    "\n",
    "test_pred_feb = test_pred_feb.drop(['DayOfWeek', 'Dates', 'highest_probability', 'second_most_likely', 'second_hightest_prob', 'third_most_likely', 'third_highest_prob'], axis=1)\n",
    "test_pred_feb = pd.DataFrame((pd.get_dummies(test_pred_feb, columns = ['most_likely'], prefix='',prefix_sep='')).sum())\n",
    "test_pred_feb = test_pred_feb.rename(columns={0:'February'})\n",
    "\n",
    "test_pred_win = test_pred_dec.join(test_pred_jan).join(test_pred_feb)\n",
    "test_pred_win = test_pred_win.fillna(0)"
   ]
  },
  {
   "cell_type": "code",
   "execution_count": null,
   "metadata": {
    "collapsed": true
   },
   "outputs": [],
   "source": [
    "crime_in_sf_dec = crime_in_sf_dec.drop(['DayOfWeek', 'Dates'], axis=1)\n",
    "crime_in_sf_dec = pd.DataFrame((pd.get_dummies(crime_in_sf_dec, columns = ['Category'], prefix='',prefix_sep='')).sum())\n",
    "crime_in_sf_dec = crime_in_sf_dec.rename(columns={0:'December'})\n",
    "\n",
    "crime_in_sf_jan = crime_in_sf_jan.drop(['DayOfWeek', 'Dates'], axis=1)\n",
    "crime_in_sf_jan = pd.DataFrame((pd.get_dummies(crime_in_sf_jan, columns = ['Category'], prefix='',prefix_sep='')).sum())\n",
    "crime_in_sf_jan = crime_in_sf_jan.rename(columns={0:'January'})\n",
    "\n",
    "crime_in_sf_feb = crime_in_sf_feb.drop(['DayOfWeek', 'Dates'], axis=1)\n",
    "crime_in_sf_feb = pd.DataFrame((pd.get_dummies(crime_in_sf_feb, columns = ['Category'], prefix='',prefix_sep='')).sum())\n",
    "crime_in_sf_feb = crime_in_sf_feb.rename(columns={0:'February'})\n",
    "\n",
    "crime_in_sf_win = crime_in_sf_dec.join(crime_in_sf_jan).join(crime_in_sf_feb)\n",
    "crime_in_sf_win = crime_in_sf_win.fillna(0)"
   ]
  },
  {
   "cell_type": "code",
   "execution_count": null,
   "metadata": {
    "collapsed": false
   },
   "outputs": [],
   "source": [
    "spring = pd.DataFrame(test_pred_spr.T.sum())\n",
    "spring = spring.rename(columns={0:'Spring'})\n",
    "\n",
    "summer = pd.DataFrame(test_pred_sum.T.sum())\n",
    "summer = summer.rename(columns={0:'Summer'})\n",
    "\n",
    "fall = pd.DataFrame(test_pred_fall.T.sum())\n",
    "fall = fall.rename(columns={0:'Fall'})\n",
    "\n",
    "winter = pd.DataFrame(test_pred_win.T.sum())\n",
    "winter = winter.rename(columns={0:'Winter'})\n",
    "\n",
    "seasons = spring.join(summer, how='outer').join(fall, how='outer').join(winter, how='outer')\n",
    "seasons = test_pred_win.fillna(0)"
   ]
  },
  {
   "cell_type": "code",
   "execution_count": null,
   "metadata": {
    "collapsed": true
   },
   "outputs": [],
   "source": [
    "seasons = spring.join(summer, how='outer').join(fall, how='outer').join(winter, how='outer')\n",
    "seasons = test_pred_win.fillna(0)"
   ]
  },
  {
   "cell_type": "code",
   "execution_count": null,
   "metadata": {
    "collapsed": false
   },
   "outputs": [],
   "source": [
    "seasons_high = seasons.drop(['ARSON', 'BURGLARY', 'DISORDERLY CONDUCT', 'DRUNKENNESS', 'EMBEZZLEMENT', 'FRAUD', 'GAMBLING', 'KIDNAPPING', 'MISSING PERSON', 'PROSTITUTION', 'ROBBERY', 'SECONDARY CODES', 'SEX OFFENSES FORCIBLE', 'SUSPICIOUS OCC', 'TRESPASS', 'VANDALISM', 'WARRANTS', 'WEAPON LAWS', 'FORGERY/COUNTERFEITING', 'RUNAWAY', 'LIQUOR LAWS', 'EXTORTION', 'FAMILY OFFENSES', 'RECOVERED VEHICLE', 'LOITERING', 'DRIVING UNDER THE INFLUENCE', 'STOLEN PROPERTY', 'SUICIDE', 'BRIBERY', 'SEX OFFENSES NON FORCIBLE', 'BAD CHECKS'])\n",
    "seasons_medium = seasons.drop(['ASSAULT', 'DRUG/NARCOTIC', 'LARCENY/THEFT', 'NON-CRIMINAL', 'OTHER OFFENSES', 'VEHICLE THEFT', 'ARSON', 'DISORDERLY CONDUCT', 'DRUNKENNESS', 'EMBEZZLEMENT', 'FRAUD', 'GAMBLING', 'KIDNAPPING', 'ROBBERY', 'SECONDARY CODES', 'SEX OFFENSES FORCIBLE', 'SUSPICIOUS OCC', 'TRESPASS', 'WEAPON LAWS', 'FORGERY/COUNTERFEITING', 'RUNAWAY', 'LIQUOR LAWS', 'EXTORTION', 'FAMILY OFFENSES', 'RECOVERED VEHICLE', 'LOITERING', 'DRIVING UNDER THE INFLUENCE', 'STOLEN PROPERTY', 'SUICIDE', 'BRIBERY', 'SEX OFFENSES NON FORCIBLE', 'BAD CHECKS'])\n",
    "seasons_low = seasons.drop(['ASSAULT', 'BURGLARY', 'DRUG/NARCOTIC', 'LARCENY/THEFT', 'NON-CRIMINAL', 'OTHER OFFENSES', 'VEHICLE THEFT', 'MISSING PERSON', 'PROSTITUTION', 'VANDALISM', 'WARRANTS'], axis=0)"
   ]
  },
  {
   "cell_type": "code",
   "execution_count": null,
   "metadata": {
    "collapsed": true
   },
   "outputs": [],
   "source": [
    "spring2 = pd.DataFrame(crime_in_sf_spr.T.sum())\n",
    "spring2 = spring2.rename(columns={0:'Spring'})\n",
    "\n",
    "summer2 = pd.DataFrame(crime_in_sf_sum.T.sum())\n",
    "summer2 = summer2.rename(columns={0:'Summer'})\n",
    "\n",
    "fall2 = pd.DataFrame(crime_in_sf_fall.T.sum())\n",
    "fall2 = fall2.rename(columns={0:'Fall'})\n",
    "\n",
    "winter2 = pd.DataFrame(crime_in_sf_win.T.sum())\n",
    "winter2 = winter2.rename(columns={0:'Winter'})"
   ]
  },
  {
   "cell_type": "code",
   "execution_count": null,
   "metadata": {
    "collapsed": false
   },
   "outputs": [],
   "source": [
    "seasons2 = spring2.join(summer2, how='outer').join(fall2, how='outer').join(winter2, how='outer')"
   ]
  },
  {
   "cell_type": "code",
   "execution_count": null,
   "metadata": {
    "collapsed": true
   },
   "outputs": [],
   "source": [
    "seasons2_high = seasons2.drop(['ARSON', 'BURGLARY', 'DISORDERLY CONDUCT', 'DRUNKENNESS', 'EMBEZZLEMENT', 'FRAUD', 'GAMBLING', 'KIDNAPPING', 'MISSING PERSON', 'PROSTITUTION', 'ROBBERY', 'SECONDARY CODES', 'SEX OFFENSES FORCIBLE', 'SUSPICIOUS OCC', 'TRESPASS', 'VANDALISM', 'WARRANTS', 'WEAPON LAWS', 'FORGERY/COUNTERFEITING', 'RUNAWAY', 'LIQUOR LAWS', 'EXTORTION', 'FAMILY OFFENSES', 'RECOVERED VEHICLE', 'LOITERING', 'DRIVING UNDER THE INFLUENCE', 'STOLEN PROPERTY', 'SUICIDE', 'BRIBERY', 'SEX OFFENSES NON FORCIBLE', 'BAD CHECKS', 'TREA', 'PORNOGRAPHY/OBSCENE MAT'])\n",
    "seasons2_medium = seasons2.drop(['ASSAULT', 'DRUG/NARCOTIC', 'LARCENY/THEFT', 'NON-CRIMINAL', 'OTHER OFFENSES', 'VEHICLE THEFT', 'ARSON', 'DISORDERLY CONDUCT', 'DRUNKENNESS', 'EMBEZZLEMENT', 'FRAUD', 'GAMBLING', 'KIDNAPPING', 'ROBBERY', 'SECONDARY CODES', 'SEX OFFENSES FORCIBLE', 'SUSPICIOUS OCC', 'TRESPASS', 'WEAPON LAWS', 'FORGERY/COUNTERFEITING', 'RUNAWAY', 'LIQUOR LAWS', 'EXTORTION', 'FAMILY OFFENSES', 'RECOVERED VEHICLE', 'LOITERING', 'DRIVING UNDER THE INFLUENCE', 'STOLEN PROPERTY', 'SUICIDE', 'BRIBERY', 'SEX OFFENSES NON FORCIBLE', 'BAD CHECKS', 'TREA', 'PORNOGRAPHY/OBSCENE MAT'])\n",
    "seasons2_low = seasons2.drop(['ASSAULT', 'BURGLARY', 'DRUG/NARCOTIC', 'LARCENY/THEFT', 'NON-CRIMINAL', 'OTHER OFFENSES', 'VEHICLE THEFT', 'MISSING PERSON', 'PROSTITUTION', 'VANDALISM', 'WARRANTS'], axis=0)"
   ]
  },
  {
   "cell_type": "code",
   "execution_count": null,
   "metadata": {
    "collapsed": false
   },
   "outputs": [],
   "source": [
    "seasons2.plot(kind='bar', figsize=(20,10), rot=0, fontsize=20)"
   ]
  },
  {
   "cell_type": "code",
   "execution_count": null,
   "metadata": {
    "collapsed": false
   },
   "outputs": [],
   "source": [
    "seasons2_high.plot(kind='bar', figsize=(20,10), rot=0, fontsize=20)"
   ]
  },
  {
   "cell_type": "code",
   "execution_count": null,
   "metadata": {
    "collapsed": false
   },
   "outputs": [],
   "source": [
    "seasons2_medium.plot(kind='bar', figsize=(20,10), rot=0, fontsize=20)"
   ]
  },
  {
   "cell_type": "code",
   "execution_count": null,
   "metadata": {
    "collapsed": false
   },
   "outputs": [],
   "source": [
    "seasons2_low.plot(kind='bar', figsize=(20,10), rot=90, fontsize=20)"
   ]
  },
  {
   "cell_type": "code",
   "execution_count": null,
   "metadata": {
    "collapsed": true
   },
   "outputs": [],
   "source": [
    "seasons2 = spring2.join(summer2).join(fall2).join(winter2)\n",
    "seasons2 = seasons2.fillna(0)"
   ]
  },
  {
   "cell_type": "code",
   "execution_count": null,
   "metadata": {
    "collapsed": false
   },
   "outputs": [],
   "source": [
    "def add_crimes(df):\n",
    "    needed_crimes =[]\n",
    "    for cat in test_pred.most_likely.unique():\n",
    "        if cat not in df.index.unique():\n",
    "            needed_crimes.append(cat)\n",
    "\n",
    "    df = df.reset_index()\n",
    "    df = df.rename(columns={'index':'Category'})\n",
    "    needed_crimes = pd.DataFrame(needed_crimes)\n",
    "    needed_crimes = needed_crimes.rename(columns={0:'Category'})\n",
    "    df = df.append(two015)\n",
    "    df = df.fillna(0)\n",
    "    df.index = df.pop('Category')\n",
    "    return df"
   ]
  },
  {
   "cell_type": "code",
   "execution_count": null,
   "metadata": {
    "collapsed": true
   },
   "outputs": [],
   "source": [
    "midnight_to_four = [0, 1, 2, 3]\n",
    "four_to_eight = [4, 5, 6, 7]\n",
    "eight_to_twelve = [8, 9, 10, 11]\n",
    "twelve_to_sixteen = [12, 13, 14, 15]\n",
    "sixteen_to_twenty = [16, 17, 18, 19]\n",
    "twenty_to_midnight = [20, 21, 22, 23]"
   ]
  },
  {
   "cell_type": "code",
   "execution_count": null,
   "metadata": {
    "collapsed": false
   },
   "outputs": [],
   "source": [
    "test_pred_mon = test_pred_mon.drop(['DayOfWeek', 'Dates', 'highest_probability', 'second_most_likely', 'second_hightest_prob', 'third_most_likely', 'third_highest_prob'], axis=1)\n",
    "test_pred_mon = pd.DataFrame((pd.get_dummies(test_pred_mon, columns = ['most_likely'], prefix='',prefix_sep='')).sum())\n",
    "test_pred_mon = test_pred_mon.rename(columns={0:'Monday'})\n",
    "\n",
    "test_pred_tue = test_pred_tue.drop(['DayOfWeek', 'Dates', 'highest_probability', 'second_most_likely', 'second_hightest_prob', 'third_most_likely', 'third_highest_prob'], axis=1)\n",
    "test_pred_tue = pd.DataFrame((pd.get_dummies(test_pred_tue, columns = ['most_likely'], prefix='',prefix_sep='')).sum())\n",
    "test_pred_tue = test_pred_tue.rename(columns={0:'Tuesday'})\n",
    "\n",
    "test_pred_wed = test_pred_wed.drop(['DayOfWeek', 'Dates', 'highest_probability', 'second_most_likely', 'second_hightest_prob', 'third_most_likely', 'third_highest_prob'], axis=1)\n",
    "test_pred_wed = pd.DataFrame((pd.get_dummies(test_pred_wed, columns = ['most_likely'], prefix='',prefix_sep='')).sum())\n",
    "test_pred_wed = test_pred_wed.rename(columns={0:'Wednesday'})\n",
    "\n",
    "test_pred_thu = test_pred_thu.drop(['DayOfWeek', 'Dates', 'highest_probability', 'second_most_likely', 'second_hightest_prob', 'third_most_likely', 'third_highest_prob'], axis=1)\n",
    "test_pred_thu = pd.DataFrame((pd.get_dummies(test_pred_thu, columns = ['most_likely'], prefix='',prefix_sep='')).sum())\n",
    "test_pred_thu = test_pred_thu.rename(columns={0:'Thursday'})\n",
    "\n",
    "test_pred_fri = test_pred_fri.drop(['DayOfWeek', 'Dates', 'highest_probability', 'second_most_likely', 'second_hightest_prob', 'third_most_likely', 'third_highest_prob'], axis=1)\n",
    "test_pred_fri = pd.DataFrame((pd.get_dummies(test_pred_fri, columns = ['most_likely'], prefix='',prefix_sep='')).sum())\n",
    "test_pred_fri = test_pred_fri.rename(columns={0:'Friday'})\n",
    "\n",
    "test_pred_sat = test_pred_sat.drop(['DayOfWeek', 'Dates', 'highest_probability', 'second_most_likely', 'second_hightest_prob', 'third_most_likely', 'third_highest_prob'], axis=1)\n",
    "test_pred_sat = pd.DataFrame((pd.get_dummies(test_pred_sat, columns = ['most_likely'], prefix='',prefix_sep='')).sum())\n",
    "test_pred_sat = test_pred_sat.rename(columns={0:'Saturday'})\n",
    "\n",
    "test_pred_sun = test_pred_sun.drop(['DayOfWeek', 'Dates', 'highest_probability', 'second_most_likely', 'second_hightest_prob', 'third_most_likely', 'third_highest_prob'], axis=1)\n",
    "test_pred_sun = pd.DataFrame((pd.get_dummies(test_pred_sun, columns = ['most_likely'], prefix='',prefix_sep='')).sum())\n",
    "test_pred_sun = test_pred_sun.rename(columns={0:'Sunday'})"
   ]
  },
  {
   "cell_type": "code",
   "execution_count": null,
   "metadata": {
    "collapsed": true
   },
   "outputs": [],
   "source": [
    "crime_in_sf_mon = crime_in_sf_mon.drop(['DayOfWeek', 'Dates'], axis=1)\n",
    "crime_in_sf_mon = pd.DataFrame((pd.get_dummies(crime_in_sf_mon, columns = ['Category'], prefix='',prefix_sep='')).sum())\n",
    "crime_in_sf_mon = crime_in_sf_mon.rename(columns={0:'Monday'})\n",
    "\n",
    "crime_in_sf_tue = crime_in_sf_tue.drop(['DayOfWeek', 'Dates'], axis=1)\n",
    "crime_in_sf_tue = pd.DataFrame((pd.get_dummies(crime_in_sf_tue, columns = ['Category'], prefix='',prefix_sep='')).sum())\n",
    "crime_in_sf_tue = crime_in_sf_tue.rename(columns={0:'Tuesday'})\n",
    "\n",
    "crime_in_sf_wed = crime_in_sf_wed.drop(['DayOfWeek', 'Dates'], axis=1)\n",
    "crime_in_sf_wed = pd.DataFrame((pd.get_dummies(crime_in_sf_wed, columns = ['Category'], prefix='',prefix_sep='')).sum())\n",
    "crime_in_sf_wed = crime_in_sf_wed.rename(columns={0:'Wednesday'})\n",
    "\n",
    "crime_in_sf_thu = crime_in_sf_thu.drop(['DayOfWeek', 'Dates'], axis=1)\n",
    "crime_in_sf_thu = pd.DataFrame((pd.get_dummies(crime_in_sf_thu, columns = ['Category'], prefix='',prefix_sep='')).sum())\n",
    "crime_in_sf_thu = crime_in_sf_thu.rename(columns={0:'Thursday'})\n",
    "\n",
    "crime_in_sf_fri = crime_in_sf_fri.drop(['DayOfWeek', 'Dates'], axis=1)\n",
    "crime_in_sf_fri = pd.DataFrame((pd.get_dummies(crime_in_sf_fri, columns = ['Category'], prefix='',prefix_sep='')).sum())\n",
    "crime_in_sf_fri = crime_in_sf_fri.rename(columns={0:'Friday'})\n",
    "\n",
    "crime_in_sf_sat = crime_in_sf_sat.drop(['DayOfWeek', 'Dates'], axis=1)\n",
    "crime_in_sf_sat = pd.DataFrame((pd.get_dummies(crime_in_sf_sat, columns = ['Category'], prefix='',prefix_sep='')).sum())\n",
    "crime_in_sf_sat = crime_in_sf_sat.rename(columns={0:'Saturday'})\n",
    "\n",
    "crime_in_sf_sun = crime_in_sf_sun.drop(['DayOfWeek', 'Dates'], axis=1)\n",
    "crime_in_sf_sun = pd.DataFrame((pd.get_dummies(crime_in_sf_sun, columns = ['Category'], prefix='',prefix_sep='')).sum())\n",
    "crime_in_sf_sun = crime_in_sf_sun.rename(columns={0:'Sunday'})"
   ]
  },
  {
   "cell_type": "code",
   "execution_count": null,
   "metadata": {
    "collapsed": false
   },
   "outputs": [],
   "source": [
    "test_pred_week = test_pred_mon.join(test_pred_tue, how='outer').join(test_pred_wed, how='outer').join(test_pred_thu, how='outer').join(test_pred_fri, how='outer').join(test_pred_sat, how='outer').join(test_pred_sun, how='outer')\n",
    "test_pred_week = test_pred_week.fillna(0)"
   ]
  },
  {
   "cell_type": "code",
   "execution_count": null,
   "metadata": {
    "collapsed": true
   },
   "outputs": [],
   "source": [
    "crime_in_sf_week = crime_in_sf_mon.join(crime_in_sf_tue, how='outer').join(crime_in_sf_wed, how='outer').join(crime_in_sf_thu, how='outer').join(crime_in_sf_fri, how='outer').join(crime_in_sf_sat, how='outer').join(crime_in_sf_sun, how='outer')\n",
    "crime_in_sf_week = crime_in_sf_week.fillna(0)"
   ]
  },
  {
   "cell_type": "code",
   "execution_count": null,
   "metadata": {
    "collapsed": false
   },
   "outputs": [],
   "source": [
    "len(test_pred_week)"
   ]
  },
  {
   "cell_type": "code",
   "execution_count": null,
   "metadata": {
    "collapsed": false
   },
   "outputs": [],
   "source": [
    "test_pred_week_high = test_pred_week.drop(['ARSON', 'BURGLARY', 'DISORDERLY CONDUCT', 'DRUNKENNESS', 'EMBEZZLEMENT', 'FRAUD', 'GAMBLING', 'KIDNAPPING', 'MISSING PERSON', 'PROSTITUTION', 'ROBBERY', 'SECONDARY CODES', 'SEX OFFENSES FORCIBLE', 'SUSPICIOUS OCC', 'TRESPASS', 'VANDALISM', 'WARRANTS', 'WEAPON LAWS', 'FORGERY/COUNTERFEITING', 'RUNAWAY', 'LIQUOR LAWS', 'EXTORTION', 'FAMILY OFFENSES', 'RECOVERED VEHICLE', 'LOITERING', 'DRIVING UNDER THE INFLUENCE', 'STOLEN PROPERTY', 'SUICIDE', 'BRIBERY', 'SEX OFFENSES NON FORCIBLE', 'BAD CHECKS'])\n",
    "test_pred_week_medium = test_pred_week.drop(['ASSAULT', 'DRUG/NARCOTIC', 'LARCENY/THEFT', 'NON-CRIMINAL', 'OTHER OFFENSES', 'VEHICLE THEFT', 'ARSON', 'DISORDERLY CONDUCT', 'DRUNKENNESS', 'EMBEZZLEMENT', 'FRAUD', 'GAMBLING', 'KIDNAPPING', 'ROBBERY', 'SECONDARY CODES', 'SEX OFFENSES FORCIBLE', 'SUSPICIOUS OCC', 'TRESPASS', 'WEAPON LAWS', 'FORGERY/COUNTERFEITING', 'RUNAWAY', 'LIQUOR LAWS', 'EXTORTION', 'FAMILY OFFENSES', 'RECOVERED VEHICLE', 'LOITERING', 'DRIVING UNDER THE INFLUENCE', 'STOLEN PROPERTY', 'SUICIDE', 'BRIBERY', 'SEX OFFENSES NON FORCIBLE', 'BAD CHECKS'])\n",
    "test_pred_week_low = test_pred_week.drop(['ASSAULT', 'BURGLARY', 'DRUG/NARCOTIC', 'LARCENY/THEFT', 'NON-CRIMINAL', 'OTHER OFFENSES', 'VEHICLE THEFT', 'MISSING PERSON', 'PROSTITUTION', 'VANDALISM', 'WARRANTS'], axis=0)"
   ]
  },
  {
   "cell_type": "code",
   "execution_count": null,
   "metadata": {
    "collapsed": true
   },
   "outputs": [],
   "source": [
    "crime_in_sf_week_high = crime_in_sf_week.drop(['ARSON', 'BURGLARY', 'DISORDERLY CONDUCT', 'DRUNKENNESS', 'EMBEZZLEMENT', 'FRAUD', 'GAMBLING', 'KIDNAPPING', 'MISSING PERSON', 'PROSTITUTION', 'ROBBERY', 'SECONDARY CODES', 'SEX OFFENSES FORCIBLE', 'SUSPICIOUS OCC', 'TRESPASS', 'VANDALISM', 'WARRANTS', 'WEAPON LAWS', 'FORGERY/COUNTERFEITING', 'RUNAWAY', 'LIQUOR LAWS', 'EXTORTION', 'FAMILY OFFENSES', 'RECOVERED VEHICLE', 'LOITERING', 'DRIVING UNDER THE INFLUENCE', 'STOLEN PROPERTY', 'SUICIDE', 'BRIBERY', 'SEX OFFENSES NON FORCIBLE', 'BAD CHECKS', 'TREA', 'PORNOGRAPHY/OBSCENE MAT'])\n",
    "crime_in_sf_week_medium = crime_in_sf_week.drop(['ASSAULT', 'DRUG/NARCOTIC', 'LARCENY/THEFT', 'NON-CRIMINAL', 'OTHER OFFENSES', 'VEHICLE THEFT', 'ARSON', 'DISORDERLY CONDUCT', 'DRUNKENNESS', 'EMBEZZLEMENT', 'FRAUD', 'GAMBLING', 'KIDNAPPING', 'ROBBERY', 'SECONDARY CODES', 'SEX OFFENSES FORCIBLE', 'SUSPICIOUS OCC', 'TRESPASS', 'WEAPON LAWS', 'FORGERY/COUNTERFEITING', 'RUNAWAY', 'LIQUOR LAWS', 'EXTORTION', 'FAMILY OFFENSES', 'RECOVERED VEHICLE', 'LOITERING', 'DRIVING UNDER THE INFLUENCE', 'STOLEN PROPERTY', 'SUICIDE', 'BRIBERY', 'SEX OFFENSES NON FORCIBLE', 'BAD CHECKS', 'TREA', 'PORNOGRAPHY/OBSCENE MAT'])\n",
    "crime_in_sf_week_low = crime_in_sf_week.drop(['ASSAULT', 'BURGLARY', 'DRUG/NARCOTIC', 'LARCENY/THEFT', 'NON-CRIMINAL', 'OTHER OFFENSES', 'VEHICLE THEFT', 'MISSING PERSON', 'PROSTITUTION', 'VANDALISM', 'WARRANTS'], axis=0)"
   ]
  },
  {
   "cell_type": "code",
   "execution_count": null,
   "metadata": {
    "collapsed": false
   },
   "outputs": [],
   "source": [
    "crime_in_sf_week_high.plot(kind='bar', figsize=(20,10), rot=0, fontsize=20)"
   ]
  },
  {
   "cell_type": "code",
   "execution_count": null,
   "metadata": {
    "collapsed": false
   },
   "outputs": [],
   "source": [
    "crime_in_sf_week_medium.plot(kind='bar', figsize=(20,10), rot=0, fontsize=20)"
   ]
  },
  {
   "cell_type": "code",
   "execution_count": null,
   "metadata": {
    "collapsed": false
   },
   "outputs": [],
   "source": [
    "crime_in_sf_week_low.plot(kind='bar', figsize=(20,10), rot=45, fontsize=20)"
   ]
  },
  {
   "cell_type": "code",
   "execution_count": null,
   "metadata": {
    "collapsed": true
   },
   "outputs": [],
   "source": [
    "test_pred_2015 = test_pred_2015.drop(['DayOfWeek', 'Dates', 'highest_probability', 'second_most_likely', 'second_hightest_prob', 'third_most_likely', 'third_highest_prob'], axis=1)\n",
    "test_pred_2015 = pd.DataFrame((pd.get_dummies(test_pred_2015, columns = ['most_likely'], prefix='',prefix_sep='')).sum())\n",
    "test_pred_2015 = test_pred_2015.rename(columns={0:'2015'})\n",
    "\n",
    "test_pred_2014 = test_pred_2014.drop(['DayOfWeek', 'Dates', 'highest_probability', 'second_most_likely', 'second_hightest_prob', 'third_most_likely', 'third_highest_prob'], axis=1)\n",
    "test_pred_2014 = pd.DataFrame((pd.get_dummies(test_pred_2014, columns = ['most_likely'], prefix='',prefix_sep='')).sum())\n",
    "test_pred_2014 = test_pred_2014.rename(columns={0:'2014'})\n",
    "\n",
    "test_pred_2013 = test_pred_2013.drop(['DayOfWeek', 'Dates', 'highest_probability', 'second_most_likely', 'second_hightest_prob', 'third_most_likely', 'third_highest_prob'], axis=1)\n",
    "test_pred_2013 = pd.DataFrame((pd.get_dummies(test_pred_2013, columns = ['most_likely'], prefix='',prefix_sep='')).sum())\n",
    "test_pred_2013 = test_pred_2013.rename(columns={0:'2013'})\n",
    "\n",
    "test_pred_2012 = test_pred_2012.drop(['DayOfWeek', 'Dates', 'highest_probability', 'second_most_likely', 'second_hightest_prob', 'third_most_likely', 'third_highest_prob'], axis=1)\n",
    "test_pred_2012 = pd.DataFrame((pd.get_dummies(test_pred_2012, columns = ['most_likely'], prefix='',prefix_sep='')).sum())\n",
    "test_pred_2012 = test_pred_2012.rename(columns={0:'2012'})\n",
    "\n",
    "test_pred_2011 = test_pred_2011.drop(['DayOfWeek', 'Dates', 'highest_probability', 'second_most_likely', 'second_hightest_prob', 'third_most_likely', 'third_highest_prob'], axis=1)\n",
    "test_pred_2011 = pd.DataFrame((pd.get_dummies(test_pred_2011, columns = ['most_likely'], prefix='',prefix_sep='')).sum())\n",
    "test_pred_2011 = test_pred_2011.rename(columns={0:'2011'})\n",
    "\n",
    "test_pred_2010 = test_pred_2010.drop(['DayOfWeek', 'Dates', 'highest_probability', 'second_most_likely', 'second_hightest_prob', 'third_most_likely', 'third_highest_prob'], axis=1)\n",
    "test_pred_2010 = pd.DataFrame((pd.get_dummies(test_pred_2010, columns = ['most_likely'], prefix='',prefix_sep='')).sum())\n",
    "test_pred_2010 = test_pred_2010.rename(columns={0:'2010'})\n",
    "\n",
    "test_pred_2009 = test_pred_2009.drop(['DayOfWeek', 'Dates', 'highest_probability', 'second_most_likely', 'second_hightest_prob', 'third_most_likely', 'third_highest_prob'], axis=1)\n",
    "test_pred_2009 = pd.DataFrame((pd.get_dummies(test_pred_2009, columns = ['most_likely'], prefix='',prefix_sep='')).sum())\n",
    "test_pred_2009 = test_pred_2009.rename(columns={0:'2009'})\n",
    "\n",
    "test_pred_2008 = test_pred_2008.drop(['DayOfWeek', 'Dates', 'highest_probability', 'second_most_likely', 'second_hightest_prob', 'third_most_likely', 'third_highest_prob'], axis=1)\n",
    "test_pred_2008 = pd.DataFrame((pd.get_dummies(test_pred_2008, columns = ['most_likely'], prefix='',prefix_sep='')).sum())\n",
    "test_pred_2008 = test_pred_2008.rename(columns={0:'2008'})\n",
    "\n",
    "test_pred_2007 = test_pred_2007.drop(['DayOfWeek', 'Dates', 'highest_probability', 'second_most_likely', 'second_hightest_prob', 'third_most_likely', 'third_highest_prob'], axis=1)\n",
    "test_pred_2007 = pd.DataFrame((pd.get_dummies(test_pred_2007, columns = ['most_likely'], prefix='',prefix_sep='')).sum())\n",
    "test_pred_2007 = test_pred_2007.rename(columns={0:'2007'})\n",
    "\n",
    "test_pred_2006 = test_pred_2006.drop(['DayOfWeek', 'Dates', 'highest_probability', 'second_most_likely', 'second_hightest_prob', 'third_most_likely', 'third_highest_prob'], axis=1)\n",
    "test_pred_2006 = pd.DataFrame((pd.get_dummies(test_pred_2006, columns = ['most_likely'], prefix='',prefix_sep='')).sum())\n",
    "test_pred_2006 = test_pred_2006.rename(columns={0:'2006'})\n",
    "\n",
    "test_pred_2005 = test_pred_2005.drop(['DayOfWeek', 'Dates', 'highest_probability', 'second_most_likely', 'second_hightest_prob', 'third_most_likely', 'third_highest_prob'], axis=1)\n",
    "test_pred_2005 = pd.DataFrame((pd.get_dummies(test_pred_2005, columns = ['most_likely'], prefix='',prefix_sep='')).sum())\n",
    "test_pred_2005 = test_pred_2005.rename(columns={0:'2005'})\n",
    "\n",
    "test_pred_2004 = test_pred_2004.drop(['DayOfWeek', 'Dates', 'highest_probability', 'second_most_likely', 'second_hightest_prob', 'third_most_likely', 'third_highest_prob'], axis=1)\n",
    "test_pred_2004 = pd.DataFrame((pd.get_dummies(test_pred_2004, columns = ['most_likely'], prefix='',prefix_sep='')).sum())\n",
    "test_pred_2004 = test_pred_2004.rename(columns={0:'2004'})\n",
    "\n",
    "test_pred_2003 = test_pred_2003.drop(['DayOfWeek', 'Dates', 'highest_probability', 'second_most_likely', 'second_hightest_prob', 'third_most_likely', 'third_highest_prob'], axis=1)\n",
    "test_pred_2003 = pd.DataFrame((pd.get_dummies(test_pred_2003, columns = ['most_likely'], prefix='',prefix_sep='')).sum())\n",
    "test_pred_2003 = test_pred_2003.rename(columns={0:'2003'})"
   ]
  },
  {
   "cell_type": "code",
   "execution_count": null,
   "metadata": {
    "collapsed": true
   },
   "outputs": [],
   "source": [
    "crime_in_sf_2015 = crime_in_sf_2015.drop(['DayOfWeek', 'Dates'], axis=1)\n",
    "crime_in_sf_2015 = pd.DataFrame((pd.get_dummies(crime_in_sf_2015, columns = ['Category'], prefix='',prefix_sep='')).sum())\n",
    "crime_in_sf_2015 = crime_in_sf_2015.rename(columns={0:'2015'})\n",
    "\n",
    "crime_in_sf_2014 = crime_in_sf_2014.drop(['DayOfWeek', 'Dates'], axis=1)\n",
    "crime_in_sf_2014 = pd.DataFrame((pd.get_dummies(crime_in_sf_2014, columns = ['Category'], prefix='',prefix_sep='')).sum())\n",
    "crime_in_sf_2014 = crime_in_sf_2014.rename(columns={0:'2014'})\n",
    "\n",
    "crime_in_sf_2013 = crime_in_sf_2013.drop(['DayOfWeek', 'Dates'], axis=1)\n",
    "crime_in_sf_2013 = pd.DataFrame((pd.get_dummies(crime_in_sf_2013, columns = ['Category'], prefix='',prefix_sep='')).sum())\n",
    "crime_in_sf_2013 = crime_in_sf_2013.rename(columns={0:'2013'})\n",
    "\n",
    "crime_in_sf_2012 = crime_in_sf_2012.drop(['DayOfWeek', 'Dates'], axis=1)\n",
    "crime_in_sf_2012 = pd.DataFrame((pd.get_dummies(crime_in_sf_2012, columns = ['Category'], prefix='',prefix_sep='')).sum())\n",
    "crime_in_sf_2012 = crime_in_sf_2012.rename(columns={0:'2012'})\n",
    "\n",
    "crime_in_sf_2011 = crime_in_sf_2011.drop(['DayOfWeek', 'Dates'], axis=1)\n",
    "crime_in_sf_2011 = pd.DataFrame((pd.get_dummies(crime_in_sf_2011, columns = ['Category'], prefix='',prefix_sep='')).sum())\n",
    "crime_in_sf_2011 = crime_in_sf_2011.rename(columns={0:'2011'})\n",
    "\n",
    "crime_in_sf_2010 = crime_in_sf_2010.drop(['DayOfWeek', 'Dates'], axis=1)\n",
    "crime_in_sf_2010 = pd.DataFrame((pd.get_dummies(crime_in_sf_2010, columns = ['Category'], prefix='',prefix_sep='')).sum())\n",
    "crime_in_sf_2010 = crime_in_sf_2010.rename(columns={0:'2010'})\n",
    "\n",
    "crime_in_sf_2009 = crime_in_sf_2009.drop(['DayOfWeek', 'Dates'], axis=1)\n",
    "crime_in_sf_2009 = pd.DataFrame((pd.get_dummies(crime_in_sf_2009, columns = ['Category'], prefix='',prefix_sep='')).sum())\n",
    "crime_in_sf_2009 = crime_in_sf_2009.rename(columns={0:'2009'})\n",
    "\n",
    "crime_in_sf_2008 = crime_in_sf_2008.drop(['DayOfWeek', 'Dates'], axis=1)\n",
    "crime_in_sf_2008 = pd.DataFrame((pd.get_dummies(crime_in_sf_2008, columns = ['Category'], prefix='',prefix_sep='')).sum())\n",
    "crime_in_sf_2008 = crime_in_sf_2008.rename(columns={0:'2008'})\n",
    "\n",
    "crime_in_sf_2007 = crime_in_sf_2007.drop(['DayOfWeek', 'Dates'], axis=1)\n",
    "crime_in_sf_2007 = pd.DataFrame((pd.get_dummies(crime_in_sf_2007, columns = ['Category'], prefix='',prefix_sep='')).sum())\n",
    "crime_in_sf_2007 = crime_in_sf_2007.rename(columns={0:'2007'})\n",
    "\n",
    "crime_in_sf_2006 = crime_in_sf_2006.drop(['DayOfWeek', 'Dates'], axis=1)\n",
    "crime_in_sf_2006 = pd.DataFrame((pd.get_dummies(crime_in_sf_2006, columns = ['Category'], prefix='',prefix_sep='')).sum())\n",
    "crime_in_sf_2006 = crime_in_sf_2006.rename(columns={0:'2006'})\n",
    "\n",
    "crime_in_sf_2005 = crime_in_sf_2005.drop(['DayOfWeek', 'Dates'], axis=1)\n",
    "crime_in_sf_2005 = pd.DataFrame((pd.get_dummies(crime_in_sf_2005, columns = ['Category'], prefix='',prefix_sep='')).sum())\n",
    "crime_in_sf_2005 = crime_in_sf_2005.rename(columns={0:'2005'})\n",
    "\n",
    "crime_in_sf_2004 = crime_in_sf_2004.drop(['DayOfWeek', 'Dates'], axis=1)\n",
    "crime_in_sf_2004 = pd.DataFrame((pd.get_dummies(crime_in_sf_2004, columns = ['Category'], prefix='',prefix_sep='')).sum())\n",
    "crime_in_sf_2004 = crime_in_sf_2004.rename(columns={0:'2004'})\n",
    "\n",
    "crime_in_sf_2003 = crime_in_sf_2003.drop(['DayOfWeek', 'Dates'], axis=1)\n",
    "crime_in_sf_2003 = pd.DataFrame((pd.get_dummies(crime_in_sf_2003, columns = ['Category'], prefix='',prefix_sep='')).sum())\n",
    "crime_in_sf_2003 = crime_in_sf_2003.rename(columns={0:'2003'})"
   ]
  },
  {
   "cell_type": "code",
   "execution_count": null,
   "metadata": {
    "collapsed": false
   },
   "outputs": [],
   "source": [
    "two015 =[]\n",
    "for cat in test_pred.most_likely.unique():\n",
    "    if cat not in test_pred_2015.index:\n",
    "        two015.append(cat)\n",
    "        \n",
    "test_pred_2015 = test_pred_2015.reset_index()\n",
    "test_pred_2015 = test_pred_2015.rename(columns={'index':'Category'})\n",
    "two015 = pd.DataFrame(two015)\n",
    "two015 = two015.rename(columns={0:'Category'})\n",
    "test_pred_2015 = test_pred_2015.append(two015)\n",
    "test_pred_2015 = test_pred_2015.fillna(0)\n",
    "test_pred_2015.index = test_pred_2015.pop('Category')\n",
    "\n",
    "two014 =[]\n",
    "for cat in test_pred.most_likely.unique():\n",
    "    if cat not in test_pred_2014.index:\n",
    "        two014.append(cat)\n",
    "        \n",
    "test_pred_2014 = test_pred_2014.reset_index()\n",
    "test_pred_2014 = test_pred_2014.rename(columns={'index':'Category'})\n",
    "two014 = pd.DataFrame(two014)\n",
    "two014 = two014.rename(columns={0:'Category'})\n",
    "test_pred_2014 = test_pred_2014.append(two014)\n",
    "test_pred_2014 = test_pred_2014.fillna(0)\n",
    "test_pred_2014.index = test_pred_2014.pop('Category')\n",
    "\n",
    "two013 =[]\n",
    "for cat in test_pred.most_likely.unique():\n",
    "    if cat not in test_pred_2013.index:\n",
    "        two013.append(cat)\n",
    "        \n",
    "test_pred_2013 = test_pred_2013.reset_index()\n",
    "test_pred_2013 = test_pred_2013.rename(columns={'index':'Category'})\n",
    "two013 = pd.DataFrame(two013)\n",
    "two013 = two013.rename(columns={0:'Category'})\n",
    "test_pred_2013 = test_pred_2013.append(two013)\n",
    "test_pred_2013 = test_pred_2013.fillna(0)\n",
    "test_pred_2013.index = test_pred_2013.pop('Category')\n",
    "\n",
    "two012 =[]\n",
    "for cat in test_pred.most_likely.unique():\n",
    "    if cat not in test_pred_2012.index:\n",
    "        two012.append(cat)\n",
    "        \n",
    "test_pred_2012 = test_pred_2012.reset_index()\n",
    "test_pred_2012 = test_pred_2012.rename(columns={'index':'Category'})\n",
    "two012 = pd.DataFrame(two012)\n",
    "two012 = two012.rename(columns={0:'Category'})\n",
    "test_pred_2012 = test_pred_2012.append(two012)\n",
    "test_pred_2012 = test_pred_2012.fillna(0)\n",
    "test_pred_2012.index = test_pred_2012.pop('Category')\n",
    "\n",
    "two011 =[]\n",
    "for cat in test_pred.most_likely.unique():\n",
    "    if cat not in test_pred_2011.index:\n",
    "        two011.append(cat)\n",
    "        \n",
    "test_pred_2011 = test_pred_2011.reset_index()\n",
    "test_pred_2011 = test_pred_2011.rename(columns={'index':'Category'})\n",
    "two011 = pd.DataFrame(two011)\n",
    "two011 = two011.rename(columns={0:'Category'})\n",
    "test_pred_2011 = test_pred_2011.append(two011)\n",
    "test_pred_2011 = test_pred_2011.fillna(0)\n",
    "test_pred_2011.index = test_pred_2011.pop('Category')\n",
    "\n",
    "two010 =[]\n",
    "for cat in test_pred.most_likely.unique():\n",
    "    if cat not in test_pred_2010.index:\n",
    "        two010.append(cat)\n",
    "        \n",
    "test_pred_2010 = test_pred_2010.reset_index()\n",
    "test_pred_2010 = test_pred_2010.rename(columns={'index':'Category'})\n",
    "two010 = pd.DataFrame(two010)\n",
    "two010 = two010.rename(columns={0:'Category'})\n",
    "test_pred_2010 = test_pred_2010.append(two010)\n",
    "test_pred_2010 = test_pred_2010.fillna(0)\n",
    "test_pred_2010.index = test_pred_2010.pop('Category')\n",
    "\n",
    "two009 =[]\n",
    "for cat in test_pred.most_likely.unique():\n",
    "    if cat not in test_pred_2009.index:\n",
    "        two009.append(cat)\n",
    "        \n",
    "test_pred_2009 = test_pred_2009.reset_index()\n",
    "test_pred_2009 = test_pred_2009.rename(columns={'index':'Category'})\n",
    "two009 = pd.DataFrame(two009)\n",
    "two009 = two009.rename(columns={0:'Category'})\n",
    "test_pred_2009 = test_pred_2009.append(two009)\n",
    "test_pred_2009 = test_pred_2009.fillna(0)\n",
    "test_pred_2009.index = test_pred_2009.pop('Category')\n",
    "\n",
    "two008 =[]\n",
    "for cat in test_pred.most_likely.unique():\n",
    "    if cat not in test_pred_2008.index:\n",
    "        two008.append(cat)\n",
    "        \n",
    "test_pred_2008 = test_pred_2008.reset_index()\n",
    "test_pred_2008 = test_pred_2008.rename(columns={'index':'Category'})\n",
    "two008 = pd.DataFrame(two008)\n",
    "two008 = two008.rename(columns={0:'Category'})\n",
    "test_pred_2008 = test_pred_2008.append(two008)\n",
    "test_pred_2008 = test_pred_2008.fillna(0)\n",
    "test_pred_2008.index = test_pred_2008.pop('Category')\n",
    "\n",
    "two007 =[]\n",
    "for cat in test_pred.most_likely.unique():\n",
    "    if cat not in test_pred_2007.index:\n",
    "        two007.append(cat)\n",
    "        \n",
    "test_pred_2007 = test_pred_2007.reset_index()\n",
    "test_pred_2007 = test_pred_2007.rename(columns={'index':'Category'})\n",
    "two007 = pd.DataFrame(two007)\n",
    "two007 = two007.rename(columns={0:'Category'})\n",
    "test_pred_2007 = test_pred_2007.append(two007)\n",
    "test_pred_2007 = test_pred_2007.fillna(0)\n",
    "test_pred_2007.index = test_pred_2007.pop('Category')\n",
    "\n",
    "two006 =[]\n",
    "for cat in test_pred.most_likely.unique():\n",
    "    if cat not in test_pred_2006.index:\n",
    "        two006.append(cat)\n",
    "        \n",
    "test_pred_2006 = test_pred_2006.reset_index()\n",
    "test_pred_2006 = test_pred_2006.rename(columns={'index':'Category'})\n",
    "two006 = pd.DataFrame(two006)\n",
    "two006 = two006.rename(columns={0:'Category'})\n",
    "test_pred_2006 = test_pred_2006.append(two006)\n",
    "test_pred_2006 = test_pred_2006.fillna(0)\n",
    "test_pred_2006.index = test_pred_2006.pop('Category')\n",
    "\n",
    "two005 =[]\n",
    "for cat in test_pred.most_likely.unique():\n",
    "    if cat not in test_pred_2005.index:\n",
    "        two005.append(cat)\n",
    "        \n",
    "test_pred_2005 = test_pred_2005.reset_index()\n",
    "test_pred_2005 = test_pred_2005.rename(columns={'index':'Category'})\n",
    "two005 = pd.DataFrame(two005)\n",
    "two005 = two005.rename(columns={0:'Category'})\n",
    "test_pred_2005 = test_pred_2005.append(two005)\n",
    "test_pred_2005 = test_pred_2005.fillna(0)\n",
    "test_pred_2005.index = test_pred_2005.pop('Category')\n",
    "\n",
    "two004 =[]\n",
    "for cat in test_pred.most_likely.unique():\n",
    "    if cat not in test_pred_2004.index:\n",
    "        two004.append(cat)\n",
    "        \n",
    "test_pred_2004 = test_pred_2004.reset_index()\n",
    "test_pred_2004 = test_pred_2004.rename(columns={'index':'Category'})\n",
    "two004 = pd.DataFrame(two004)\n",
    "two004 = two004.rename(columns={0:'Category'})\n",
    "test_pred_2004 = test_pred_2004.append(two004)\n",
    "test_pred_2004 = test_pred_2004.fillna(0)\n",
    "test_pred_2004.index = test_pred_2004.pop('Category')\n",
    "\n",
    "two003 =[]\n",
    "for cat in test_pred.most_likely.unique():\n",
    "    if cat not in test_pred_2003.index:\n",
    "        two003.append(cat)\n",
    "        \n",
    "test_pred_2003 = test_pred_2003.reset_index()\n",
    "test_pred_2003 = test_pred_2003.rename(columns={'index':'Category'})\n",
    "two003 = pd.DataFrame(two003)\n",
    "two003 = two003.rename(columns={0:'Category'})\n",
    "test_pred_2003 = test_pred_2003.append(two003)\n",
    "test_pred_2003 = test_pred_2003.fillna(0)\n",
    "test_pred_2003.index = test_pred_2003.pop('Category')\n",
    "\n",
    "test_pred_years = test_pred_2015.join(test_pred_2014).join(test_pred_2013).join(test_pred_2012).join(test_pred_2011).join(test_pred_2010).join(test_pred_2009).join(test_pred_2008).join(test_pred_2007).join(test_pred_2006).join(test_pred_2005).join(test_pred_2004).join(test_pred_2003)\n",
    "test_pred_years = test_pred_week.fillna(0)"
   ]
  },
  {
   "cell_type": "code",
   "execution_count": null,
   "metadata": {
    "collapsed": false
   },
   "outputs": [],
   "source": [
    "two015 =[]\n",
    "for cat in crime_in_sf.Category.unique():\n",
    "    if cat not in crime_in_sf_2015.index:\n",
    "        two015.append(cat)\n",
    "        \n",
    "crime_in_sf_2015 = crime_in_sf_2015.reset_index()\n",
    "crime_in_sf_2015 = crime_in_sf_2015.rename(columns={'index':'Category'})\n",
    "two015 = pd.DataFrame(two015)\n",
    "two015 = two015.rename(columns={0:'Category'})\n",
    "crime_in_sf_2015 = crime_in_sf_2015.append(two015)\n",
    "crime_in_sf_2015 = crime_in_sf_2015.fillna(0)\n",
    "crime_in_sf_2015.index = crime_in_sf_2015.pop('Category')\n",
    "\n",
    "two014 =[]\n",
    "for cat in crime_in_sf.Category.unique():\n",
    "    if cat not in crime_in_sf_2014.index:\n",
    "        two014.append(cat)\n",
    "        \n",
    "crime_in_sf_2014 = crime_in_sf_2014.reset_index()\n",
    "crime_in_sf_2014 = crime_in_sf_2014.rename(columns={'index':'Category'})\n",
    "two014 = pd.DataFrame(two014)\n",
    "two014 = two014.rename(columns={0:'Category'})\n",
    "crime_in_sf_2014 = crime_in_sf_2014.append(two014)\n",
    "crime_in_sf_2014 = crime_in_sf_2014.fillna(0)\n",
    "crime_in_sf_2014.index = crime_in_sf_2014.pop('Category')\n",
    "\n",
    "two013 =[]\n",
    "for cat in crime_in_sf.Category.unique():\n",
    "    if cat not in crime_in_sf_2013.index:\n",
    "        two013.append(cat)\n",
    "        \n",
    "crime_in_sf_2013 = crime_in_sf_2013.reset_index()\n",
    "crime_in_sf_2013 = crime_in_sf_2013.rename(columns={'index':'Category'})\n",
    "two013 = pd.DataFrame(two013)\n",
    "two013 = two013.rename(columns={0:'Category'})\n",
    "crime_in_sf_2013 = crime_in_sf_2013.append(two013)\n",
    "crime_in_sf_2013 = crime_in_sf_2013.fillna(0)\n",
    "crime_in_sf_2013.index = crime_in_sf_2013.pop('Category')\n",
    "\n",
    "two012 =[]\n",
    "for cat in crime_in_sf.Category.unique():\n",
    "    if cat not in crime_in_sf_2012.index:\n",
    "        two012.append(cat)\n",
    "        \n",
    "crime_in_sf_2012 = crime_in_sf_2012.reset_index()\n",
    "crime_in_sf_2012 = crime_in_sf_2012.rename(columns={'index':'Category'})\n",
    "two012 = pd.DataFrame(two012)\n",
    "two012 = two012.rename(columns={0:'Category'})\n",
    "crime_in_sf_2012 = crime_in_sf_2012.append(two012)\n",
    "crime_in_sf_2012 = crime_in_sf_2012.fillna(0)\n",
    "crime_in_sf_2012.index = crime_in_sf_2012.pop('Category')\n",
    "\n",
    "two011 =[]\n",
    "for cat in crime_in_sf.Category.unique():\n",
    "    if cat not in crime_in_sf_2011.index:\n",
    "        two011.append(cat)\n",
    "        \n",
    "crime_in_sf_2011 = crime_in_sf_2011.reset_index()\n",
    "crime_in_sf_2011 = crime_in_sf_2011.rename(columns={'index':'Category'})\n",
    "two011 = pd.DataFrame(two011)\n",
    "two011 = two011.rename(columns={0:'Category'})\n",
    "crime_in_sf_2011 = crime_in_sf_2011.append(two011)\n",
    "crime_in_sf_2011 = crime_in_sf_2011.fillna(0)\n",
    "crime_in_sf_2011.index = crime_in_sf_2011.pop('Category')\n",
    "\n",
    "two010 =[]\n",
    "for cat in crime_in_sf.Category.unique():\n",
    "    if cat not in crime_in_sf_2010.index:\n",
    "        two010.append(cat)\n",
    "        \n",
    "crime_in_sf_2010 = crime_in_sf_2010.reset_index()\n",
    "crime_in_sf_2010 = crime_in_sf_2010.rename(columns={'index':'Category'})\n",
    "two010 = pd.DataFrame(two010)\n",
    "two010 = two010.rename(columns={0:'Category'})\n",
    "crime_in_sf_2010 = crime_in_sf_2010.append(two010)\n",
    "crime_in_sf_2010 = crime_in_sf_2010.fillna(0)\n",
    "crime_in_sf_2010.index = crime_in_sf_2010.pop('Category')\n",
    "\n",
    "two009 =[]\n",
    "for cat in crime_in_sf.Category.unique():\n",
    "    if cat not in crime_in_sf_2009.index:\n",
    "        two009.append(cat)\n",
    "        \n",
    "crime_in_sf_2009 = crime_in_sf_2009.reset_index()\n",
    "crime_in_sf_2009 = crime_in_sf_2009.rename(columns={'index':'Category'})\n",
    "two009 = pd.DataFrame(two009)\n",
    "two009 = two009.rename(columns={0:'Category'})\n",
    "crime_in_sf_2009 = crime_in_sf_2009.append(two009)\n",
    "crime_in_sf_2009 = crime_in_sf_2009.fillna(0)\n",
    "crime_in_sf_2009.index = crime_in_sf_2009.pop('Category')\n",
    "\n",
    "two008 =[]\n",
    "for cat in crime_in_sf.Category.unique():\n",
    "    if cat not in crime_in_sf_2008.index:\n",
    "        two008.append(cat)\n",
    "        \n",
    "crime_in_sf_2008 = crime_in_sf_2008.reset_index()\n",
    "crime_in_sf_2008 = crime_in_sf_2008.rename(columns={'index':'Category'})\n",
    "two008 = pd.DataFrame(two008)\n",
    "two008 = two008.rename(columns={0:'Category'})\n",
    "crime_in_sf_2008 = crime_in_sf_2008.append(two008)\n",
    "crime_in_sf_2008 = crime_in_sf_2008.fillna(0)\n",
    "crime_in_sf_2008.index = crime_in_sf_2008.pop('Category')\n",
    "\n",
    "two007 =[]\n",
    "for cat in crime_in_sf.Category.unique():\n",
    "    if cat not in crime_in_sf_2007.index:\n",
    "        two007.append(cat)\n",
    "        \n",
    "crime_in_sf_2007 = crime_in_sf_2007.reset_index()\n",
    "crime_in_sf_2007 = crime_in_sf_2007.rename(columns={'index':'Category'})\n",
    "two007 = pd.DataFrame(two007)\n",
    "two007 = two007.rename(columns={0:'Category'})\n",
    "crime_in_sf_2007 = crime_in_sf_2007.append(two007)\n",
    "crime_in_sf_2007 = crime_in_sf_2007.fillna(0)\n",
    "crime_in_sf_2007.index = crime_in_sf_2007.pop('Category')\n",
    "\n",
    "two006 =[]\n",
    "for cat in crime_in_sf.Category.unique():\n",
    "    if cat not in crime_in_sf_2006.index:\n",
    "        two006.append(cat)\n",
    "        \n",
    "crime_in_sf_2006 = crime_in_sf_2006.reset_index()\n",
    "crime_in_sf_2006 = crime_in_sf_2006.rename(columns={'index':'Category'})\n",
    "two006 = pd.DataFrame(two006)\n",
    "two006 = two006.rename(columns={0:'Category'})\n",
    "crime_in_sf_2006 = crime_in_sf_2006.append(two006)\n",
    "crime_in_sf_2006 = crime_in_sf_2006.fillna(0)\n",
    "crime_in_sf_2006.index = crime_in_sf_2006.pop('Category')\n",
    "\n",
    "two005 =[]\n",
    "for cat in crime_in_sf.Category.unique():\n",
    "    if cat not in crime_in_sf_2005.index:\n",
    "        two005.append(cat)\n",
    "        \n",
    "crime_in_sf_2005 = crime_in_sf_2005.reset_index()\n",
    "crime_in_sf_2005 = crime_in_sf_2005.rename(columns={'index':'Category'})\n",
    "two005 = pd.DataFrame(two005)\n",
    "two005 = two005.rename(columns={0:'Category'})\n",
    "crime_in_sf_2005 = crime_in_sf_2005.append(two005)\n",
    "crime_in_sf_2005 = crime_in_sf_2005.fillna(0)\n",
    "crime_in_sf_2005.index = crime_in_sf_2005.pop('Category')\n",
    "\n",
    "two004 =[]\n",
    "for cat in crime_in_sf.Category.unique():\n",
    "    if cat not in crime_in_sf_2004.index:\n",
    "        two004.append(cat)\n",
    "        \n",
    "crime_in_sf_2004 = crime_in_sf_2004.reset_index()\n",
    "crime_in_sf_2004 = crime_in_sf_2004.rename(columns={'index':'Category'})\n",
    "two004 = pd.DataFrame(two004)\n",
    "two004 = two004.rename(columns={0:'Category'})\n",
    "crime_in_sf_2004 = crime_in_sf_2004.append(two004)\n",
    "crime_in_sf_2004 = crime_in_sf_2004.fillna(0)\n",
    "crime_in_sf_2004.index = crime_in_sf_2004.pop('Category')\n",
    "\n",
    "two003 =[]\n",
    "for cat in crime_in_sf.Category.unique():\n",
    "    if cat not in crime_in_sf_2003.index:\n",
    "        two003.append(cat)\n",
    "        \n",
    "crime_in_sf_2003 = crime_in_sf_2003.reset_index()\n",
    "crime_in_sf_2003 = crime_in_sf_2003.rename(columns={'index':'Category'})\n",
    "two003 = pd.DataFrame(two003)\n",
    "two003 = two003.rename(columns={0:'Category'})\n",
    "crime_in_sf_2003 = crime_in_sf_2003.append(two003)\n",
    "crime_in_sf_2003 = crime_in_sf_2003.fillna(0)\n",
    "crime_in_sf_2003.index = crime_in_sf_2003.pop('Category')\n",
    "\n",
    "crime_in_sf_years = crime_in_sf_2015.join(crime_in_sf_2014).join(crime_in_sf_2013).join(crime_in_sf_2012).join(crime_in_sf_2011).join(crime_in_sf_2010).join(crime_in_sf_2009).join(crime_in_sf_2008).join(crime_in_sf_2007).join(crime_in_sf_2006).join(crime_in_sf_2005).join(crime_in_sf_2004).join(crime_in_sf_2003)\n",
    "crime_in_sf_years = crime_in_sf_week.fillna(0)"
   ]
  },
  {
   "cell_type": "code",
   "execution_count": null,
   "metadata": {
    "collapsed": false
   },
   "outputs": [],
   "source": [
    "test_pred_years = test_pred_2015.join(test_pred_2014).join(test_pred_2013).join(test_pred_2012).join(test_pred_2011).join(test_pred_2010).join(test_pred_2009).join(test_pred_2008).join(test_pred_2007).join(test_pred_2006).join(test_pred_2005).join(test_pred_2004).join(test_pred_2003)"
   ]
  },
  {
   "cell_type": "code",
   "execution_count": null,
   "metadata": {
    "collapsed": true
   },
   "outputs": [],
   "source": [
    "crime_in_sf_years = crime_in_sf_2015.join(crime_in_sf_2014).join(crime_in_sf_2013).join(crime_in_sf_2012).join(crime_in_sf_2011).join(crime_in_sf_2010).join(crime_in_sf_2009).join(crime_in_sf_2008).join(crime_in_sf_2007).join(crime_in_sf_2006).join(crime_in_sf_2005).join(crime_in_sf_2004).join(crime_in_sf_2003)"
   ]
  },
  {
   "cell_type": "code",
   "execution_count": null,
   "metadata": {
    "collapsed": false
   },
   "outputs": [],
   "source": [
    "test_pred_years_high = test_pred_years.drop(['ARSON', 'BURGLARY', 'DISORDERLY CONDUCT', 'DRUNKENNESS', 'EMBEZZLEMENT', 'FRAUD', 'GAMBLING', 'KIDNAPPING', 'MISSING PERSON', 'PROSTITUTION', 'ROBBERY', 'SECONDARY CODES', 'SEX OFFENSES FORCIBLE', 'SUSPICIOUS OCC', 'TRESPASS', 'VANDALISM', 'WARRANTS', 'WEAPON LAWS', 'FORGERY/COUNTERFEITING', 'RUNAWAY', 'LIQUOR LAWS', 'EXTORTION', 'FAMILY OFFENSES', 'RECOVERED VEHICLE', 'LOITERING', 'DRIVING UNDER THE INFLUENCE', 'STOLEN PROPERTY', 'SUICIDE', 'BRIBERY', 'SEX OFFENSES NON FORCIBLE', 'BAD CHECKS'])\n",
    "test_pred_years_medium = test_pred_years.drop(['ASSAULT', 'DRUG/NARCOTIC', 'LARCENY/THEFT', 'NON-CRIMINAL', 'OTHER OFFENSES', 'VEHICLE THEFT', 'ARSON', 'DISORDERLY CONDUCT', 'DRUNKENNESS', 'EMBEZZLEMENT', 'FRAUD', 'GAMBLING', 'KIDNAPPING', 'ROBBERY', 'SECONDARY CODES', 'SEX OFFENSES FORCIBLE', 'SUSPICIOUS OCC', 'TRESPASS', 'WEAPON LAWS', 'FORGERY/COUNTERFEITING', 'RUNAWAY', 'LIQUOR LAWS', 'EXTORTION', 'FAMILY OFFENSES', 'RECOVERED VEHICLE', 'LOITERING', 'DRIVING UNDER THE INFLUENCE', 'STOLEN PROPERTY', 'SUICIDE', 'BRIBERY', 'SEX OFFENSES NON FORCIBLE', 'BAD CHECKS'])\n",
    "test_pred_years_low = test_pred_years.drop(['ASSAULT', 'BURGLARY', 'DRUG/NARCOTIC', 'LARCENY/THEFT', 'NON-CRIMINAL', 'OTHER OFFENSES', 'VEHICLE THEFT', 'MISSING PERSON', 'PROSTITUTION', 'VANDALISM', 'WARRANTS'], axis=0)"
   ]
  },
  {
   "cell_type": "code",
   "execution_count": null,
   "metadata": {
    "collapsed": true
   },
   "outputs": [],
   "source": [
    "crime_in_sf_years_high = crime_in_sf_years.drop(['ARSON', 'BURGLARY', 'DISORDERLY CONDUCT', 'DRUNKENNESS', 'EMBEZZLEMENT', 'FRAUD', 'GAMBLING', 'KIDNAPPING', 'MISSING PERSON', 'PROSTITUTION', 'ROBBERY', 'SECONDARY CODES', 'SEX OFFENSES FORCIBLE', 'SUSPICIOUS OCC', 'TRESPASS', 'VANDALISM', 'WARRANTS', 'WEAPON LAWS', 'FORGERY/COUNTERFEITING', 'RUNAWAY', 'LIQUOR LAWS', 'EXTORTION', 'FAMILY OFFENSES', 'RECOVERED VEHICLE', 'LOITERING', 'DRIVING UNDER THE INFLUENCE', 'STOLEN PROPERTY', 'SUICIDE', 'BRIBERY', 'SEX OFFENSES NON FORCIBLE', 'BAD CHECKS', 'TREA', 'PORNOGRAPHY/OBSCENE MAT'])\n",
    "crime_in_sf_years_medium = crime_in_sf_years.drop(['ASSAULT', 'DRUG/NARCOTIC', 'LARCENY/THEFT', 'NON-CRIMINAL', 'OTHER OFFENSES', 'VEHICLE THEFT', 'ARSON', 'DISORDERLY CONDUCT', 'DRUNKENNESS', 'EMBEZZLEMENT', 'FRAUD', 'GAMBLING', 'KIDNAPPING', 'ROBBERY', 'SECONDARY CODES', 'SEX OFFENSES FORCIBLE', 'SUSPICIOUS OCC', 'TRESPASS', 'WEAPON LAWS', 'FORGERY/COUNTERFEITING', 'RUNAWAY', 'LIQUOR LAWS', 'EXTORTION', 'FAMILY OFFENSES', 'RECOVERED VEHICLE', 'LOITERING', 'DRIVING UNDER THE INFLUENCE', 'STOLEN PROPERTY', 'SUICIDE', 'BRIBERY', 'SEX OFFENSES NON FORCIBLE', 'BAD CHECKS', 'TREA', 'PORNOGRAPHY/OBSCENE MAT'])\n",
    "crime_in_sf_years_low = crime_in_sf_years.drop(['ASSAULT', 'BURGLARY', 'DRUG/NARCOTIC', 'LARCENY/THEFT', 'NON-CRIMINAL', 'OTHER OFFENSES', 'VEHICLE THEFT', 'MISSING PERSON', 'PROSTITUTION', 'VANDALISM', 'WARRANTS'], axis=0)"
   ]
  },
  {
   "cell_type": "code",
   "execution_count": null,
   "metadata": {
    "collapsed": false
   },
   "outputs": [],
   "source": [
    "crime_in_sf_years_high.plot(kind='bar', figsize=(20,10), rot=0, fontsize=20)"
   ]
  },
  {
   "cell_type": "code",
   "execution_count": null,
   "metadata": {
    "collapsed": false
   },
   "outputs": [],
   "source": [
    "crime_in_sf_years_medium.plot(kind='bar', figsize=(20,10), rot=0, fontsize=20)"
   ]
  },
  {
   "cell_type": "code",
   "execution_count": null,
   "metadata": {
    "collapsed": false
   },
   "outputs": [],
   "source": [
    "crime_in_sf_years_low.plot(kind='bar', figsize=(20,10), rot=45, fontsize=20)"
   ]
  },
  {
   "cell_type": "code",
   "execution_count": null,
   "metadata": {
    "collapsed": false
   },
   "outputs": [],
   "source": [
    "test_pred_sex_crimes.to_csv('/Users/MatthewBarnette/final_project_predictions//test_pred_sex_crimes.csv')\n",
    "test_pred_theft.to_csv('/Users/MatthewBarnette/final_project_predictions//test_pred_theft.csv')\n",
    "test_pred_misc_lesser.to_csv('/Users/MatthewBarnette/final_project_predictions//test_pred_misc_lesser.csv')\n",
    "test_pred_other_offenses = test_pred_other_offenses.sort(ascending=False)\n",
    "test_pred_other_offenses.to_csv('/Users/MatthewBarnette/final_project_predictions//test_pred_other_offenses.csv')\n",
    "test_pred_violent.to_csv('/Users/MatthewBarnette/final_project_predictions//test_pred_violent.csv')\n",
    "test_pred_controlled_substances_alchohol.to_csv('/Users/MatthewBarnette/final_project_predictions//test_pred_controlled_substances_alchohol.csv')\n",
    "test_pred_missing.to_csv('/Users/MatthewBarnette/final_project_predictions//test_pred_missing.csv')\n",
    "test_pred_financial.to_csv('/Users/MatthewBarnette/final_project_predictions//test_pred_financial.csv')"
   ]
  },
  {
   "cell_type": "code",
   "execution_count": null,
   "metadata": {
    "collapsed": false
   },
   "outputs": [],
   "source": [
    "icon_types = pd.DataFrame(['small_red', 'small_yellow', 'small_green', 'small_blue', 'small_purple', 'measle_brown', 'measle_grey', 'measle_white', 'measle_turquoise'\n",
    "                          'blu_circle', 'grn_circle', 'ltblu_circle', 'orange_circle', 'pink_circle', 'purple_circle', 'red_circle', 'wht_circle', 'ylw_circle',\n",
    "                          'go', 'pause', 'stop', 'placemark_circle_highlight', 'placemark_circle', 'capital_small_highlight'])\n",
    "icon_types_df = pd.DataFrame(icon_types)"
   ]
  },
  {
   "cell_type": "code",
   "execution_count": null,
   "metadata": {
    "collapsed": false
   },
   "outputs": [],
   "source": [
    "crime_in_sf_day.head()"
   ]
  },
  {
   "cell_type": "code",
   "execution_count": null,
   "metadata": {
    "collapsed": true
   },
   "outputs": [],
   "source": [
    "march_16_2015 = crime_in_sf_day[crime_in_sf_day.Dates.dt.year == 2015]\n",
    "march_16_2015 = march_16_2015[march_16_2015.Dates.dt.month == 3]\n",
    "march_16_2015 = march_16_2015[march_16_2015.Dates.dt.day == 16]"
   ]
  },
  {
   "cell_type": "code",
   "execution_count": null,
   "metadata": {
    "collapsed": true
   },
   "outputs": [],
   "source": [
    "march_16_2015_0 = march_16_2015[march_16_2015.Dates.dt.hour == 0]\n",
    "march_16_2015_1 = march_16_2015[march_16_2015.Dates.dt.hour == 1]\n",
    "march_16_2015_2 = march_16_2015[march_16_2015.Dates.dt.hour == 2]\n",
    "march_16_2015_3 = march_16_2015[march_16_2015.Dates.dt.hour == 3]\n",
    "march_16_2015_4 = march_16_2015[march_16_2015.Dates.dt.hour == 4]\n",
    "march_16_2015_5 = march_16_2015[march_16_2015.Dates.dt.hour == 5]\n",
    "march_16_2015_6 = march_16_2015[march_16_2015.Dates.dt.hour == 6]\n",
    "march_16_2015_7 = march_16_2015[march_16_2015.Dates.dt.hour == 7]\n",
    "march_16_2015_8 = march_16_2015[march_16_2015.Dates.dt.hour == 8]\n",
    "march_16_2015_9 = march_16_2015[march_16_2015.Dates.dt.hour == 9]\n",
    "march_16_2015_10 = march_16_2015[march_16_2015.Dates.dt.hour == 10]\n",
    "march_16_2015_11 = march_16_2015[march_16_2015.Dates.dt.hour == 11]\n",
    "march_16_2015_12 = march_16_2015[march_16_2015.Dates.dt.hour == 12]\n",
    "march_16_2015_13 = march_16_2015[march_16_2015.Dates.dt.hour == 13]\n",
    "march_16_2015_14 = march_16_2015[march_16_2015.Dates.dt.hour == 14]\n",
    "march_16_2015_15 = march_16_2015[march_16_2015.Dates.dt.hour == 15]\n",
    "march_16_2015_16 = march_16_2015[march_16_2015.Dates.dt.hour == 16]\n",
    "march_16_2015_17 = march_16_2015[march_16_2015.Dates.dt.hour == 17]\n",
    "march_16_2015_18 = march_16_2015[march_16_2015.Dates.dt.hour == 18]\n",
    "march_16_2015_19 = march_16_2015[march_16_2015.Dates.dt.hour == 19]\n",
    "march_16_2015_20 = march_16_2015[march_16_2015.Dates.dt.hour == 20]\n",
    "march_16_2015_21 = march_16_2015[march_16_2015.Dates.dt.hour == 21]\n",
    "march_16_2015_22 = march_16_2015[march_16_2015.Dates.dt.hour == 22]\n",
    "march_16_2015_23 = march_16_2015[march_16_2015.Dates.dt.hour == 23]"
   ]
  },
  {
   "cell_type": "code",
   "execution_count": null,
   "metadata": {
    "collapsed": false
   },
   "outputs": [],
   "source": [
    "len(march_16_2015)"
   ]
  },
  {
   "cell_type": "code",
   "execution_count": null,
   "metadata": {
    "collapsed": false
   },
   "outputs": [],
   "source": [
    "march_16_2015_night = pd.concat([march_16_2015_0, march_16_2015_1, march_16_2015_2, march_16_2015_3, march_16_2015_4, march_16_2015_5, march_16_2015_19, march_16_2015_20, march_16_2015_21, march_16_2015_22, march_16_2015_23])\n",
    "march_16_2015_day = pd.concat([march_16_2015_6, march_16_2015_7, march_16_2015_8, march_16_2015_9, march_16_2015_10, march_16_2015_11, march_16_2015_12, march_16_2015_13, march_16_2015_14, march_16_2015_15, march_16_2015_16, march_16_2015_17, march_16_2015_18])\n",
    "march_16_2015_crimes = pd.DataFrame(march_16_2015.Category.unique())"
   ]
  },
  {
   "cell_type": "code",
   "execution_count": null,
   "metadata": {
    "collapsed": false,
    "scrolled": true
   },
   "outputs": [],
   "source": [
    "pd.get_dummies(march_16_2015.Category).sum()"
   ]
  },
  {
   "cell_type": "code",
   "execution_count": null,
   "metadata": {
    "collapsed": false
   },
   "outputs": [],
   "source": [
    "march_16_2015.Category.unique()"
   ]
  },
  {
   "cell_type": "code",
   "execution_count": null,
   "metadata": {
    "collapsed": false
   },
   "outputs": [],
   "source": [
    "march_16_2015.head()"
   ]
  },
  {
   "cell_type": "code",
   "execution_count": null,
   "metadata": {
    "collapsed": false
   },
   "outputs": [],
   "source": [
    "march_14_2015 = test_pred_day[test_pred_day.Dates.dt.year == 2015]\n",
    "march_14_2015 = march_14_2015[march_14_2015.Dates.dt.month == 3]\n",
    "march_14_2015 = march_14_2015[march_14_2015.Dates.dt.day == 14]"
   ]
  },
  {
   "cell_type": "code",
   "execution_count": null,
   "metadata": {
    "collapsed": true
   },
   "outputs": [],
   "source": [
    "march_14_2015_0 = march_14_2015[march_14_2015.Dates.dt.hour == 0]\n",
    "march_14_2015_1 = march_14_2015[march_14_2015.Dates.dt.hour == 1]\n",
    "march_14_2015_2 = march_14_2015[march_14_2015.Dates.dt.hour == 2]\n",
    "march_14_2015_3 = march_14_2015[march_14_2015.Dates.dt.hour == 3]\n",
    "march_14_2015_4 = march_14_2015[march_14_2015.Dates.dt.hour == 4]\n",
    "march_14_2015_5 = march_14_2015[march_14_2015.Dates.dt.hour == 5]\n",
    "march_14_2015_6 = march_14_2015[march_14_2015.Dates.dt.hour == 6]\n",
    "march_14_2015_7 = march_14_2015[march_14_2015.Dates.dt.hour == 7]\n",
    "march_14_2015_8 = march_14_2015[march_14_2015.Dates.dt.hour == 8]\n",
    "march_14_2015_9 = march_14_2015[march_14_2015.Dates.dt.hour == 9]\n",
    "march_14_2015_10 = march_14_2015[march_14_2015.Dates.dt.hour == 10]\n",
    "march_14_2015_11 = march_14_2015[march_14_2015.Dates.dt.hour == 11]\n",
    "march_14_2015_12 = march_14_2015[march_14_2015.Dates.dt.hour == 12]\n",
    "march_14_2015_13 = march_14_2015[march_14_2015.Dates.dt.hour == 13]\n",
    "march_14_2015_14 = march_14_2015[march_14_2015.Dates.dt.hour == 14]\n",
    "march_14_2015_15 = march_14_2015[march_14_2015.Dates.dt.hour == 15]\n",
    "march_14_2015_16 = march_14_2015[march_14_2015.Dates.dt.hour == 16]\n",
    "march_14_2015_17 = march_14_2015[march_14_2015.Dates.dt.hour == 17]\n",
    "march_14_2015_18 = march_14_2015[march_14_2015.Dates.dt.hour == 18]\n",
    "march_14_2015_19 = march_14_2015[march_14_2015.Dates.dt.hour == 19]\n",
    "march_14_2015_20 = march_14_2015[march_14_2015.Dates.dt.hour == 20]\n",
    "march_14_2015_21 = march_14_2015[march_14_2015.Dates.dt.hour == 21]\n",
    "march_14_2015_22 = march_14_2015[march_14_2015.Dates.dt.hour == 22]\n",
    "march_14_2015_23 = march_14_2015[march_14_2015.Dates.dt.hour == 23]"
   ]
  },
  {
   "cell_type": "code",
   "execution_count": null,
   "metadata": {
    "collapsed": false
   },
   "outputs": [],
   "source": [
    "pd.get_dummies(march_14_2015.most_likely).sum()"
   ]
  },
  {
   "cell_type": "code",
   "execution_count": null,
   "metadata": {
    "collapsed": false
   },
   "outputs": [],
   "source": [
    "march_14_2015_night = pd.concat([march_14_2015_0, march_14_2015_1, march_14_2015_2, march_14_2015_3, march_14_2015_4, march_14_2015_5, march_14_2015_19, march_14_2015_20, march_14_2015_21, march_14_2015_22, march_14_2015_23])"
   ]
  },
  {
   "cell_type": "code",
   "execution_count": null,
   "metadata": {
    "collapsed": false
   },
   "outputs": [],
   "source": [
    "march_14_2015_day = pd.concat([march_14_2015_6, march_14_2015_7, march_14_2015_8, march_14_2015_9, march_14_2015_10, march_14_2015_11, march_14_2015_12, march_14_2015_13, march_14_2015_14, march_14_2015_15, march_14_2015_16, march_14_2015_17, march_14_2015_18])"
   ]
  },
  {
   "cell_type": "code",
   "execution_count": null,
   "metadata": {
    "collapsed": false
   },
   "outputs": [],
   "source": [
    "march_14_2015_crimes = pd.DataFrame(march_14_2015.most_likely.unique())"
   ]
  },
  {
   "cell_type": "code",
   "execution_count": null,
   "metadata": {
    "collapsed": false
   },
   "outputs": [],
   "source": [
    "march_14_2015.to_csv('/Users/MatthewBarnette/final_project_predictions//march_14_2015.csv')\n",
    "march_14_2015_night.to_csv('/Users/MatthewBarnette/final_project_predictions//march_14_2015_night.csv')\n",
    "march_14_2015_day.to_csv('/Users/MatthewBarnette/final_project_predictions//march_14_2015_day.csv')\n",
    "march_14_2015_crimes.to_csv('/Users/MatthewBarnette/final_project_predictions//march_14_2015_crimes.csv')\n",
    "march_16_2015.to_csv('/Users/MatthewBarnette/final_project_predictions//march_16_2015.csv')\n",
    "march_16_2015_night.to_csv('/Users/MatthewBarnette/final_project_predictions//march_16_2015_night.csv')\n",
    "march_16_2015_day.to_csv('/Users/MatthewBarnette/final_project_predictions//march_16_2015_day.csv')\n",
    "march_16_2015_crimes.to_csv('/Users/MatthewBarnette/final_project_predictions//march_16_2015_crimes.csv')\n",
    "icon_types_df.to_csv('/Users/MatthewBarnette/final_project_predictions//icon_types_df.csv', index=False)"
   ]
  },
  {
   "cell_type": "code",
   "execution_count": null,
   "metadata": {
    "collapsed": false
   },
   "outputs": [],
   "source": []
  }
 ],
 "metadata": {
  "kernelspec": {
   "display_name": "Python 3",
   "language": "python",
   "name": "python3"
  },
  "language_info": {
   "codemirror_mode": {
    "name": "ipython",
    "version": 3
   },
   "file_extension": ".py",
   "mimetype": "text/x-python",
   "name": "python",
   "nbconvert_exporter": "python",
   "pygments_lexer": "ipython3",
   "version": "3.5.0"
  }
 },
 "nbformat": 4,
 "nbformat_minor": 0
}
