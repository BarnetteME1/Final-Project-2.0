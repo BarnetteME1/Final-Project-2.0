{
 "cells": [
  {
   "cell_type": "code",
   "execution_count": 2,
   "metadata": {
    "collapsed": true
   },
   "outputs": [],
   "source": [
    "import pandas as pd"
   ]
  },
  {
   "cell_type": "code",
   "execution_count": 3,
   "metadata": {
    "collapsed": true
   },
   "outputs": [],
   "source": [
    "crime_in_sf = pd.read_csv('SF_crime/train.csv')\n",
    "crime_in_sf.Dates = pd.to_datetime(crime_in_sf.Dates)\n",
    "\n",
    "test_pred = pd.read_csv('test_results.csv', index_col='Id')\n",
    "test_pred.Dates = pd.to_datetime(test_pred.Dates)"
   ]
  },
  {
   "cell_type": "code",
   "execution_count": 4,
   "metadata": {
    "collapsed": false
   },
   "outputs": [],
   "source": [
    "category = crime_in_sf.Category"
   ]
  },
  {
   "cell_type": "code",
   "execution_count": 5,
   "metadata": {
    "collapsed": false
   },
   "outputs": [],
   "source": [
    "category = category.unique()"
   ]
  },
  {
   "cell_type": "code",
   "execution_count": 6,
   "metadata": {
    "collapsed": true
   },
   "outputs": [],
   "source": [
    "catagory_df = pd.DataFrame(category)"
   ]
  },
  {
   "cell_type": "code",
   "execution_count": 27,
   "metadata": {
    "collapsed": true
   },
   "outputs": [],
   "source": [
    "sex_crimes = ['PROSTITUTION', 'SEX OFFENSES NON FORCIBLE', 'SEX OFFENSES FORCIBLE', 'PORNOGRAPHY/OBSCENE MAT']\n",
    "theft = ['LARCENY/THEFT', 'VEHICLE THEFT', 'BURGLARY', 'ROBBERY', 'STOLEN PROPERTY', 'RECOVERED VEHICLE']\n",
    "misc_lesser = ['WARRANTS', 'NON-CRIMINAL', 'SECONDARY CODES', 'TRESPASS', 'FAMILY OFFENSES', \n",
    "               'LOITERING','BAD CHECKS', 'TREA', 'VANDALISM']\n",
    "other_offenses = ['OTHER OFFENSES']\n",
    "violent = ['ASSAULT', 'WEAPON LAWS', 'ARSON', 'SUICIDE']\n",
    "controlled_substances_alchohol = ['DRUNKENNESS', 'LIQUOR LAWS', 'DISORDERLY CONDUCT', 'DRUG/NARCOTIC', 'DRIVING UNDER THE INFLUENCE']\n",
    "missing = ['MISSING PERSON', 'KIDNAPPING', 'RUNAWAY']\n",
    "financial = ['FORGERY/COUNTERFEITING', 'BRIBERY', 'EMBEZZLEMENT', 'EXTORTION', 'GAMBLING', 'FRAUD', 'SUSPICIOUS OCC']"
   ]
  },
  {
   "cell_type": "markdown",
   "metadata": {
    "collapsed": true
   },
   "source": [
    "TREA = 'Trespassing or loitering near posted industrial property'"
   ]
  },
  {
   "cell_type": "code",
   "execution_count": 8,
   "metadata": {
    "collapsed": false
   },
   "outputs": [
    {
     "data": {
      "text/plain": [
       "array([23, 22, 21, 20, 19, 18, 17, 16, 15, 14, 13, 12, 11, 10,  9,  8,  7,\n",
       "        6,  5,  4,  3,  2,  1,  0])"
      ]
     },
     "execution_count": 8,
     "metadata": {},
     "output_type": "execute_result"
    }
   ],
   "source": [
    "test_pred.Dates.dt.hour.unique()"
   ]
  },
  {
   "cell_type": "code",
   "execution_count": 9,
   "metadata": {
    "collapsed": false
   },
   "outputs": [
    {
     "data": {
      "text/plain": [
       "array([ 5,  4,  3,  2,  1, 12, 11, 10,  9,  8,  7,  6])"
      ]
     },
     "execution_count": 9,
     "metadata": {},
     "output_type": "execute_result"
    }
   ],
   "source": [
    "test_pred.Dates.dt.month.unique()"
   ]
  },
  {
   "cell_type": "code",
   "execution_count": 28,
   "metadata": {
    "collapsed": false
   },
   "outputs": [],
   "source": [
    "test_pred_sex_crimes = test_pred[test_pred['Category'].isin(sex_crimes)]\n",
    "test_pred_theft = test_pred[test_pred['Category'].isin(theft)]\n",
    "test_pred_misc_lesser = test_pred[test_pred['Category'].isin(misc_lesser)]\n",
    "test_pred_violent = test_pred[test_pred['Category'].isin(violent)]\n",
    "test_pred_other_offenses = test_pred[test_pred['Category'].isin(other_offenses)]\n",
    "test_pred_controlled_substances_alchohol = test_pred[test_pred['Category'].isin(controlled_substances_alchohol)]\n",
    "test_pred_missing = test_pred[test_pred['Category'].isin(missing)]\n",
    "test_pred_financial = test_pred[test_pred['Category'].isin(financial)]"
   ]
  },
  {
   "cell_type": "code",
   "execution_count": 29,
   "metadata": {
    "collapsed": false
   },
   "outputs": [],
   "source": [
    "test_pred_sex_crimes.to_csv('/Users/MatthewBarnette/final_project_predictions//test_pred_sex_crimes.csv')\n",
    "test_pred_theft.to_csv('/Users/MatthewBarnette/final_project_predictions//test_pred_theft.csv')\n",
    "test_pred_misc_lesser.to_csv('/Users/MatthewBarnette/final_project_predictions//test_pred_misc_lesser.csv')\n",
    "test_pred_other_offenses.to_csv('/Users/MatthewBarnette/final_project_predictions//test_pred_other_offenses.csv')\n",
    "test_pred_violent.to_csv('/Users/MatthewBarnette/final_project_predictions//test_pred_violent.csv')\n",
    "test_pred_controlled_substances_alchohol.to_csv('/Users/MatthewBarnette/final_project_predictions//test_pred_controlled_substances_alchohol.csv')\n",
    "test_pred_missing.to_csv('/Users/MatthewBarnette/final_project_predictions//test_pred_missing.csv')\n",
    "test_pred_financial.to_csv('/Users/MatthewBarnette/final_project_predictions//test_pred_financial.csv')"
   ]
  },
  {
   "cell_type": "code",
   "execution_count": 30,
   "metadata": {
    "collapsed": false
   },
   "outputs": [
    {
     "data": {
      "text/plain": [
       "array(['NON-CRIMINAL', 'VANDALISM', 'WARRANTS', 'TRESPASS',\n",
       "       'SECONDARY CODES', 'FAMILY OFFENSES', 'LOITERING', 'BAD CHECKS'], dtype=object)"
      ]
     },
     "execution_count": 30,
     "metadata": {},
     "output_type": "execute_result"
    }
   ],
   "source": [
    "test_pred_misc_lesser.Category.unique()"
   ]
  },
  {
   "cell_type": "code",
   "execution_count": null,
   "metadata": {
    "collapsed": true
   },
   "outputs": [],
   "source": [
    "test_pred_sex_crimes, large_yellow\n",
    "test_pred_theft, large_green\n",
    "test_pred_violent, large_red\n",
    "test_pred_controlled_substances_alchohol, large_blue\n",
    "test_pred_misc_lesser, small_blue\n",
    "test_pred_other_offenses, small_green\n",
    "test_pred_missing, small_yellow\n",
    "test_pred_financial, small_red"
   ]
  },
  {
   "cell_type": "code",
   "execution_count": 18,
   "metadata": {
    "collapsed": true
   },
   "outputs": [],
   "source": [
    "category = pd.DataFrame(category)"
   ]
  },
  {
   "cell_type": "code",
   "execution_count": 20,
   "metadata": {
    "collapsed": false
   },
   "outputs": [],
   "source": [
    "category.to_csv(\"/Users/MatthewBarnette/final_project_predictions//category.csv\")"
   ]
  }
 ],
 "metadata": {
  "kernelspec": {
   "display_name": "Python 3",
   "language": "python",
   "name": "python3"
  },
  "language_info": {
   "codemirror_mode": {
    "name": "ipython",
    "version": 3
   },
   "file_extension": ".py",
   "mimetype": "text/x-python",
   "name": "python",
   "nbconvert_exporter": "python",
   "pygments_lexer": "ipython3",
   "version": "3.5.0"
  }
 },
 "nbformat": 4,
 "nbformat_minor": 0
}
