{
 "cells": [
  {
   "cell_type": "code",
   "execution_count": 1,
   "metadata": {
    "collapsed": true
   },
   "outputs": [],
   "source": [
    "import pandas as pd"
   ]
  },
  {
   "cell_type": "code",
   "execution_count": 86,
   "metadata": {
    "collapsed": true
   },
   "outputs": [],
   "source": [
    "def prob_to_column(df):\n",
    "    df_t = df.T\n",
    "    columns = df_t.columns.values\n",
    "    probability = []\n",
    "    for column in range(len(columns)):\n",
    "        current_prob = 0\n",
    "        for row in range(len(df_t[columns[column]])):\n",
    "            if df_t[columns[column]][row] > current_prob:\n",
    "                current_prob = df_t[columns[column]][row]\n",
    "        probability.append(current_prob)\n",
    "    n = 0\n",
    "    df_t = df_t.applymap(str)\n",
    "    for column in range(len(columns)):\n",
    "        for row in range(len(df_t[column])):\n",
    "            if df_t[column][row] == str(probability[n]):\n",
    "                df_t[column][row] = '1'\n",
    "        n+=1\n",
    "    return df_t.T"
   ]
  },
  {
   "cell_type": "code",
   "execution_count": 2,
   "metadata": {
    "collapsed": false
   },
   "outputs": [],
   "source": [
    "def dummy_to_column(df):\n",
    "    columns = df.columns.values\n",
    "    df_t = df.T\n",
    "    characters = []\n",
    "    for column in range(len(columns)):\n",
    "        for row in range(len(df[columns[column]])):\n",
    "            if df[columns[column]][row] == '1':\n",
    "                df[columns[column]][row] = columns[column]\n",
    "    columns = df_t.columns.values\n",
    "    characters = []\n",
    "    for column in range(len(columns)):\n",
    "        for row in range(len(df_t[columns[column]])):\n",
    "            if df_t[columns[column]][row] in df_t.index:\n",
    "                characters.append(df_t[columns[column]][row])\n",
    "    return characters"
   ]
  },
  {
   "cell_type": "code",
   "execution_count": 175,
   "metadata": {
    "collapsed": false
   },
   "outputs": [],
   "source": [
    "Critical_matrix = Critical_Role.as_matrix()"
   ]
  },
  {
   "cell_type": "code",
   "execution_count": 155,
   "metadata": {
    "collapsed": false
   },
   "outputs": [],
   "source": [
    "Critical_matrix[1][1] = 1"
   ]
  },
  {
   "cell_type": "code",
   "execution_count": 176,
   "metadata": {
    "collapsed": false
   },
   "outputs": [
    {
     "data": {
      "text/plain": [
       "array([[ 0.324325  ,  0.35345   ,  0.59845   ],\n",
       "       [ 0.523453  ,  0.3425    ,  0.523452  ],\n",
       "       [ 0.34523   ,  0.3523    ,  0.3245234 ],\n",
       "       [ 0.745234  ,  0.5432534 ,  0.34253245],\n",
       "       [ 0.452345  ,  0.3452345 ,  0.5342534 ],\n",
       "       [ 0.45234   ,  0.3452    ,  0.543253  ],\n",
       "       [ 0.52342   ,  0.54352   ,  0.34523   ],\n",
       "       [ 0.2345234 ,  0.45235   ,  0.4325345 ],\n",
       "       [ 0.553523  ,  0.3245235 ,  0.54325   ]])"
      ]
     },
     "execution_count": 176,
     "metadata": {},
     "output_type": "execute_result"
    }
   ],
   "source": [
    "Critical_matrix"
   ]
  },
  {
   "cell_type": "code",
   "execution_count": 191,
   "metadata": {
    "collapsed": false
   },
   "outputs": [
    {
     "name": "stdout",
     "output_type": "stream",
     "text": [
      "[0.59845000000000004, 0.52345299999999995, 0.3523]\n",
      "[0.59845000000000004, 0.52345299999999995, 0.3523]\n",
      "[0.59845000000000004, 0.52345299999999995, 0.3523]\n",
      "[0.59845000000000004, 0.52345299999999995, 0.3523]\n",
      "[0.59845000000000004, 0.52345299999999995, 0.3523]\n",
      "[0.59845000000000004, 0.52345299999999995, 0.3523]\n",
      "[0.59845000000000004, 0.52345299999999995, 0.3523]\n",
      "[0.59845000000000004, 0.52345299999999995, 0.3523]\n",
      "[0.59845000000000004, 0.52345299999999995, 0.3523]\n"
     ]
    },
    {
     "data": {
      "text/plain": [
       "array([[ 0.324325  ,  0.523453  ,  0.34523   ,  0.745234  ,  0.452345  ,\n",
       "         0.45234   ,  0.52342   ,  0.2345234 ,  0.553523  ],\n",
       "       [ 0.35345   ,  0.3425    ,  0.3523    ,  0.5432534 ,  0.3452345 ,\n",
       "         0.3452    ,  0.54352   ,  0.45235   ,  0.3245235 ],\n",
       "       [ 0.59845   ,  0.523452  ,  0.3245234 ,  0.34253245,  0.5342534 ,\n",
       "         0.543253  ,  0.34523   ,  0.4325345 ,  0.54325   ]])"
      ]
     },
     "execution_count": 191,
     "metadata": {},
     "output_type": "execute_result"
    }
   ],
   "source": [
    "#Critical_Role = \n",
    "prob_to_column(Critical_Role)"
   ]
  },
  {
   "cell_type": "code",
   "execution_count": 190,
   "metadata": {
    "collapsed": false
   },
   "outputs": [],
   "source": [
    "def prob_to_column(df):\n",
    "    columns = df.columns.values\n",
    "    df_t = df.T.as_matrix()\n",
    "    probability = []\n",
    "    columns = list(range(len(columns)))\n",
    "    rows = list(range(len(df_t)))\n",
    "    for column in columns:\n",
    "        current_prob = 0\n",
    "        for row in rows:\n",
    "            if df_t[row][column] > current_prob:\n",
    "                current_prob = df_t[row][column]\n",
    "        probability.append(current_prob)\n",
    "    n = 0\n",
    "    for column in columns:\n",
    "        for row in rows:\n",
    "            if df_t[row][column] == str(probability[n]):\n",
    "                df_t[row][column] = 1\n",
    "            print(probability)\n",
    "        n+=1\n",
    "    return df_t"
   ]
  },
  {
   "cell_type": "code",
   "execution_count": 173,
   "metadata": {
    "collapsed": true
   },
   "outputs": [],
   "source": [
    "Critical_Role = pd.DataFrame([{'Grog':.324325, 'Keyleth':.35345, \"Vax\":.59845},\n",
    "                              {'Grog':.523453, 'Keyleth':.3425, \"Vax\":.523452},\n",
    "                              {'Grog':.34523, 'Keyleth':.3523, \"Vax\":.3245234},\n",
    "                              {'Grog':.745234, 'Keyleth':.5432534, \"Vax\":.34253245},\n",
    "                              {'Grog':.452345, 'Keyleth':.3452345, \"Vax\":.5342534},\n",
    "                              {'Grog':.45234, 'Keyleth':.3452, \"Vax\":.543253},\n",
    "                              {'Grog':.52342, 'Keyleth':.54352, \"Vax\":.34523},\n",
    "                              {'Grog':.2345234, 'Keyleth':.45235, \"Vax\":.4325345},\n",
    "                              {'Grog':.553523, 'Keyleth':.3245235, \"Vax\":.54325}])"
   ]
  },
  {
   "cell_type": "code",
   "execution_count": 141,
   "metadata": {
    "collapsed": false
   },
   "outputs": [
    {
     "data": {
      "text/html": [
       "<div>\n",
       "<table border=\"1\" class=\"dataframe\">\n",
       "  <thead>\n",
       "    <tr style=\"text-align: right;\">\n",
       "      <th></th>\n",
       "      <th>Grog</th>\n",
       "      <th>Keyleth</th>\n",
       "      <th>Vax</th>\n",
       "    </tr>\n",
       "  </thead>\n",
       "  <tbody>\n",
       "    <tr>\n",
       "      <th>0</th>\n",
       "      <td>0.324325</td>\n",
       "      <td>0.353450</td>\n",
       "      <td>0.598450</td>\n",
       "    </tr>\n",
       "    <tr>\n",
       "      <th>1</th>\n",
       "      <td>0.523453</td>\n",
       "      <td>0.342500</td>\n",
       "      <td>0.523452</td>\n",
       "    </tr>\n",
       "    <tr>\n",
       "      <th>2</th>\n",
       "      <td>0.345230</td>\n",
       "      <td>0.352300</td>\n",
       "      <td>0.324523</td>\n",
       "    </tr>\n",
       "    <tr>\n",
       "      <th>3</th>\n",
       "      <td>0.745234</td>\n",
       "      <td>0.543253</td>\n",
       "      <td>0.342532</td>\n",
       "    </tr>\n",
       "    <tr>\n",
       "      <th>4</th>\n",
       "      <td>0.452345</td>\n",
       "      <td>0.345234</td>\n",
       "      <td>0.534253</td>\n",
       "    </tr>\n",
       "    <tr>\n",
       "      <th>5</th>\n",
       "      <td>0.452340</td>\n",
       "      <td>0.345200</td>\n",
       "      <td>0.543253</td>\n",
       "    </tr>\n",
       "    <tr>\n",
       "      <th>6</th>\n",
       "      <td>0.523420</td>\n",
       "      <td>0.543520</td>\n",
       "      <td>0.345230</td>\n",
       "    </tr>\n",
       "    <tr>\n",
       "      <th>7</th>\n",
       "      <td>0.234523</td>\n",
       "      <td>0.452350</td>\n",
       "      <td>0.432534</td>\n",
       "    </tr>\n",
       "    <tr>\n",
       "      <th>8</th>\n",
       "      <td>0.553523</td>\n",
       "      <td>0.324524</td>\n",
       "      <td>0.543250</td>\n",
       "    </tr>\n",
       "  </tbody>\n",
       "</table>\n",
       "</div>"
      ],
      "text/plain": [
       "       Grog   Keyleth       Vax\n",
       "0  0.324325  0.353450  0.598450\n",
       "1  0.523453  0.342500  0.523452\n",
       "2  0.345230  0.352300  0.324523\n",
       "3  0.745234  0.543253  0.342532\n",
       "4  0.452345  0.345234  0.534253\n",
       "5  0.452340  0.345200  0.543253\n",
       "6  0.523420  0.543520  0.345230\n",
       "7  0.234523  0.452350  0.432534\n",
       "8  0.553523  0.324524  0.543250"
      ]
     },
     "execution_count": 141,
     "metadata": {},
     "output_type": "execute_result"
    }
   ],
   "source": [
    "Critical_Role"
   ]
  },
  {
   "cell_type": "code",
   "execution_count": 87,
   "metadata": {
    "collapsed": false
   },
   "outputs": [],
   "source": [
    "Critical_Role = pd.DataFrame(dummy_to_column(prob_to_column(Critical_Role)))"
   ]
  },
  {
   "cell_type": "code",
   "execution_count": 13,
   "metadata": {
    "collapsed": true
   },
   "outputs": [],
   "source": [
    "Critical_Role = pd.DataFrame([{'Grog':.32, 'Keyleth':.35345, \"Vax\":.59845},\n",
    "                              {'Grog':.34850, 'Keyleth':.3425, \"Vax\":.523452},\n",
    "                              {'Grog':.34523, 'Keyleth':.3523, \"Vax\":.3245234},\n",
    "                              {'Grog':.345234, 'Keyleth':.5432534, \"Vax\":.34253245},\n",
    "                              {'Grog':.452345, 'Keyleth':.3452345, \"Vax\":.5342534},\n",
    "                              {'Grog':.45234, 'Keyleth':.3452, \"Vax\":.543253},\n",
    "                              {'Grog':.52342, 'Keyleth':.54352, \"Vax\":.34523},\n",
    "                              {'Grog':.2345234, 'Keyleth':.45235, \"Vax\":.4325345},\n",
    "                              {'Grog':.73523, 'Keyleth':.3245235, \"Vax\":.54325}])"
   ]
  },
  {
   "cell_type": "code",
   "execution_count": 15,
   "metadata": {
    "collapsed": false
   },
   "outputs": [
    {
     "data": {
      "text/html": [
       "<div>\n",
       "<table border=\"1\" class=\"dataframe\">\n",
       "  <thead>\n",
       "    <tr style=\"text-align: right;\">\n",
       "      <th></th>\n",
       "      <th>0</th>\n",
       "    </tr>\n",
       "  </thead>\n",
       "  <tbody>\n",
       "    <tr>\n",
       "      <th>0</th>\n",
       "      <td>Vax</td>\n",
       "    </tr>\n",
       "    <tr>\n",
       "      <th>1</th>\n",
       "      <td>Vax</td>\n",
       "    </tr>\n",
       "    <tr>\n",
       "      <th>2</th>\n",
       "      <td>Keyleth</td>\n",
       "    </tr>\n",
       "    <tr>\n",
       "      <th>3</th>\n",
       "      <td>Keyleth</td>\n",
       "    </tr>\n",
       "    <tr>\n",
       "      <th>4</th>\n",
       "      <td>Vax</td>\n",
       "    </tr>\n",
       "    <tr>\n",
       "      <th>5</th>\n",
       "      <td>Vax</td>\n",
       "    </tr>\n",
       "    <tr>\n",
       "      <th>6</th>\n",
       "      <td>Keyleth</td>\n",
       "    </tr>\n",
       "    <tr>\n",
       "      <th>7</th>\n",
       "      <td>Keyleth</td>\n",
       "    </tr>\n",
       "    <tr>\n",
       "      <th>8</th>\n",
       "      <td>Grog</td>\n",
       "    </tr>\n",
       "  </tbody>\n",
       "</table>\n",
       "</div>"
      ],
      "text/plain": [
       "         0\n",
       "0      Vax\n",
       "1      Vax\n",
       "2  Keyleth\n",
       "3  Keyleth\n",
       "4      Vax\n",
       "5      Vax\n",
       "6  Keyleth\n",
       "7  Keyleth\n",
       "8     Grog"
      ]
     },
     "execution_count": 15,
     "metadata": {},
     "output_type": "execute_result"
    }
   ],
   "source": [
    "Critical_Role"
   ]
  },
  {
   "cell_type": "markdown",
   "metadata": {
    "collapsed": true
   },
   "source": [
    "Critical_Role = pd.DataFrame([{'Grog':0, 'Keyleth':1, \"Vax\":0},\n",
    "                              {'Grog':1, 'Keyleth':0, \"Vax\":0},\n",
    "                              {'Grog':0, 'Keyleth':0, \"Vax\":1},\n",
    "                              {'Grog':0, 'Keyleth':0, \"Vax\":1},\n",
    "                              {'Grog':0, 'Keyleth':1, \"Vax\":0},\n",
    "                              {'Grog':0, 'Keyleth':1, \"Vax\":0},\n",
    "                              {'Grog':1, 'Keyleth':0, \"Vax\":0},\n",
    "                              {'Grog':0, 'Keyleth':0, \"Vax\":1},\n",
    "                              {'Grog':1, 'Keyleth':0, \"Vax\":0}])"
   ]
  }
 ],
 "metadata": {
  "kernelspec": {
   "display_name": "Python 3",
   "language": "python",
   "name": "python3"
  },
  "language_info": {
   "codemirror_mode": {
    "name": "ipython",
    "version": 3
   },
   "file_extension": ".py",
   "mimetype": "text/x-python",
   "name": "python",
   "nbconvert_exporter": "python",
   "pygments_lexer": "ipython3",
   "version": "3.5.0"
  }
 },
 "nbformat": 4,
 "nbformat_minor": 0
}
