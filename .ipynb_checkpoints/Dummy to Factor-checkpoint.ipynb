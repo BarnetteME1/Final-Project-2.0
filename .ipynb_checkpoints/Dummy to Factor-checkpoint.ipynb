{
 "cells": [
  {
   "cell_type": "code",
   "execution_count": 1,
   "metadata": {
    "collapsed": true
   },
   "outputs": [],
   "source": [
    "import pandas as pd"
   ]
  },
  {
   "cell_type": "code",
   "execution_count": 2,
   "metadata": {
    "collapsed": false
   },
   "outputs": [],
   "source": [
    "Critical_Role = pd.DataFrame([{'Grog':.32432, 'Keyleth':.35345, \"Vax\":.59845},\n",
    "                              {'Grog':.52346, 'Keyleth':.3425, \"Vax\":.52345},\n",
    "                              {'Grog':.34523, 'Keyleth':.3523, \"Vax\":.32452},\n",
    "                              {'Grog':.74523, 'Keyleth':.54325, \"Vax\":.34253},\n",
    "                              {'Grog':.45234, 'Keyleth':.34523, \"Vax\":.53425},\n",
    "                              {'Grog':.45234, 'Keyleth':.3452, \"Vax\":.54325},\n",
    "                              {'Grog':.52342, 'Keyleth':.54352, \"Vax\":.34523},\n",
    "                              {'Grog':.23452, 'Keyleth':.45235, \"Vax\":.43253},\n",
    "                              {'Grog':.55352, 'Keyleth':.32452, \"Vax\":.54325}])"
   ]
  },
  {
   "cell_type": "code",
   "execution_count": 3,
   "metadata": {
    "collapsed": false
   },
   "outputs": [],
   "source": [
    "def prob_to_column(df):\n",
    "    most_likely = []\n",
    "    second_most = []\n",
    "    third_most = []\n",
    "    df_t = df.T\n",
    "    n=0\n",
    "    for column in df_t:\n",
    "        name1 = df_t[column].sort_values(ascending=False).to_frame().head(3).index.values[0]\n",
    "        prob1 = df_t[column].sort_values(ascending=False)[0]\n",
    "        name2 = df_t[column].sort_values(ascending=False).to_frame().head(3).index.values[1]\n",
    "        prob2 = df_t[column].sort_values(ascending=False)[1]\n",
    "        name3 = df_t[column].sort_values(ascending=False).to_frame().head(3).index.values[2]\n",
    "        prob3 = df_t[column].sort_values(ascending=False)[2]\n",
    "        Id = n\n",
    "        most_likely.append((Id, name1, prob1))\n",
    "        second_most.append((Id, name2, prob2))\n",
    "        third_most.append((Id, name3, prob3))\n",
    "        n+=1\n",
    "    most_likely = pd.DataFrame(most_likely)\n",
    "    second_most = pd.DataFrame(second_most)\n",
    "    third_most = pd.DataFrame(third_most)\n",
    "    most_likely = most_likely.rename(columns={0:'Id', 1:'most_likely', 2:'highest_probability'})\n",
    "    second_most = second_most.rename(columns={0:'Id', 1:'second_most_likely', 2:'second_hightest_prob'})\n",
    "    third_most = third_most.rename(columns={0:'Id', 1:'third_most_likely', 2:'third_highest_prob'})\n",
    "    top_three = pd.merge(most_likely, second_most, on=most_likely.Id)\n",
    "    top_three = pd.merge(top_three, third_most, on=third_most.Id)\n",
    "    top_three = top_three.drop(['Id_y', 'Id'], axis=1)\n",
    "    top_three = top_three.rename(columns={'Id_x':'Id'})\n",
    "    return top_three"
   ]
  },
  {
   "cell_type": "code",
   "execution_count": 4,
   "metadata": {
    "collapsed": false
   },
   "outputs": [],
   "source": [
    "top_three = prob_to_column(Critical_Role)"
   ]
  },
  {
   "cell_type": "code",
   "execution_count": 5,
   "metadata": {
    "collapsed": false,
    "scrolled": true
   },
   "outputs": [
    {
     "data": {
      "text/html": [
       "<div>\n",
       "<table border=\"1\" class=\"dataframe\">\n",
       "  <thead>\n",
       "    <tr style=\"text-align: right;\">\n",
       "      <th></th>\n",
       "      <th>Id</th>\n",
       "      <th>most_likely</th>\n",
       "      <th>highest_probability</th>\n",
       "      <th>second_most_likely</th>\n",
       "      <th>second_hightest_prob</th>\n",
       "      <th>third_most_likely</th>\n",
       "      <th>third_highest_prob</th>\n",
       "    </tr>\n",
       "  </thead>\n",
       "  <tbody>\n",
       "    <tr>\n",
       "      <th>0</th>\n",
       "      <td>0</td>\n",
       "      <td>Vax</td>\n",
       "      <td>0.59845</td>\n",
       "      <td>Keyleth</td>\n",
       "      <td>0.35345</td>\n",
       "      <td>Grog</td>\n",
       "      <td>0.32432</td>\n",
       "    </tr>\n",
       "    <tr>\n",
       "      <th>1</th>\n",
       "      <td>1</td>\n",
       "      <td>Grog</td>\n",
       "      <td>0.52346</td>\n",
       "      <td>Vax</td>\n",
       "      <td>0.52345</td>\n",
       "      <td>Keyleth</td>\n",
       "      <td>0.34250</td>\n",
       "    </tr>\n",
       "    <tr>\n",
       "      <th>2</th>\n",
       "      <td>2</td>\n",
       "      <td>Keyleth</td>\n",
       "      <td>0.35230</td>\n",
       "      <td>Grog</td>\n",
       "      <td>0.34523</td>\n",
       "      <td>Vax</td>\n",
       "      <td>0.32452</td>\n",
       "    </tr>\n",
       "    <tr>\n",
       "      <th>3</th>\n",
       "      <td>3</td>\n",
       "      <td>Grog</td>\n",
       "      <td>0.74523</td>\n",
       "      <td>Keyleth</td>\n",
       "      <td>0.54325</td>\n",
       "      <td>Vax</td>\n",
       "      <td>0.34253</td>\n",
       "    </tr>\n",
       "    <tr>\n",
       "      <th>4</th>\n",
       "      <td>4</td>\n",
       "      <td>Vax</td>\n",
       "      <td>0.53425</td>\n",
       "      <td>Grog</td>\n",
       "      <td>0.45234</td>\n",
       "      <td>Keyleth</td>\n",
       "      <td>0.34523</td>\n",
       "    </tr>\n",
       "    <tr>\n",
       "      <th>5</th>\n",
       "      <td>5</td>\n",
       "      <td>Vax</td>\n",
       "      <td>0.54325</td>\n",
       "      <td>Grog</td>\n",
       "      <td>0.45234</td>\n",
       "      <td>Keyleth</td>\n",
       "      <td>0.34520</td>\n",
       "    </tr>\n",
       "    <tr>\n",
       "      <th>6</th>\n",
       "      <td>6</td>\n",
       "      <td>Keyleth</td>\n",
       "      <td>0.54352</td>\n",
       "      <td>Grog</td>\n",
       "      <td>0.52342</td>\n",
       "      <td>Vax</td>\n",
       "      <td>0.34523</td>\n",
       "    </tr>\n",
       "    <tr>\n",
       "      <th>7</th>\n",
       "      <td>7</td>\n",
       "      <td>Keyleth</td>\n",
       "      <td>0.45235</td>\n",
       "      <td>Vax</td>\n",
       "      <td>0.43253</td>\n",
       "      <td>Grog</td>\n",
       "      <td>0.23452</td>\n",
       "    </tr>\n",
       "    <tr>\n",
       "      <th>8</th>\n",
       "      <td>8</td>\n",
       "      <td>Grog</td>\n",
       "      <td>0.55352</td>\n",
       "      <td>Vax</td>\n",
       "      <td>0.54325</td>\n",
       "      <td>Keyleth</td>\n",
       "      <td>0.32452</td>\n",
       "    </tr>\n",
       "  </tbody>\n",
       "</table>\n",
       "</div>"
      ],
      "text/plain": [
       "   Id most_likely  highest_probability second_most_likely  \\\n",
       "0   0         Vax              0.59845            Keyleth   \n",
       "1   1        Grog              0.52346                Vax   \n",
       "2   2     Keyleth              0.35230               Grog   \n",
       "3   3        Grog              0.74523            Keyleth   \n",
       "4   4         Vax              0.53425               Grog   \n",
       "5   5         Vax              0.54325               Grog   \n",
       "6   6     Keyleth              0.54352               Grog   \n",
       "7   7     Keyleth              0.45235                Vax   \n",
       "8   8        Grog              0.55352                Vax   \n",
       "\n",
       "   second_hightest_prob third_most_likely  third_highest_prob  \n",
       "0               0.35345              Grog             0.32432  \n",
       "1               0.52345           Keyleth             0.34250  \n",
       "2               0.34523               Vax             0.32452  \n",
       "3               0.54325               Vax             0.34253  \n",
       "4               0.45234           Keyleth             0.34523  \n",
       "5               0.45234           Keyleth             0.34520  \n",
       "6               0.52342               Vax             0.34523  \n",
       "7               0.43253              Grog             0.23452  \n",
       "8               0.54325           Keyleth             0.32452  "
      ]
     },
     "execution_count": 5,
     "metadata": {},
     "output_type": "execute_result"
    }
   ],
   "source": [
    "top_three"
   ]
  }
 ],
 "metadata": {
  "kernelspec": {
   "display_name": "Python 3",
   "language": "python",
   "name": "python3"
  },
  "language_info": {
   "codemirror_mode": {
    "name": "ipython",
    "version": 3
   },
   "file_extension": ".py",
   "mimetype": "text/x-python",
   "name": "python",
   "nbconvert_exporter": "python",
   "pygments_lexer": "ipython3",
   "version": "3.5.0"
  }
 },
 "nbformat": 4,
 "nbformat_minor": 0
}
