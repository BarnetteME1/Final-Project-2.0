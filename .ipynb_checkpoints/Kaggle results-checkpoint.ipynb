{
 "cells": [
  {
   "cell_type": "code",
   "execution_count": 1,
   "metadata": {
    "collapsed": true
   },
   "outputs": [],
   "source": [
    "import pandas as pd"
   ]
  },
  {
   "cell_type": "code",
   "execution_count": 2,
   "metadata": {
    "collapsed": false
   },
   "outputs": [],
   "source": [
    "kaggle = [{'Rank': '694', 'Position_Change': '0', 'Score': '15.72938', 'Number_of_Submissions': '1', \n",
    "           'Datetime': 'Mon, 30 Nov 2015 16:19:41', 'Used': 'Random Forest 10 trees'},\n",
    "          {'Rank': '677', 'Position_Change': '+21', 'Score': '6.67346', 'Number_of_Submissions': '2', \n",
    "           'Datetime': 'Mon, 30 Nov 2015 20:21:56', 'Used': 'Random Forest 100 trees'},\n",
    "         {'Rank': '675', 'Position_Change': '+10', 'Score': '5.27115', 'Number_of_Submissions': '3', \n",
    "           'Datetime': 'Tue, 01 Dec 2015 19:09:03', 'Used': 'XGBoost: softpred with logloss, map over 10 rounds'},\n",
    "         {'Rank': '675', 'Position_Change': '-', 'Score': '10.52687', 'Number_of_Submissions': '4', \n",
    "           'Datetime': 'Tue, 01 Dec 2015 20:44:45', 'Used': 'Using XGBoost softprob with 10 rounds over logloss'}, \n",
    "         {'Rank': '675', 'Position_Change': '-', 'Score': '30.44851', 'Number_of_Submissions': '5', \n",
    "           'Datetime': 'Tue, 01 Dec 2015 21:16:37', 'Used': 'XGBoost: softpred with logloss, map over 25 rounds'},\n",
    "         {'Rank': '681', 'Position_Change': '9', 'Score': '4.27878', 'Number_of_Submissions': '6', \n",
    "           'Datetime': 'Wed, 02 Dec 2015 22:45:25', 'Used': 'XGBoost: softpred with mlogloss over 2 rounds'},\n",
    "         {'Rank': '119', 'Position_Change': '567', 'Score': '2.42385', 'Number_of_Submissions': '7', \n",
    "           'Datetime': 'Thu, 03 Dec 2015 13:43:41', 'Used': 'XGBoost: softpred with mlogloss and merror over 200 rounds after changing bst:max_depth, bst:eta, and silent'},\n",
    "         {'Rank': '121', 'Position_Change': '-', 'Score': '2.50289', 'Number_of_Submissions': '8', \n",
    "           'Datetime': 'Fri, 04 Dec 2015 14:45:47', 'Used': 'XGBoost: same as last over 1000 iterations'},\n",
    "          {'Rank': '130', 'Position_Change': '-', 'Score': '2.45004', 'Number_of_Submissions': '9', \n",
    "           'Datetime': 'Thu, 10 Dec 2015 13:27:51', 'Used': 'XGBoost: same as last over 500 iterations'}]"
   ]
  },
  {
   "cell_type": "code",
   "execution_count": 3,
   "metadata": {
    "collapsed": false
   },
   "outputs": [
    {
     "data": {
      "text/html": [
       "<div>\n",
       "<table border=\"1\" class=\"dataframe\">\n",
       "  <thead>\n",
       "    <tr style=\"text-align: right;\">\n",
       "      <th></th>\n",
       "      <th>Datetime</th>\n",
       "      <th>Number_of_Submissions</th>\n",
       "      <th>Position_Change</th>\n",
       "      <th>Rank</th>\n",
       "      <th>Score</th>\n",
       "      <th>Used</th>\n",
       "    </tr>\n",
       "  </thead>\n",
       "  <tbody>\n",
       "    <tr>\n",
       "      <th>0</th>\n",
       "      <td>Mon, 30 Nov 2015 16:19:41</td>\n",
       "      <td>1</td>\n",
       "      <td>0</td>\n",
       "      <td>694</td>\n",
       "      <td>15.72938</td>\n",
       "      <td>Random Forest 10 trees</td>\n",
       "    </tr>\n",
       "    <tr>\n",
       "      <th>1</th>\n",
       "      <td>Mon, 30 Nov 2015 20:21:56</td>\n",
       "      <td>2</td>\n",
       "      <td>+21</td>\n",
       "      <td>677</td>\n",
       "      <td>6.67346</td>\n",
       "      <td>Random Forest 100 trees</td>\n",
       "    </tr>\n",
       "    <tr>\n",
       "      <th>2</th>\n",
       "      <td>Tue, 01 Dec 2015 19:09:03</td>\n",
       "      <td>3</td>\n",
       "      <td>+10</td>\n",
       "      <td>675</td>\n",
       "      <td>5.27115</td>\n",
       "      <td>XGBoost: softpred with logloss, map over 10 ro...</td>\n",
       "    </tr>\n",
       "    <tr>\n",
       "      <th>3</th>\n",
       "      <td>Tue, 01 Dec 2015 20:44:45</td>\n",
       "      <td>4</td>\n",
       "      <td>-</td>\n",
       "      <td>675</td>\n",
       "      <td>10.52687</td>\n",
       "      <td>Using XGBoost softprob with 10 rounds over log...</td>\n",
       "    </tr>\n",
       "    <tr>\n",
       "      <th>4</th>\n",
       "      <td>Tue, 01 Dec 2015 21:16:37</td>\n",
       "      <td>5</td>\n",
       "      <td>-</td>\n",
       "      <td>675</td>\n",
       "      <td>30.44851</td>\n",
       "      <td>XGBoost: softpred with logloss, map over 25 ro...</td>\n",
       "    </tr>\n",
       "    <tr>\n",
       "      <th>5</th>\n",
       "      <td>Wed, 02 Dec 2015 22:45:25</td>\n",
       "      <td>6</td>\n",
       "      <td>9</td>\n",
       "      <td>681</td>\n",
       "      <td>4.27878</td>\n",
       "      <td>XGBoost: softpred with mlogloss over 2 rounds</td>\n",
       "    </tr>\n",
       "    <tr>\n",
       "      <th>6</th>\n",
       "      <td>Thu, 03 Dec 2015 13:43:41</td>\n",
       "      <td>7</td>\n",
       "      <td>567</td>\n",
       "      <td>119</td>\n",
       "      <td>2.42385</td>\n",
       "      <td>XGBoost: softpred with mlogloss and merror ove...</td>\n",
       "    </tr>\n",
       "    <tr>\n",
       "      <th>7</th>\n",
       "      <td>Fri, 04 Dec 2015 14:45:47</td>\n",
       "      <td>8</td>\n",
       "      <td>-</td>\n",
       "      <td>121</td>\n",
       "      <td>2.50289</td>\n",
       "      <td>XGBoost: same as last over 1000 iterations</td>\n",
       "    </tr>\n",
       "    <tr>\n",
       "      <th>8</th>\n",
       "      <td>Thu, 10 Dec 2015 13:27:51</td>\n",
       "      <td>9</td>\n",
       "      <td>-</td>\n",
       "      <td>130</td>\n",
       "      <td>2.45004</td>\n",
       "      <td>XGBoost: same as last over 500 iterations</td>\n",
       "    </tr>\n",
       "  </tbody>\n",
       "</table>\n",
       "</div>"
      ],
      "text/plain": [
       "                    Datetime Number_of_Submissions Position_Change Rank  \\\n",
       "0  Mon, 30 Nov 2015 16:19:41                     1               0  694   \n",
       "1  Mon, 30 Nov 2015 20:21:56                     2             +21  677   \n",
       "2  Tue, 01 Dec 2015 19:09:03                     3             +10  675   \n",
       "3  Tue, 01 Dec 2015 20:44:45                     4               -  675   \n",
       "4  Tue, 01 Dec 2015 21:16:37                     5               -  675   \n",
       "5  Wed, 02 Dec 2015 22:45:25                     6               9  681   \n",
       "6  Thu, 03 Dec 2015 13:43:41                     7             567  119   \n",
       "7  Fri, 04 Dec 2015 14:45:47                     8               -  121   \n",
       "8  Thu, 10 Dec 2015 13:27:51                     9               -  130   \n",
       "\n",
       "      Score                                               Used  \n",
       "0  15.72938                             Random Forest 10 trees  \n",
       "1   6.67346                            Random Forest 100 trees  \n",
       "2   5.27115  XGBoost: softpred with logloss, map over 10 ro...  \n",
       "3  10.52687  Using XGBoost softprob with 10 rounds over log...  \n",
       "4  30.44851  XGBoost: softpred with logloss, map over 25 ro...  \n",
       "5   4.27878      XGBoost: softpred with mlogloss over 2 rounds  \n",
       "6   2.42385  XGBoost: softpred with mlogloss and merror ove...  \n",
       "7   2.50289         XGBoost: same as last over 1000 iterations  \n",
       "8   2.45004          XGBoost: same as last over 500 iterations  "
      ]
     },
     "execution_count": 3,
     "metadata": {},
     "output_type": "execute_result"
    }
   ],
   "source": [
    "pd.DataFrame(kaggle)"
   ]
  }
 ],
 "metadata": {
  "kernelspec": {
   "display_name": "Python 3",
   "language": "python",
   "name": "python3"
  },
  "language_info": {
   "codemirror_mode": {
    "name": "ipython",
    "version": 3
   },
   "file_extension": ".py",
   "mimetype": "text/x-python",
   "name": "python",
   "nbconvert_exporter": "python",
   "pygments_lexer": "ipython3",
   "version": "3.5.0"
  }
 },
 "nbformat": 4,
 "nbformat_minor": 0
}
