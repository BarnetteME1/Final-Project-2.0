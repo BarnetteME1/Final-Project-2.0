{
 "cells": [
  {
   "cell_type": "code",
   "execution_count": 1,
   "metadata": {
    "collapsed": true
   },
   "outputs": [],
   "source": [
    "import pandas as pd"
   ]
  },
  {
   "cell_type": "code",
   "execution_count": 2,
   "metadata": {
    "collapsed": true
   },
   "outputs": [],
   "source": [
    "crime_in_sf = pd.read_csv('SF_crime/train.csv')"
   ]
  },
  {
   "cell_type": "code",
   "execution_count": 5,
   "metadata": {
    "collapsed": false
   },
   "outputs": [],
   "source": [
    "category = crime_in_sf.Category"
   ]
  },
  {
   "cell_type": "code",
   "execution_count": 9,
   "metadata": {
    "collapsed": false
   },
   "outputs": [],
   "source": [
    "category = category.unique()"
   ]
  },
  {
   "cell_type": "code",
   "execution_count": 13,
   "metadata": {
    "collapsed": true
   },
   "outputs": [],
   "source": [
    "catagory_df = pd.DataFrame(category)"
   ]
  },
  {
   "cell_type": "code",
   "execution_count": 14,
   "metadata": {
    "collapsed": false
   },
   "outputs": [
    {
     "data": {
      "text/plain": [
       "array(['WARRANTS', 'OTHER OFFENSES', 'LARCENY/THEFT', 'VEHICLE THEFT',\n",
       "       'VANDALISM', 'NON-CRIMINAL', 'ROBBERY', 'ASSAULT', 'WEAPON LAWS',\n",
       "       'BURGLARY', 'SUSPICIOUS OCC', 'DRUNKENNESS',\n",
       "       'FORGERY/COUNTERFEITING', 'DRUG/NARCOTIC', 'STOLEN PROPERTY',\n",
       "       'SECONDARY CODES', 'TRESPASS', 'MISSING PERSON', 'FRAUD',\n",
       "       'KIDNAPPING', 'RUNAWAY', 'DRIVING UNDER THE INFLUENCE',\n",
       "       'SEX OFFENSES FORCIBLE', 'PROSTITUTION', 'DISORDERLY CONDUCT',\n",
       "       'ARSON', 'FAMILY OFFENSES', 'LIQUOR LAWS', 'BRIBERY',\n",
       "       'EMBEZZLEMENT', 'SUICIDE', 'LOITERING', 'SEX OFFENSES NON FORCIBLE',\n",
       "       'EXTORTION', 'GAMBLING', 'BAD CHECKS', 'TREA', 'RECOVERED VEHICLE',\n",
       "       'PORNOGRAPHY/OBSCENE MAT'], dtype=object)"
      ]
     },
     "execution_count": 14,
     "metadata": {},
     "output_type": "execute_result"
    }
   ],
   "source": [
    "category"
   ]
  },
  {
   "cell_type": "code",
   "execution_count": 15,
   "metadata": {
    "collapsed": true
   },
   "outputs": [],
   "source": [
    "sex_crimes = ['PROSTITUTION', 'SEX OFFENSES NON FORCIBLE', 'SEX OFFENSES FORCIBLE', 'PORNOGRAPHY/OBSCENE MAT']\n",
    "theft = ['LARCENY/THEFT', 'VEHICLE THEFT', 'BURGLARY', 'ROBBERY', 'STOLEN PROPERTY', 'RECOVERED VEHICLE']\n",
    "misc_lesser = ['WARRANTS',  'OTHER OFFENSES', 'NON-CRIMINAL', 'SECONDARY CODES', 'TRESPASS', 'FAMILY OFFENSES', \n",
    "               'LOITERING','BAD CHECKS', 'TREA', 'VANDALISM']\n",
    "violent = ['ASSAULT', 'WEAPON LAWS', 'ARSON', 'SUICIDE', 'DRIVING UNDER THE INFLUENCE']\n",
    "controlled_substances = ['DRUNKENNESS', 'LIQUOR LAWS', 'DISORDERLY CONDUCT', 'DRUG/NARCOTIC']\n",
    "missing = ['MISSING PERSON', 'KIDNAPPING', 'RUNAWAY']\n",
    "financial = ['FORGERY/COUNTERFEITING', 'BRIBERY', 'EMBEZZLEMENT', 'EXTORTION', 'GAMBLING', 'FRAUD', 'SUSPICIOUS OCC']"
   ]
  },
  {
   "cell_type": "code",
   "execution_count": 24,
   "metadata": {
    "collapsed": true
   },
   "outputs": [],
   "source": [
    "TREA = 'Trespassing or loitering near posted industrial property'"
   ]
  },
  {
   "cell_type": "code",
   "execution_count": null,
   "metadata": {
    "collapsed": true
   },
   "outputs": [],
   "source": []
  }
 ],
 "metadata": {
  "kernelspec": {
   "display_name": "Python 3",
   "language": "python",
   "name": "python3"
  },
  "language_info": {
   "codemirror_mode": {
    "name": "ipython",
    "version": 3
   },
   "file_extension": ".py",
   "mimetype": "text/x-python",
   "name": "python",
   "nbconvert_exporter": "python",
   "pygments_lexer": "ipython3",
   "version": "3.5.0"
  }
 },
 "nbformat": 4,
 "nbformat_minor": 0
}
