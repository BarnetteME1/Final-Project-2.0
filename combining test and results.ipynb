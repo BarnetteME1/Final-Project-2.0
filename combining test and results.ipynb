{
 "cells": [
  {
   "cell_type": "code",
   "execution_count": 1,
   "metadata": {
    "collapsed": true
   },
   "outputs": [],
   "source": [
    "import pandas as pd"
   ]
  },
  {
   "cell_type": "code",
   "execution_count": 2,
   "metadata": {
    "collapsed": false
   },
   "outputs": [],
   "source": [
    "test = pd.read_csv('SF_crime/test.csv', index_col='Id')\n",
    "test = test.rename(columns={'X': 'Longitude', \"Y\": \"Latitude\"})\n",
    "test.Dates = pd.to_datetime(test.Dates)\n",
    "\n",
    "results = pd.read_csv(\"predictions_XGB2.csv\", index_col='Id')"
   ]
  },
  {
   "cell_type": "code",
   "execution_count": null,
   "metadata": {
    "collapsed": true
   },
   "outputs": [],
   "source": [
    "def prob_to_column(df):\n",
    "    most_likely = []\n",
    "    second_most = []\n",
    "    third_most = []\n",
    "    df_t = df.T\n",
    "    n=0\n",
    "    for column in df_t:\n",
    "        name1 = df_t[column].sort_values(ascending=False).to_frame().head(3).index.values[0]\n",
    "        prob1 = df_t[column].sort_values(ascending=False)[0]\n",
    "        name2 = df_t[column].sort_values(ascending=False).to_frame().head(3).index.values[1]\n",
    "        prob2 = df_t[column].sort_values(ascending=False)[1]\n",
    "        name3 = df_t[column].sort_values(ascending=False).to_frame().head(3).index.values[2]\n",
    "        prob3 = df_t[column].sort_values(ascending=False)[2]\n",
    "        Id = n\n",
    "        most_likely.append((Id, name1, prob1))\n",
    "        second_most.append((Id, name2, prob2))\n",
    "        third_most.append((Id, name3, prob3))\n",
    "        n+=1\n",
    "    most_likely = pd.DataFrame(most_likely)\n",
    "    second_most = pd.DataFrame(second_most)\n",
    "    third_most = pd.DataFrame(third_most)\n",
    "    most_likely = most_likely.rename(columns={0:'Id', 1:'most_likely', 2:'highest_probability'})\n",
    "    second_most = second_most.rename(columns={0:'Id', 1:'second_most_likely', 2:'second_hightest_prob'})\n",
    "    third_most = third_most.rename(columns={0:'Id', 1:'third_most_likely', 2:'third_highest_prob'})\n",
    "    top_three = pd.merge(most_likely, second_most, on=most.Id)\n",
    "    top_three = pd.merge(top_three, third_most, on=third.Id)\n",
    "    top_three = top_three.drop(['Id_y', 'Id'], axis=1)\n",
    "    top_three = top_three.rename(columns={'Id_x':'Id'})\n",
    "    return top_three"
   ]
  },
  {
   "cell_type": "code",
   "execution_count": null,
   "metadata": {
    "collapsed": true
   },
   "outputs": [],
   "source": [
    "results_df = prob_to_column(results)"
   ]
  },
  {
   "cell_type": "code",
   "execution_count": null,
   "metadata": {
    "collapsed": true
   },
   "outputs": [],
   "source": [
    "results_df.head()"
   ]
  },
  {
   "cell_type": "code",
   "execution_count": null,
   "metadata": {
    "collapsed": true
   },
   "outputs": [],
   "source": [
    "results_df.to_csv('~/final_project_prediction/results_top_three.csv')"
   ]
  },
  {
   "cell_type": "code",
   "execution_count": null,
   "metadata": {
    "collapsed": false
   },
   "outputs": [],
   "source": [
    "test_results = test.join(results_df)"
   ]
  },
  {
   "cell_type": "code",
   "execution_count": null,
   "metadata": {
    "collapsed": true
   },
   "outputs": [],
   "source": [
    "test_results.to_csv('~/final_project_prediction/test_results_top_three.csv')"
   ]
  }
 ],
 "metadata": {
  "kernelspec": {
   "display_name": "Python 3",
   "language": "python",
   "name": "python3"
  },
  "language_info": {
   "codemirror_mode": {
    "name": "ipython",
    "version": 3
   },
   "file_extension": ".py",
   "mimetype": "text/x-python",
   "name": "python",
   "nbconvert_exporter": "python",
   "pygments_lexer": "ipython3",
   "version": "3.5.0"
  }
 },
 "nbformat": 4,
 "nbformat_minor": 0
}
