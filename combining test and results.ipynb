{
 "cells": [
  {
   "cell_type": "code",
   "execution_count": 5,
   "metadata": {
    "collapsed": true
   },
   "outputs": [],
   "source": [
    "import pandas as pd"
   ]
  },
  {
   "cell_type": "code",
   "execution_count": 6,
   "metadata": {
    "collapsed": false
   },
   "outputs": [],
   "source": [
    "test = pd.read_csv('SF_crime/test.csv', index_col='Id')\n",
    "test = test.rename(columns={'X': 'Longitude', \"Y\": \"Latitude\"})\n",
    "test.Dates = pd.to_datetime(test.Dates)\n",
    "\n",
    "results = pd.read_csv(\"predictions_XGB2.csv\", index_col='Id')"
   ]
  },
  {
   "cell_type": "code",
   "execution_count": 10,
   "metadata": {
    "collapsed": true
   },
   "outputs": [],
   "source": [
    "def prob_to_column(df):\n",
    "    most_likely = []\n",
    "    second_most = []\n",
    "    third_most = []\n",
    "    df_t = df.T\n",
    "    n=0\n",
    "    for column in df_t:\n",
    "        name1 = df_t[column].sort_values(ascending=False).to_frame().head(3).index.values[0]\n",
    "        prob1 = df_t[column].sort_values(ascending=False)[0]\n",
    "        name2 = df_t[column].sort_values(ascending=False).to_frame().head(3).index.values[1]\n",
    "        prob2 = df_t[column].sort_values(ascending=False)[1]\n",
    "        name3 = df_t[column].sort_values(ascending=False).to_frame().head(3).index.values[2]\n",
    "        prob3 = df_t[column].sort_values(ascending=False)[2]\n",
    "        Id = n\n",
    "        most_likely.append((Id, name1, prob1))\n",
    "        second_most.append((Id, name2, prob2))\n",
    "        third_most.append((Id, name3, prob3))\n",
    "        n+=1\n",
    "    most_likely = pd.DataFrame(most_likely)\n",
    "    second_most = pd.DataFrame(second_most)\n",
    "    third_most = pd.DataFrame(third_most)\n",
    "    most_likely = most_likely.rename(columns={0:'Id', 1:'most_likely', 2:'highest_probability'})\n",
    "    second_most = second_most.rename(columns={0:'Id', 1:'second_most_likely', 2:'second_hightest_prob'})\n",
    "    third_most = third_most.rename(columns={0:'Id', 1:'third_most_likely', 2:'third_highest_prob'})\n",
    "    top_three = pd.merge(most_likely, second_most, on=most_likely.Id)\n",
    "    top_three = pd.merge(top_three, third_most, on=third_most.Id)\n",
    "    top_three = top_three.drop(['Id_y', 'Id'], axis=1)\n",
    "    top_three = top_three.rename(columns={'Id_x':'Id'})\n",
    "    return top_three"
   ]
  },
  {
   "cell_type": "code",
   "execution_count": 11,
   "metadata": {
    "collapsed": false
   },
   "outputs": [],
   "source": [
    "results_df = prob_to_column(results)"
   ]
  },
  {
   "cell_type": "code",
   "execution_count": 24,
   "metadata": {
    "collapsed": false
   },
   "outputs": [
    {
     "data": {
      "text/html": [
       "<div>\n",
       "<table border=\"1\" class=\"dataframe\">\n",
       "  <thead>\n",
       "    <tr style=\"text-align: right;\">\n",
       "      <th></th>\n",
       "      <th>Id</th>\n",
       "      <th>most_likely</th>\n",
       "      <th>highest_probability</th>\n",
       "      <th>second_most_likely</th>\n",
       "      <th>second_hightest_prob</th>\n",
       "      <th>third_most_likely</th>\n",
       "      <th>third_highest_prob</th>\n",
       "    </tr>\n",
       "  </thead>\n",
       "  <tbody>\n",
       "    <tr>\n",
       "      <th>0</th>\n",
       "      <td>0</td>\n",
       "      <td>OTHER OFFENSES</td>\n",
       "      <td>0.203127</td>\n",
       "      <td>VEHICLE THEFT</td>\n",
       "      <td>0.162556</td>\n",
       "      <td>VANDALISM</td>\n",
       "      <td>0.105344</td>\n",
       "    </tr>\n",
       "    <tr>\n",
       "      <th>1</th>\n",
       "      <td>1</td>\n",
       "      <td>OTHER OFFENSES</td>\n",
       "      <td>0.804285</td>\n",
       "      <td>NON-CRIMINAL</td>\n",
       "      <td>0.039011</td>\n",
       "      <td>VEHICLE THEFT</td>\n",
       "      <td>0.031694</td>\n",
       "    </tr>\n",
       "    <tr>\n",
       "      <th>2</th>\n",
       "      <td>2</td>\n",
       "      <td>LARCENY/THEFT</td>\n",
       "      <td>0.618779</td>\n",
       "      <td>NON-CRIMINAL</td>\n",
       "      <td>0.073270</td>\n",
       "      <td>VEHICLE THEFT</td>\n",
       "      <td>0.056663</td>\n",
       "    </tr>\n",
       "    <tr>\n",
       "      <th>3</th>\n",
       "      <td>3</td>\n",
       "      <td>OTHER OFFENSES</td>\n",
       "      <td>0.250367</td>\n",
       "      <td>LARCENY/THEFT</td>\n",
       "      <td>0.225559</td>\n",
       "      <td>VANDALISM</td>\n",
       "      <td>0.086718</td>\n",
       "    </tr>\n",
       "    <tr>\n",
       "      <th>4</th>\n",
       "      <td>4</td>\n",
       "      <td>OTHER OFFENSES</td>\n",
       "      <td>0.250367</td>\n",
       "      <td>LARCENY/THEFT</td>\n",
       "      <td>0.225559</td>\n",
       "      <td>VANDALISM</td>\n",
       "      <td>0.086718</td>\n",
       "    </tr>\n",
       "  </tbody>\n",
       "</table>\n",
       "</div>"
      ],
      "text/plain": [
       "   Id     most_likely  highest_probability second_most_likely  \\\n",
       "0   0  OTHER OFFENSES             0.203127      VEHICLE THEFT   \n",
       "1   1  OTHER OFFENSES             0.804285       NON-CRIMINAL   \n",
       "2   2   LARCENY/THEFT             0.618779       NON-CRIMINAL   \n",
       "3   3  OTHER OFFENSES             0.250367      LARCENY/THEFT   \n",
       "4   4  OTHER OFFENSES             0.250367      LARCENY/THEFT   \n",
       "\n",
       "   second_hightest_prob third_most_likely  third_highest_prob  \n",
       "0              0.162556         VANDALISM            0.105344  \n",
       "1              0.039011     VEHICLE THEFT            0.031694  \n",
       "2              0.073270     VEHICLE THEFT            0.056663  \n",
       "3              0.225559         VANDALISM            0.086718  \n",
       "4              0.225559         VANDALISM            0.086718  "
      ]
     },
     "execution_count": 24,
     "metadata": {},
     "output_type": "execute_result"
    }
   ],
   "source": [
    "results_df.head()"
   ]
  },
  {
   "cell_type": "code",
   "execution_count": 30,
   "metadata": {
    "collapsed": false
   },
   "outputs": [
    {
     "ename": "KeyboardInterrupt",
     "evalue": "",
     "output_type": "error",
     "traceback": [
      "\u001b[0;31m---------------------------------------------------------------------------\u001b[0m",
      "\u001b[0;31mKeyboardInterrupt\u001b[0m                         Traceback (most recent call last)",
      "\u001b[0;32m<ipython-input-30-d5dd395fc6fe>\u001b[0m in \u001b[0;36m<module>\u001b[0;34m()\u001b[0m\n\u001b[1;32m      1\u001b[0m \u001b[0;32mfor\u001b[0m \u001b[0mitem\u001b[0m \u001b[0;32min\u001b[0m \u001b[0;34m(\u001b[0m\u001b[0mresults_df\u001b[0m\u001b[0;34m.\u001b[0m\u001b[0mthird_most_likely\u001b[0m\u001b[0;34m.\u001b[0m\u001b[0munique\u001b[0m\u001b[0;34m(\u001b[0m\u001b[0;34m)\u001b[0m\u001b[0;34m)\u001b[0m\u001b[0;34m:\u001b[0m\u001b[0;34m\u001b[0m\u001b[0m\n\u001b[0;32m----> 2\u001b[0;31m     \u001b[0;32mif\u001b[0m \u001b[0mitem\u001b[0m \u001b[0;32mnot\u001b[0m \u001b[0;32min\u001b[0m \u001b[0;34m(\u001b[0m\u001b[0mresults_df\u001b[0m\u001b[0;34m.\u001b[0m\u001b[0msecond_hightest_prob\u001b[0m\u001b[0;34m.\u001b[0m\u001b[0munique\u001b[0m\u001b[0;34m(\u001b[0m\u001b[0;34m)\u001b[0m\u001b[0;34m)\u001b[0m\u001b[0;34m:\u001b[0m\u001b[0;34m\u001b[0m\u001b[0m\n\u001b[0m\u001b[1;32m      3\u001b[0m         \u001b[0mprint\u001b[0m\u001b[0;34m(\u001b[0m\u001b[0mitem\u001b[0m\u001b[0;34m)\u001b[0m\u001b[0;34m\u001b[0m\u001b[0m\n",
      "\u001b[0;32m/Users/MatthewBarnette/final_project_2/.direnv/python-3.5.0/lib/python3.5/site-packages/pandas/core/base.py\u001b[0m in \u001b[0;36munique\u001b[0;34m(self)\u001b[0m\n\u001b[1;32m    467\u001b[0m             \u001b[0;32mreturn\u001b[0m \u001b[0mvalues\u001b[0m\u001b[0;34m.\u001b[0m\u001b[0munique\u001b[0m\u001b[0;34m(\u001b[0m\u001b[0;34m)\u001b[0m\u001b[0;34m\u001b[0m\u001b[0m\n\u001b[1;32m    468\u001b[0m \u001b[0;34m\u001b[0m\u001b[0m\n\u001b[0;32m--> 469\u001b[0;31m         \u001b[0;32mreturn\u001b[0m \u001b[0munique1d\u001b[0m\u001b[0;34m(\u001b[0m\u001b[0mvalues\u001b[0m\u001b[0;34m)\u001b[0m\u001b[0;34m\u001b[0m\u001b[0m\n\u001b[0m\u001b[1;32m    470\u001b[0m \u001b[0;34m\u001b[0m\u001b[0m\n\u001b[1;32m    471\u001b[0m     \u001b[0;32mdef\u001b[0m \u001b[0mnunique\u001b[0m\u001b[0;34m(\u001b[0m\u001b[0mself\u001b[0m\u001b[0;34m,\u001b[0m \u001b[0mdropna\u001b[0m\u001b[0;34m=\u001b[0m\u001b[0;32mTrue\u001b[0m\u001b[0;34m)\u001b[0m\u001b[0;34m:\u001b[0m\u001b[0;34m\u001b[0m\u001b[0m\n",
      "\u001b[0;32m/Users/MatthewBarnette/final_project_2/.direnv/python-3.5.0/lib/python3.5/site-packages/pandas/core/nanops.py\u001b[0m in \u001b[0;36munique1d\u001b[0;34m(values)\u001b[0m\n\u001b[1;32m    776\u001b[0m     \u001b[0;32mif\u001b[0m \u001b[0mnp\u001b[0m\u001b[0;34m.\u001b[0m\u001b[0missubdtype\u001b[0m\u001b[0;34m(\u001b[0m\u001b[0mvalues\u001b[0m\u001b[0;34m.\u001b[0m\u001b[0mdtype\u001b[0m\u001b[0;34m,\u001b[0m \u001b[0mnp\u001b[0m\u001b[0;34m.\u001b[0m\u001b[0mfloating\u001b[0m\u001b[0;34m)\u001b[0m\u001b[0;34m:\u001b[0m\u001b[0;34m\u001b[0m\u001b[0m\n\u001b[1;32m    777\u001b[0m         \u001b[0mtable\u001b[0m \u001b[0;34m=\u001b[0m \u001b[0m_hash\u001b[0m\u001b[0;34m.\u001b[0m\u001b[0mFloat64HashTable\u001b[0m\u001b[0;34m(\u001b[0m\u001b[0mlen\u001b[0m\u001b[0;34m(\u001b[0m\u001b[0mvalues\u001b[0m\u001b[0;34m)\u001b[0m\u001b[0;34m)\u001b[0m\u001b[0;34m\u001b[0m\u001b[0m\n\u001b[0;32m--> 778\u001b[0;31m         uniques = np.array(table.unique(_ensure_float64(values)),\n\u001b[0m\u001b[1;32m    779\u001b[0m                            dtype=np.float64)\n\u001b[1;32m    780\u001b[0m     \u001b[0;32melif\u001b[0m \u001b[0mnp\u001b[0m\u001b[0;34m.\u001b[0m\u001b[0missubdtype\u001b[0m\u001b[0;34m(\u001b[0m\u001b[0mvalues\u001b[0m\u001b[0;34m.\u001b[0m\u001b[0mdtype\u001b[0m\u001b[0;34m,\u001b[0m \u001b[0mnp\u001b[0m\u001b[0;34m.\u001b[0m\u001b[0mdatetime64\u001b[0m\u001b[0;34m)\u001b[0m\u001b[0;34m:\u001b[0m\u001b[0;34m\u001b[0m\u001b[0m\n",
      "\u001b[0;31mKeyboardInterrupt\u001b[0m: "
     ]
    }
   ],
   "source": [
    "for item in (results_df.third_most_likely.unique()):\n",
    "    if item not in (results_df.second_hightest_prob.unique()):\n",
    "        print(item)"
   ]
  },
  {
   "cell_type": "code",
   "execution_count": 14,
   "metadata": {
    "collapsed": false
   },
   "outputs": [],
   "source": [
    "results_df.to_csv('/Users/MatthewBarnette/final_project_predictions//results_top_three.csv')"
   ]
  },
  {
   "cell_type": "code",
   "execution_count": 15,
   "metadata": {
    "collapsed": false
   },
   "outputs": [],
   "source": [
    "test_results = test.join(results_df)"
   ]
  },
  {
   "cell_type": "code",
   "execution_count": 16,
   "metadata": {
    "collapsed": true
   },
   "outputs": [],
   "source": [
    "test_results.to_csv('/Users/MatthewBarnette/final_project_predictions//test_results_top_three.csv')"
   ]
  },
  {
   "cell_type": "code",
   "execution_count": 17,
   "metadata": {
    "collapsed": true
   },
   "outputs": [],
   "source": [
    "testing = pd.read_csv('/Users/MatthewBarnette/final_project_predictions//test_results_top_three.csv')"
   ]
  }
 ],
 "metadata": {
  "kernelspec": {
   "display_name": "Python 3",
   "language": "python",
   "name": "python3"
  },
  "language_info": {
   "codemirror_mode": {
    "name": "ipython",
    "version": 3
   },
   "file_extension": ".py",
   "mimetype": "text/x-python",
   "name": "python",
   "nbconvert_exporter": "python",
   "pygments_lexer": "ipython3",
   "version": "3.5.0"
  }
 },
 "nbformat": 4,
 "nbformat_minor": 0
}
