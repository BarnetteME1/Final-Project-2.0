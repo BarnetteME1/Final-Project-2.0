{
 "cells": [
  {
   "cell_type": "code",
   "execution_count": 2,
   "metadata": {
    "collapsed": true
   },
   "outputs": [],
   "source": [
    "import pandas as pd"
   ]
  },
  {
   "cell_type": "code",
   "execution_count": 14,
   "metadata": {
    "collapsed": true
   },
   "outputs": [],
   "source": [
    "def prob_to_column(df):\n",
    "    df_t = df.T\n",
    "    columns = df_t.columns.values\n",
    "    probability = []\n",
    "    for column in range(len(columns)):\n",
    "        current_prob = 0\n",
    "        for row in range(len(df_t[columns[column]])):\n",
    "            if df_t[columns[column]][row] > current_prob:\n",
    "                current_prob = df_t[columns[column]][row]\n",
    "        probability.append(current_prob)\n",
    "    n = 0\n",
    "    df_t = df_t.applymap(str)\n",
    "    for column in range(len(columns)):\n",
    "        for row in range(len(df_t[column])):\n",
    "            if df_t[column][row] == str(probability[n]):\n",
    "                df_t[column][row] = '1'\n",
    "        n+=1\n",
    "    return df_t.T"
   ]
  },
  {
   "cell_type": "code",
   "execution_count": 15,
   "metadata": {
    "collapsed": false
   },
   "outputs": [],
   "source": [
    "def dummy_to_column(df):\n",
    "    columns = df.columns.values\n",
    "    df_t = df.T\n",
    "    characters = []\n",
    "    for column in range(len(columns)):\n",
    "        for row in range(len(df[columns[column]])):\n",
    "            if df[columns[column]][row] == '1':\n",
    "                df[columns[column]][row] = columns[column]\n",
    "    columns = df_t.columns.values\n",
    "    characters = []\n",
    "    for column in range(len(columns)):\n",
    "        for row in range(len(df_t[columns[column]])):\n",
    "            if df_t[columns[column]][row] in df_t.index:\n",
    "                characters.append(df_t[columns[column]][row])\n",
    "    return characters"
   ]
  },
  {
   "cell_type": "code",
   "execution_count": 3,
   "metadata": {
    "collapsed": false
   },
   "outputs": [],
   "source": [
    "Critical_Role = pd.DataFrame([{'Grog':.32432, 'Keyleth':.35345, \"Vax\":.59845},\n",
    "                              {'Grog':.52346, 'Keyleth':.3425, \"Vax\":.52345},\n",
    "                              {'Grog':.34523, 'Keyleth':.3523, \"Vax\":.32452},\n",
    "                              {'Grog':.74523, 'Keyleth':.54325, \"Vax\":.34253},\n",
    "                              {'Grog':.45234, 'Keyleth':.34523, \"Vax\":.53425},\n",
    "                              {'Grog':.45234, 'Keyleth':.3452, \"Vax\":.54325},\n",
    "                              {'Grog':.52342, 'Keyleth':.54352, \"Vax\":.34523},\n",
    "                              {'Grog':.23452, 'Keyleth':.45235, \"Vax\":.43253},\n",
    "                              {'Grog':.55352, 'Keyleth':.32452, \"Vax\":.54325}])"
   ]
  },
  {
   "cell_type": "code",
   "execution_count": 5,
   "metadata": {
    "collapsed": false
   },
   "outputs": [
    {
     "ename": "NameError",
     "evalue": "name 'Critical_Role' is not defined",
     "output_type": "error",
     "traceback": [
      "\u001b[0;31m---------------------------------------------------------------------------\u001b[0m",
      "\u001b[0;31mNameError\u001b[0m                                 Traceback (most recent call last)",
      "\u001b[0;32m<ipython-input-5-70049edfe0df>\u001b[0m in \u001b[0;36m<module>\u001b[0;34m()\u001b[0m\n\u001b[0;32m----> 1\u001b[0;31m \u001b[0mCritical_matrix\u001b[0m \u001b[0;34m=\u001b[0m \u001b[0mCritical_Role\u001b[0m\u001b[0;34m.\u001b[0m\u001b[0mas_matrix\u001b[0m\u001b[0;34m(\u001b[0m\u001b[0;34m)\u001b[0m\u001b[0;34m\u001b[0m\u001b[0m\n\u001b[0m",
      "\u001b[0;31mNameError\u001b[0m: name 'Critical_Role' is not defined"
     ]
    }
   ],
   "source": [
    "Critical_matrix = Critical_Role.as_matrix()"
   ]
  },
  {
   "cell_type": "code",
   "execution_count": 6,
   "metadata": {
    "collapsed": false
   },
   "outputs": [
    {
     "ename": "NameError",
     "evalue": "name 'Critical_matrix' is not defined",
     "output_type": "error",
     "traceback": [
      "\u001b[0;31m---------------------------------------------------------------------------\u001b[0m",
      "\u001b[0;31mNameError\u001b[0m                                 Traceback (most recent call last)",
      "\u001b[0;32m<ipython-input-6-ad9a263a6608>\u001b[0m in \u001b[0;36m<module>\u001b[0;34m()\u001b[0m\n\u001b[0;32m----> 1\u001b[0;31m \u001b[0mCritical_matrix\u001b[0m\u001b[0;34m[\u001b[0m\u001b[0;36m1\u001b[0m\u001b[0;34m]\u001b[0m\u001b[0;34m[\u001b[0m\u001b[0;36m1\u001b[0m\u001b[0;34m]\u001b[0m \u001b[0;34m=\u001b[0m \u001b[0;36m1\u001b[0m\u001b[0;34m\u001b[0m\u001b[0m\n\u001b[0m",
      "\u001b[0;31mNameError\u001b[0m: name 'Critical_matrix' is not defined"
     ]
    }
   ],
   "source": [
    "Critical_matrix[1][1] = 1"
   ]
  },
  {
   "cell_type": "code",
   "execution_count": 5,
   "metadata": {
    "collapsed": false
   },
   "outputs": [
    {
     "data": {
      "text/html": [
       "<div>\n",
       "<table border=\"1\" class=\"dataframe\">\n",
       "  <thead>\n",
       "    <tr style=\"text-align: right;\">\n",
       "      <th></th>\n",
       "      <th>0</th>\n",
       "      <th>1</th>\n",
       "      <th>2</th>\n",
       "      <th>3</th>\n",
       "      <th>4</th>\n",
       "      <th>5</th>\n",
       "      <th>6</th>\n",
       "      <th>7</th>\n",
       "      <th>8</th>\n",
       "    </tr>\n",
       "  </thead>\n",
       "  <tbody>\n",
       "    <tr>\n",
       "      <th>Grog</th>\n",
       "      <td>0.32432</td>\n",
       "      <td>0.52346</td>\n",
       "      <td>0.34523</td>\n",
       "      <td>0.74523</td>\n",
       "      <td>0.45234</td>\n",
       "      <td>0.45234</td>\n",
       "      <td>0.52342</td>\n",
       "      <td>0.23452</td>\n",
       "      <td>0.55352</td>\n",
       "    </tr>\n",
       "    <tr>\n",
       "      <th>Keyleth</th>\n",
       "      <td>0.35345</td>\n",
       "      <td>0.34250</td>\n",
       "      <td>0.35230</td>\n",
       "      <td>0.54325</td>\n",
       "      <td>0.34523</td>\n",
       "      <td>0.34520</td>\n",
       "      <td>0.54352</td>\n",
       "      <td>0.45235</td>\n",
       "      <td>0.32452</td>\n",
       "    </tr>\n",
       "    <tr>\n",
       "      <th>Vax</th>\n",
       "      <td>0.59845</td>\n",
       "      <td>0.52345</td>\n",
       "      <td>0.32452</td>\n",
       "      <td>0.34253</td>\n",
       "      <td>0.53425</td>\n",
       "      <td>0.54325</td>\n",
       "      <td>0.34523</td>\n",
       "      <td>0.43253</td>\n",
       "      <td>0.54325</td>\n",
       "    </tr>\n",
       "  </tbody>\n",
       "</table>\n",
       "</div>"
      ],
      "text/plain": [
       "               0        1        2        3        4        5        6  \\\n",
       "Grog     0.32432  0.52346  0.34523  0.74523  0.45234  0.45234  0.52342   \n",
       "Keyleth  0.35345  0.34250  0.35230  0.54325  0.34523  0.34520  0.54352   \n",
       "Vax      0.59845  0.52345  0.32452  0.34253  0.53425  0.54325  0.34523   \n",
       "\n",
       "               7        8  \n",
       "Grog     0.23452  0.55352  \n",
       "Keyleth  0.45235  0.32452  \n",
       "Vax      0.43253  0.54325  "
      ]
     },
     "execution_count": 5,
     "metadata": {},
     "output_type": "execute_result"
    }
   ],
   "source": [
    "Critical_Role.T"
   ]
  },
  {
   "cell_type": "code",
   "execution_count": 46,
   "metadata": {
    "collapsed": false
   },
   "outputs": [],
   "source": [
    "top_role = []\n",
    "for column in Critical_Role.T:\n",
    "    role = Critical_Role.T[column].sort_values(ascending=False).to_frame().head(1).index.values[0]\n",
    "    prob = Critical_Role.T[column].sort_values(ascending=False)[0]\n",
    "    top_role.append((role, prob))"
   ]
  },
  {
   "cell_type": "code",
   "execution_count": 47,
   "metadata": {
    "collapsed": false
   },
   "outputs": [
    {
     "data": {
      "text/html": [
       "<div>\n",
       "<table border=\"1\" class=\"dataframe\">\n",
       "  <thead>\n",
       "    <tr style=\"text-align: right;\">\n",
       "      <th></th>\n",
       "      <th>0</th>\n",
       "      <th>1</th>\n",
       "    </tr>\n",
       "  </thead>\n",
       "  <tbody>\n",
       "    <tr>\n",
       "      <th>0</th>\n",
       "      <td>Vax</td>\n",
       "      <td>0.59845</td>\n",
       "    </tr>\n",
       "    <tr>\n",
       "      <th>1</th>\n",
       "      <td>Grog</td>\n",
       "      <td>0.52346</td>\n",
       "    </tr>\n",
       "    <tr>\n",
       "      <th>2</th>\n",
       "      <td>Keyleth</td>\n",
       "      <td>0.35230</td>\n",
       "    </tr>\n",
       "    <tr>\n",
       "      <th>3</th>\n",
       "      <td>Grog</td>\n",
       "      <td>0.74523</td>\n",
       "    </tr>\n",
       "    <tr>\n",
       "      <th>4</th>\n",
       "      <td>Vax</td>\n",
       "      <td>0.53425</td>\n",
       "    </tr>\n",
       "    <tr>\n",
       "      <th>5</th>\n",
       "      <td>Vax</td>\n",
       "      <td>0.54325</td>\n",
       "    </tr>\n",
       "    <tr>\n",
       "      <th>6</th>\n",
       "      <td>Keyleth</td>\n",
       "      <td>0.54352</td>\n",
       "    </tr>\n",
       "    <tr>\n",
       "      <th>7</th>\n",
       "      <td>Keyleth</td>\n",
       "      <td>0.45235</td>\n",
       "    </tr>\n",
       "    <tr>\n",
       "      <th>8</th>\n",
       "      <td>Grog</td>\n",
       "      <td>0.55352</td>\n",
       "    </tr>\n",
       "  </tbody>\n",
       "</table>\n",
       "</div>"
      ],
      "text/plain": [
       "         0        1\n",
       "0      Vax  0.59845\n",
       "1     Grog  0.52346\n",
       "2  Keyleth  0.35230\n",
       "3     Grog  0.74523\n",
       "4      Vax  0.53425\n",
       "5      Vax  0.54325\n",
       "6  Keyleth  0.54352\n",
       "7  Keyleth  0.45235\n",
       "8     Grog  0.55352"
      ]
     },
     "execution_count": 47,
     "metadata": {},
     "output_type": "execute_result"
    }
   ],
   "source": [
    "pd.DataFrame(top_role)"
   ]
  },
  {
   "cell_type": "code",
   "execution_count": 58,
   "metadata": {
    "collapsed": false
   },
   "outputs": [
    {
     "name": "stdout",
     "output_type": "stream",
     "text": [
      "0.59845\n",
      "0.52346\n",
      "0.35230\n",
      "0.74523\n",
      "0.53425\n",
      "0.54325\n",
      "0.54352\n",
      "0.45235\n",
      "0.55352\n",
      "0.59845\n",
      "0.52346\n",
      "0.35230\n",
      "0.74523\n",
      "0.53425\n",
      "0.54325\n",
      "0.54352\n",
      "0.45235\n",
      "0.55352\n",
      "0.59845\n",
      "0.52346\n",
      "0.35230\n",
      "0.74523\n",
      "0.53425\n",
      "0.54325\n",
      "0.54352\n",
      "0.45235\n",
      "0.55352\n"
     ]
    },
    {
     "data": {
      "text/plain": [
       "array([[ 0.32432,  0.35345,  0.59845],\n",
       "       [ 0.52346,  0.3425 ,  0.52345],\n",
       "       [ 0.34523,  0.3523 ,  0.32452],\n",
       "       [ 0.74523,  0.54325,  0.34253],\n",
       "       [ 0.45234,  0.34523,  0.53425],\n",
       "       [ 0.45234,  0.3452 ,  0.54325],\n",
       "       [ 0.52342,  0.54352,  0.34523],\n",
       "       [ 0.23452,  0.45235,  0.43253],\n",
       "       [ 0.55352,  0.32452,  0.54325]])"
      ]
     },
     "execution_count": 58,
     "metadata": {},
     "output_type": "execute_result"
    }
   ],
   "source": [
    "#Critical_Role = \n",
    "prob_to_column(Critical_Role)"
   ]
  },
  {
   "cell_type": "code",
   "execution_count": null,
   "metadata": {
    "collapsed": true
   },
   "outputs": [],
   "source": [
    "(\"%.4f\" % probability[n])"
   ]
  },
  {
   "cell_type": "code",
   "execution_count": 57,
   "metadata": {
    "collapsed": false
   },
   "outputs": [],
   "source": [
    "def prob_to_column(df):\n",
    "    columns = df.columns.values\n",
    "    df_t = df.as_matrix()\n",
    "    probability = []\n",
    "    columns = list(range(len(columns)))\n",
    "    rows = list(range(len(df_t)))\n",
    "    for row in rows:\n",
    "        current_prob = 0\n",
    "        for column in columns:\n",
    "            if df_t[row][column] > current_prob:\n",
    "                current_prob = df_t[row][column]\n",
    "        probability.append(current_prob)\n",
    "    n = 0\n",
    "    for column in columns:\n",
    "        for row in rows:\n",
    "            print((\"%.5f\" % probability[row]))\n",
    "            if df_t[row][column] == (\"%.5f\" % probability[row]):\n",
    "                print((\"%.5f\" % probability[n]))\n",
    "                df_t[row][column] = 1\n",
    "    return df_t"
   ]
  },
  {
   "cell_type": "code",
   "execution_count": 22,
   "metadata": {
    "collapsed": false
   },
   "outputs": [],
   "source": [
    "Critical_Role = pd.DataFrame(dummy_to_column(prob_to_column(Critical_Role)))"
   ]
  },
  {
   "cell_type": "code",
   "execution_count": 23,
   "metadata": {
    "collapsed": false
   },
   "outputs": [
    {
     "data": {
      "text/html": [
       "<div>\n",
       "<table border=\"1\" class=\"dataframe\">\n",
       "  <thead>\n",
       "    <tr style=\"text-align: right;\">\n",
       "      <th></th>\n",
       "      <th>0</th>\n",
       "    </tr>\n",
       "  </thead>\n",
       "  <tbody>\n",
       "    <tr>\n",
       "      <th>0</th>\n",
       "      <td>Vax</td>\n",
       "    </tr>\n",
       "    <tr>\n",
       "      <th>1</th>\n",
       "      <td>Grog</td>\n",
       "    </tr>\n",
       "    <tr>\n",
       "      <th>2</th>\n",
       "      <td>Keyleth</td>\n",
       "    </tr>\n",
       "    <tr>\n",
       "      <th>3</th>\n",
       "      <td>Grog</td>\n",
       "    </tr>\n",
       "    <tr>\n",
       "      <th>4</th>\n",
       "      <td>Vax</td>\n",
       "    </tr>\n",
       "    <tr>\n",
       "      <th>5</th>\n",
       "      <td>Vax</td>\n",
       "    </tr>\n",
       "    <tr>\n",
       "      <th>6</th>\n",
       "      <td>Keyleth</td>\n",
       "    </tr>\n",
       "    <tr>\n",
       "      <th>7</th>\n",
       "      <td>Keyleth</td>\n",
       "    </tr>\n",
       "    <tr>\n",
       "      <th>8</th>\n",
       "      <td>Grog</td>\n",
       "    </tr>\n",
       "  </tbody>\n",
       "</table>\n",
       "</div>"
      ],
      "text/plain": [
       "         0\n",
       "0      Vax\n",
       "1     Grog\n",
       "2  Keyleth\n",
       "3     Grog\n",
       "4      Vax\n",
       "5      Vax\n",
       "6  Keyleth\n",
       "7  Keyleth\n",
       "8     Grog"
      ]
     },
     "execution_count": 23,
     "metadata": {},
     "output_type": "execute_result"
    }
   ],
   "source": [
    "Critical_Role"
   ]
  },
  {
   "cell_type": "markdown",
   "metadata": {
    "collapsed": true
   },
   "source": [
    "Critical_Role = pd.DataFrame([{'Grog':0, 'Keyleth':1, \"Vax\":0},\n",
    "                              {'Grog':1, 'Keyleth':0, \"Vax\":0},\n",
    "                              {'Grog':0, 'Keyleth':0, \"Vax\":1},\n",
    "                              {'Grog':0, 'Keyleth':0, \"Vax\":1},\n",
    "                              {'Grog':0, 'Keyleth':1, \"Vax\":0},\n",
    "                              {'Grog':0, 'Keyleth':1, \"Vax\":0},\n",
    "                              {'Grog':1, 'Keyleth':0, \"Vax\":0},\n",
    "                              {'Grog':0, 'Keyleth':0, \"Vax\":1},\n",
    "                              {'Grog':1, 'Keyleth':0, \"Vax\":0}])"
   ]
  }
 ],
 "metadata": {
  "kernelspec": {
   "display_name": "Python 3",
   "language": "python",
   "name": "python3"
  },
  "language_info": {
   "codemirror_mode": {
    "name": "ipython",
    "version": 3
   },
   "file_extension": ".py",
   "mimetype": "text/x-python",
   "name": "python",
   "nbconvert_exporter": "python",
   "pygments_lexer": "ipython3",
   "version": "3.5.0"
  }
 },
 "nbformat": 4,
 "nbformat_minor": 0
}
