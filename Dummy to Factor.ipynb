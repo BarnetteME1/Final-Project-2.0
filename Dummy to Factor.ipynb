{
 "cells": [
  {
   "cell_type": "code",
   "execution_count": 2,
   "metadata": {
    "collapsed": true
   },
   "outputs": [],
   "source": [
    "import pandas as pd"
   ]
  },
  {
   "cell_type": "code",
   "execution_count": 52,
   "metadata": {
    "collapsed": false
   },
   "outputs": [],
   "source": [
    "Critical_Role = pd.DataFrame([{'Grog':.32432, 'Keyleth':.35345, \"Vax\":.59845},\n",
    "                              {'Grog':.52346, 'Keyleth':.3425, \"Vax\":.52345},\n",
    "                              {'Grog':.34523, 'Keyleth':.3523, \"Vax\":.32452},\n",
    "                              {'Grog':.74523, 'Keyleth':.54325, \"Vax\":.34253},\n",
    "                              {'Grog':.45234, 'Keyleth':.34523, \"Vax\":.53425},\n",
    "                              {'Grog':.45234, 'Keyleth':.3452, \"Vax\":.54325},\n",
    "                              {'Grog':.52342, 'Keyleth':.54352, \"Vax\":.34523},\n",
    "                              {'Grog':.23452, 'Keyleth':.45235, \"Vax\":.43253},\n",
    "                              {'Grog':.55352, 'Keyleth':.32452, \"Vax\":.54325}])"
   ]
  },
  {
   "cell_type": "code",
   "execution_count": 58,
   "metadata": {
    "collapsed": false
   },
   "outputs": [
    {
     "data": {
      "text/html": [
       "<div>\n",
       "<table border=\"1\" class=\"dataframe\">\n",
       "  <thead>\n",
       "    <tr style=\"text-align: right;\">\n",
       "      <th></th>\n",
       "      <th>Grog</th>\n",
       "      <th>Keyleth</th>\n",
       "      <th>Vax</th>\n",
       "    </tr>\n",
       "  </thead>\n",
       "  <tbody>\n",
       "    <tr>\n",
       "      <th>0</th>\n",
       "      <td>0.32432</td>\n",
       "      <td>0.35345</td>\n",
       "      <td>0.59845</td>\n",
       "    </tr>\n",
       "    <tr>\n",
       "      <th>1</th>\n",
       "      <td>0.52346</td>\n",
       "      <td>0.34250</td>\n",
       "      <td>0.52345</td>\n",
       "    </tr>\n",
       "    <tr>\n",
       "      <th>2</th>\n",
       "      <td>0.34523</td>\n",
       "      <td>0.35230</td>\n",
       "      <td>0.32452</td>\n",
       "    </tr>\n",
       "    <tr>\n",
       "      <th>3</th>\n",
       "      <td>0.74523</td>\n",
       "      <td>0.54325</td>\n",
       "      <td>0.34253</td>\n",
       "    </tr>\n",
       "    <tr>\n",
       "      <th>4</th>\n",
       "      <td>0.45234</td>\n",
       "      <td>0.34523</td>\n",
       "      <td>0.53425</td>\n",
       "    </tr>\n",
       "    <tr>\n",
       "      <th>5</th>\n",
       "      <td>0.45234</td>\n",
       "      <td>0.34520</td>\n",
       "      <td>0.54325</td>\n",
       "    </tr>\n",
       "    <tr>\n",
       "      <th>6</th>\n",
       "      <td>0.52342</td>\n",
       "      <td>0.54352</td>\n",
       "      <td>0.34523</td>\n",
       "    </tr>\n",
       "    <tr>\n",
       "      <th>7</th>\n",
       "      <td>0.23452</td>\n",
       "      <td>0.45235</td>\n",
       "      <td>0.43253</td>\n",
       "    </tr>\n",
       "    <tr>\n",
       "      <th>8</th>\n",
       "      <td>0.55352</td>\n",
       "      <td>0.32452</td>\n",
       "      <td>0.54325</td>\n",
       "    </tr>\n",
       "  </tbody>\n",
       "</table>\n",
       "</div>"
      ],
      "text/plain": [
       "      Grog  Keyleth      Vax\n",
       "0  0.32432  0.35345  0.59845\n",
       "1  0.52346  0.34250  0.52345\n",
       "2  0.34523  0.35230  0.32452\n",
       "3  0.74523  0.54325  0.34253\n",
       "4  0.45234  0.34523  0.53425\n",
       "5  0.45234  0.34520  0.54325\n",
       "6  0.52342  0.54352  0.34523\n",
       "7  0.23452  0.45235  0.43253\n",
       "8  0.55352  0.32452  0.54325"
      ]
     },
     "execution_count": 58,
     "metadata": {},
     "output_type": "execute_result"
    }
   ],
   "source": [
    "Critical_Role"
   ]
  },
  {
   "cell_type": "code",
   "execution_count": 56,
   "metadata": {
    "collapsed": false
   },
   "outputs": [],
   "source": [
    "def prob_to_column(df):\n",
    "    most_likely = []\n",
    "    df_t = df.T\n",
    "    for column in df_t:\n",
    "        name = df_t[column].sort_values(ascending=False).to_frame().head(1).index.values[0]\n",
    "        prob = df_t[column].sort_values(ascending=False)[0]\n",
    "        most_likely.append((name, prob))\n",
    "    return pd.DataFrame(most_likely)"
   ]
  },
  {
   "cell_type": "code",
   "execution_count": 57,
   "metadata": {
    "collapsed": false
   },
   "outputs": [
    {
     "data": {
      "text/html": [
       "<div>\n",
       "<table border=\"1\" class=\"dataframe\">\n",
       "  <thead>\n",
       "    <tr style=\"text-align: right;\">\n",
       "      <th></th>\n",
       "      <th>0</th>\n",
       "      <th>1</th>\n",
       "    </tr>\n",
       "  </thead>\n",
       "  <tbody>\n",
       "    <tr>\n",
       "      <th>0</th>\n",
       "      <td>Vax</td>\n",
       "      <td>0.59845</td>\n",
       "    </tr>\n",
       "    <tr>\n",
       "      <th>1</th>\n",
       "      <td>Grog</td>\n",
       "      <td>0.52346</td>\n",
       "    </tr>\n",
       "    <tr>\n",
       "      <th>2</th>\n",
       "      <td>Keyleth</td>\n",
       "      <td>0.35230</td>\n",
       "    </tr>\n",
       "    <tr>\n",
       "      <th>3</th>\n",
       "      <td>Grog</td>\n",
       "      <td>0.74523</td>\n",
       "    </tr>\n",
       "    <tr>\n",
       "      <th>4</th>\n",
       "      <td>Vax</td>\n",
       "      <td>0.53425</td>\n",
       "    </tr>\n",
       "    <tr>\n",
       "      <th>5</th>\n",
       "      <td>Vax</td>\n",
       "      <td>0.54325</td>\n",
       "    </tr>\n",
       "    <tr>\n",
       "      <th>6</th>\n",
       "      <td>Keyleth</td>\n",
       "      <td>0.54352</td>\n",
       "    </tr>\n",
       "    <tr>\n",
       "      <th>7</th>\n",
       "      <td>Keyleth</td>\n",
       "      <td>0.45235</td>\n",
       "    </tr>\n",
       "    <tr>\n",
       "      <th>8</th>\n",
       "      <td>Grog</td>\n",
       "      <td>0.55352</td>\n",
       "    </tr>\n",
       "  </tbody>\n",
       "</table>\n",
       "</div>"
      ],
      "text/plain": [
       "         0        1\n",
       "0      Vax  0.59845\n",
       "1     Grog  0.52346\n",
       "2  Keyleth  0.35230\n",
       "3     Grog  0.74523\n",
       "4      Vax  0.53425\n",
       "5      Vax  0.54325\n",
       "6  Keyleth  0.54352\n",
       "7  Keyleth  0.45235\n",
       "8     Grog  0.55352"
      ]
     },
     "execution_count": 57,
     "metadata": {},
     "output_type": "execute_result"
    }
   ],
   "source": [
    "prob_to_column(Critical_Role)"
   ]
  }
 ],
 "metadata": {
  "kernelspec": {
   "display_name": "Python 3",
   "language": "python",
   "name": "python3"
  },
  "language_info": {
   "codemirror_mode": {
    "name": "ipython",
    "version": 3
   },
   "file_extension": ".py",
   "mimetype": "text/x-python",
   "name": "python",
   "nbconvert_exporter": "python",
   "pygments_lexer": "ipython3",
   "version": "3.5.0"
  }
 },
 "nbformat": 4,
 "nbformat_minor": 0
}
