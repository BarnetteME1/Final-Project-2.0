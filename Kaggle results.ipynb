{
 "cells": [
  {
   "cell_type": "code",
   "execution_count": 4,
   "metadata": {
    "collapsed": true
   },
   "outputs": [],
   "source": [
    "import pandas as pd"
   ]
  },
  {
   "cell_type": "code",
   "execution_count": 5,
   "metadata": {
    "collapsed": false
   },
   "outputs": [],
   "source": [
    "kaggle = [{'Rank': '694', 'Position_Change': '0', 'Score': '15.72938', 'Number_of_Submissions': '1', \n",
    "           'Datetime': 'Mon, 30 Nov 2015 16:19:41', 'Used': 'Random Forest 10 trees'},\n",
    "          {'Rank': '677', 'Position_Change': '+21', 'Score': '6.67346', 'Number_of_Submissions': '2', \n",
    "           'Datetime': 'Mon, 30 Nov 2015 20:21:56', 'Used': 'Random Forest 100 trees'},\n",
    "         {'Rank': '675', 'Position_Change': '+10', 'Score': '5.27115', 'Number_of_Submissions': '3', \n",
    "           'Datetime': 'Tue, 01 Dec 2015 19:09:03', 'Used': 'XGBoost: softpred with logloss, map over 10 rounds'}]"
   ]
  },
  {
   "cell_type": "code",
   "execution_count": 6,
   "metadata": {
    "collapsed": false
   },
   "outputs": [
    {
     "data": {
      "text/html": [
       "<div>\n",
       "<table border=\"1\" class=\"dataframe\">\n",
       "  <thead>\n",
       "    <tr style=\"text-align: right;\">\n",
       "      <th></th>\n",
       "      <th>Datetime</th>\n",
       "      <th>Number_of_Submissions</th>\n",
       "      <th>Position_Change</th>\n",
       "      <th>Rank</th>\n",
       "      <th>Score</th>\n",
       "      <th>Used</th>\n",
       "    </tr>\n",
       "  </thead>\n",
       "  <tbody>\n",
       "    <tr>\n",
       "      <th>0</th>\n",
       "      <td>Mon, 30 Nov 2015 16:19:41</td>\n",
       "      <td>1</td>\n",
       "      <td>0</td>\n",
       "      <td>694</td>\n",
       "      <td>15.72938</td>\n",
       "      <td>Random Forest 10 trees</td>\n",
       "    </tr>\n",
       "    <tr>\n",
       "      <th>1</th>\n",
       "      <td>Mon, 30 Nov 2015 20:21:56</td>\n",
       "      <td>2</td>\n",
       "      <td>+21</td>\n",
       "      <td>677</td>\n",
       "      <td>6.67346</td>\n",
       "      <td>Random Forest 100 trees</td>\n",
       "    </tr>\n",
       "    <tr>\n",
       "      <th>2</th>\n",
       "      <td>Tue, 01 Dec 2015 19:09:03</td>\n",
       "      <td>3</td>\n",
       "      <td>+10</td>\n",
       "      <td>675</td>\n",
       "      <td>5.27115</td>\n",
       "      <td>XGBoost: softpred with logloss, map over 10 ro...</td>\n",
       "    </tr>\n",
       "  </tbody>\n",
       "</table>\n",
       "</div>"
      ],
      "text/plain": [
       "                    Datetime Number_of_Submissions Position_Change Rank  \\\n",
       "0  Mon, 30 Nov 2015 16:19:41                     1               0  694   \n",
       "1  Mon, 30 Nov 2015 20:21:56                     2             +21  677   \n",
       "2  Tue, 01 Dec 2015 19:09:03                     3             +10  675   \n",
       "\n",
       "      Score                                               Used  \n",
       "0  15.72938                             Random Forest 10 trees  \n",
       "1   6.67346                            Random Forest 100 trees  \n",
       "2   5.27115  XGBoost: softpred with logloss, map over 10 ro...  "
      ]
     },
     "execution_count": 6,
     "metadata": {},
     "output_type": "execute_result"
    }
   ],
   "source": [
    "pd.DataFrame(kaggle)"
   ]
  }
 ],
 "metadata": {
  "kernelspec": {
   "display_name": "Python 3",
   "language": "python",
   "name": "python3"
  },
  "language_info": {
   "codemirror_mode": {
    "name": "ipython",
    "version": 3
   },
   "file_extension": ".py",
   "mimetype": "text/x-python",
   "name": "python",
   "nbconvert_exporter": "python",
   "pygments_lexer": "ipython3",
   "version": "3.5.0"
  }
 },
 "nbformat": 4,
 "nbformat_minor": 0
}
