{
 "cells": [
  {
   "cell_type": "code",
   "execution_count": 18,
   "metadata": {
    "collapsed": false
   },
   "outputs": [],
   "source": [
    "import scipy\n",
    "import numpy as np\n",
    "import pandas as pd\n",
    "import seaborn as sns\n",
    "import xgboost as xgb\n",
    "import matplotlib.pyplot as plt\n",
    "from sklearn.preprocessing import LabelEncoder\n",
    "from sklearn.cross_validation import train_test_split\n",
    "%matplotlib inline\n",
    "le = LabelEncoder()"
   ]
  },
  {
   "cell_type": "markdown",
   "metadata": {},
   "source": [
    "The first thing I need to do is import the libraries I will use. The ones I use most are pandas and XGBoost. Pandas reads in the files and converts them into a dataframe, while XGBoost is what I use to write my predictions program"
   ]
  },
  {
   "cell_type": "code",
   "execution_count": 21,
   "metadata": {
    "collapsed": false
   },
   "outputs": [],
   "source": [
    "test = pd.read_csv('SF_crime/test.csv', index_col='Id')\n",
    "test = test.rename(columns={'X': 'Longitude', \"Y\": \"Latitude\"})\n",
    "test.Dates = pd.to_datetime(test.Dates)\n",
    "test['month'] = test.Dates.dt.month\n",
    "test['time'] = test.Dates.dt.time\n",
    "test['day'] = test.Dates.dt.day\n",
    "test['year'] = test.Dates.dt.year\n",
    "test = test.drop(['Dates'], axis=1)\n",
    "\n",
    "crime_in_sf = pd.read_csv('SF_crime/train.csv')\n",
    "crime_in_sf.Dates = pd.to_datetime(crime_in_sf.Dates)\n",
    "crime_in_sf = crime_in_sf.rename(columns={'X': 'Longitude', \"Y\": \"Latitude\",})\n",
    "crime_in_sf = crime_in_sf.drop(['Resolution', 'Descript'], axis=1)\n",
    "crime_in_sf['month'] = crime_in_sf.Dates.dt.month\n",
    "crime_in_sf['time'] = crime_in_sf.Dates.dt.time\n",
    "crime_in_sf['day'] = crime_in_sf.Dates.dt.day\n",
    "crime_in_sf['year'] = crime_in_sf.Dates.dt.year\n",
    "crime_in_sf = crime_in_sf.drop(['Dates'], axis=1)\n",
    "crime_train, crime_test = train_test_split(crime_in_sf, test_size=.4)"
   ]
  },
  {
   "cell_type": "markdown",
   "metadata": {},
   "source": [
    "The next thing I have to do is read in all the files and make any corrections to them so I can make them more readable. I change some column names (X and Y) so that they are easier to read and convert the Dates column to a datetime format so I can pull out individual years or days if I need too. I also drop two columns off of the training data as they don't influence my predictions."
   ]
  },
  {
   "cell_type": "code",
   "execution_count": 23,
   "metadata": {
    "collapsed": false
   },
   "outputs": [
    {
     "name": "stderr",
     "output_type": "stream",
     "text": [
      "/Users/MatthewBarnette/final_project_2/.direnv/python-3.5.0/lib/python3.5/site-packages/ipykernel/__main__.py:9: SettingWithCopyWarning: \n",
      "A value is trying to be set on a copy of a slice from a DataFrame.\n",
      "Try using .loc[row_indexer,col_indexer] = value instead\n",
      "\n",
      "See the caveats in the documentation: http://pandas.pydata.org/pandas-docs/stable/indexing.html#indexing-view-versus-copy\n",
      "/Users/MatthewBarnette/final_project_2/.direnv/python-3.5.0/lib/python3.5/site-packages/ipykernel/__main__.py:14: SettingWithCopyWarning: \n",
      "A value is trying to be set on a copy of a slice from a DataFrame.\n",
      "Try using .loc[row_indexer,col_indexer] = value instead\n",
      "\n",
      "See the caveats in the documentation: http://pandas.pydata.org/pandas-docs/stable/indexing.html#indexing-view-versus-copy\n"
     ]
    }
   ],
   "source": [
    "for column in test.columns.values:\n",
    "    if column != 'Longitude' and column != 'Latitude' and column != 'month' and column != 'day' and column != 'year':\n",
    "        le.fit(test[column])\n",
    "        test[column] = le.transform(test[column])\n",
    "\n",
    "for column in crime_in_sf.columns.values:\n",
    "    if column != 'Longitude' and column != 'Latitude' and column != 'month' and column != 'day' and column != 'year':\n",
    "        le.fit(crime_in_sf[column])\n",
    "        crime_train[column] = le.transform(crime_train[column])\n",
    "\n",
    "for column in crime_in_sf.columns.values:\n",
    "    if column != 'Longitude' and column != 'Latitude' and column != 'month' and column != 'day' and column != 'year':\n",
    "        le.fit(crime_in_sf[column])        \n",
    "        crime_test[column] = le.transform(crime_test[column])"
   ]
  },
  {
   "cell_type": "markdown",
   "metadata": {},
   "source": [
    "Here I take the information, except for the latitude and longitude, and convert it from strings into integers. Each one is in a dictionary and stored so that they can be converted back later."
   ]
  },
  {
   "cell_type": "code",
   "execution_count": 24,
   "metadata": {
    "collapsed": false
   },
   "outputs": [],
   "source": [
    "categories = crime_train.Category\n",
    "crime_train = crime_train.drop('Category', axis=1)\n",
    "\n",
    "categories2 = crime_test.Category\n",
    "crime_test = crime_test.drop('Category', axis=1)"
   ]
  },
  {
   "cell_type": "markdown",
   "metadata": {},
   "source": [
    "To properly train my data I needed to make the categories of crimes seperate from the rest of the data."
   ]
  },
  {
   "cell_type": "code",
   "execution_count": 25,
   "metadata": {
    "collapsed": false
   },
   "outputs": [],
   "source": [
    "dtrain = xgb.DMatrix(crime_train.as_matrix(),\n",
    "                     label=categories)\n",
    "dtest = xgb.DMatrix(crime_test.as_matrix(),\n",
    "                    label=categories2)"
   ]
  },
  {
   "cell_type": "markdown",
   "metadata": {},
   "source": [
    "Now that the data is separated it needs to be prepared to be put into the decision tree. The first thing that needs to happen is that the information is converted from a pandas table into a matrix, and the categories need to be added in their own identifier so that the program knows what it's predicting on."
   ]
  },
  {
   "cell_type": "code",
   "execution_count": 26,
   "metadata": {
    "collapsed": false
   },
   "outputs": [],
   "source": [
    "param = {'bst:max_depth':8, 'objective':'multi:softprob', 'num_class':39}\n",
    "param['nthread'] = 6\n",
    "param['eval_metric'] = ['merror', 'mlogloss']\n",
    "evallist  = [(dtrain,'train'), (dtest,'eval')]\n",
    "num_round = 500"
   ]
  },
  {
   "cell_type": "markdown",
   "metadata": {},
   "source": [
    "Lastly I need to tell the program how it's suppose to wrong and what it should use to evaluate the information. I set how large of a tree I want (the max_depth), what I want it to return (softprob), how many categories it should be in. \n",
    "I also set up the evaluation metrics that it would run on."
   ]
  },
  {
   "cell_type": "code",
   "execution_count": 27,
   "metadata": {
    "collapsed": false,
    "scrolled": false
   },
   "outputs": [
    {
     "name": "stderr",
     "output_type": "stream",
     "text": [
      "Will train until eval error hasn't decreased in 3 rounds.\n",
      "Multiple eval metrics have been passed: 'mlogloss' will be used for early stopping.\n",
      "\n",
      "[0]\ttrain-merror:0.724996\ttrain-mlogloss:3.040613\teval-merror:0.731670\teval-mlogloss:3.055890\n",
      "[1]\ttrain-merror:0.715950\ttrain-mlogloss:2.846959\teval-merror:0.724321\teval-mlogloss:2.872441\n",
      "[2]\ttrain-merror:0.711039\ttrain-mlogloss:2.721652\teval-merror:0.720862\teval-mlogloss:2.754747\n",
      "[3]\ttrain-merror:0.707190\ttrain-mlogloss:2.629603\teval-merror:0.718521\teval-mlogloss:2.669783\n",
      "[4]\ttrain-merror:0.704069\ttrain-mlogloss:2.558676\teval-merror:0.716810\teval-mlogloss:2.605549\n",
      "[5]\ttrain-merror:0.701843\ttrain-mlogloss:2.504014\teval-merror:0.716004\teval-mlogloss:2.557234\n",
      "[6]\ttrain-merror:0.699299\ttrain-mlogloss:2.457861\teval-merror:0.714771\teval-mlogloss:2.517760\n",
      "[7]\ttrain-merror:0.696993\ttrain-mlogloss:2.420587\teval-merror:0.713749\teval-mlogloss:2.486826\n",
      "[8]\ttrain-merror:0.695322\ttrain-mlogloss:2.390066\teval-merror:0.712892\teval-mlogloss:2.461550\n",
      "[9]\ttrain-merror:0.693424\ttrain-mlogloss:2.361651\teval-merror:0.711551\teval-mlogloss:2.439228\n",
      "[10]\ttrain-merror:0.691426\ttrain-mlogloss:2.337818\teval-merror:0.710688\teval-mlogloss:2.421362\n",
      "[11]\ttrain-merror:0.689979\ttrain-mlogloss:2.317879\teval-merror:0.710250\teval-mlogloss:2.407156\n",
      "[12]\ttrain-merror:0.688052\ttrain-mlogloss:2.299663\teval-merror:0.709558\teval-mlogloss:2.394655\n",
      "[13]\ttrain-merror:0.686456\ttrain-mlogloss:2.283870\teval-merror:0.708880\teval-mlogloss:2.384543\n",
      "[14]\ttrain-merror:0.684638\ttrain-mlogloss:2.268558\teval-merror:0.708055\teval-mlogloss:2.375209\n",
      "[15]\ttrain-merror:0.683294\ttrain-mlogloss:2.255705\teval-merror:0.707696\teval-mlogloss:2.367891\n",
      "[16]\ttrain-merror:0.682014\ttrain-mlogloss:2.244421\teval-merror:0.707275\teval-mlogloss:2.361734\n",
      "[17]\ttrain-merror:0.680473\ttrain-mlogloss:2.232944\teval-merror:0.706460\teval-mlogloss:2.355911\n",
      "[18]\ttrain-merror:0.679076\ttrain-mlogloss:2.222909\teval-merror:0.706156\teval-mlogloss:2.351114\n",
      "[19]\ttrain-merror:0.677759\ttrain-mlogloss:2.212777\teval-merror:0.705692\teval-mlogloss:2.346719\n",
      "[20]\ttrain-merror:0.676347\ttrain-mlogloss:2.203911\teval-merror:0.705336\teval-mlogloss:2.342862\n",
      "[21]\ttrain-merror:0.674893\ttrain-mlogloss:2.195056\teval-merror:0.704846\teval-mlogloss:2.339137\n",
      "[22]\ttrain-merror:0.673754\ttrain-mlogloss:2.187325\teval-merror:0.704524\teval-mlogloss:2.335826\n",
      "[23]\ttrain-merror:0.672364\ttrain-mlogloss:2.179434\teval-merror:0.704137\teval-mlogloss:2.333028\n",
      "[24]\ttrain-merror:0.670436\ttrain-mlogloss:2.171795\teval-merror:0.703605\teval-mlogloss:2.330048\n",
      "[25]\ttrain-merror:0.669192\ttrain-mlogloss:2.165002\teval-merror:0.703027\teval-mlogloss:2.327676\n",
      "[26]\ttrain-merror:0.667883\ttrain-mlogloss:2.158813\teval-merror:0.702543\teval-mlogloss:2.325890\n",
      "[27]\ttrain-merror:0.666338\ttrain-mlogloss:2.151599\teval-merror:0.702121\teval-mlogloss:2.323725\n",
      "[28]\ttrain-merror:0.664536\ttrain-mlogloss:2.144169\teval-merror:0.701757\teval-mlogloss:2.321411\n",
      "[29]\ttrain-merror:0.663192\ttrain-mlogloss:2.137783\teval-merror:0.701475\teval-mlogloss:2.319479\n",
      "[30]\ttrain-merror:0.661558\ttrain-mlogloss:2.131100\teval-merror:0.700951\teval-mlogloss:2.317743\n",
      "[31]\ttrain-merror:0.659700\ttrain-mlogloss:2.124619\teval-merror:0.700214\teval-mlogloss:2.315615\n",
      "[32]\ttrain-merror:0.658679\ttrain-mlogloss:2.119339\teval-merror:0.699920\teval-mlogloss:2.314292\n",
      "[33]\ttrain-merror:0.657654\ttrain-mlogloss:2.114540\teval-merror:0.699664\teval-mlogloss:2.313240\n",
      "[34]\ttrain-merror:0.656389\ttrain-mlogloss:2.109479\teval-merror:0.699382\teval-mlogloss:2.312270\n",
      "[35]\ttrain-merror:0.655192\ttrain-mlogloss:2.104380\teval-merror:0.699018\teval-mlogloss:2.310948\n",
      "[36]\ttrain-merror:0.654210\ttrain-mlogloss:2.099563\teval-merror:0.698707\teval-mlogloss:2.309911\n",
      "[37]\ttrain-merror:0.653165\ttrain-mlogloss:2.095345\teval-merror:0.698682\teval-mlogloss:2.309107\n",
      "[38]\ttrain-merror:0.651754\ttrain-mlogloss:2.090770\teval-merror:0.698480\teval-mlogloss:2.308278\n",
      "[39]\ttrain-merror:0.650370\ttrain-mlogloss:2.085224\teval-merror:0.698081\teval-mlogloss:2.306760\n",
      "[40]\ttrain-merror:0.649214\ttrain-mlogloss:2.080887\teval-merror:0.697725\teval-mlogloss:2.305904\n",
      "[41]\ttrain-merror:0.648015\ttrain-mlogloss:2.076130\teval-merror:0.697301\teval-mlogloss:2.304705\n",
      "[42]\ttrain-merror:0.646882\ttrain-mlogloss:2.071951\teval-merror:0.697005\teval-mlogloss:2.303750\n",
      "[43]\ttrain-merror:0.645686\ttrain-mlogloss:2.067613\teval-merror:0.696709\teval-mlogloss:2.302953\n",
      "[44]\ttrain-merror:0.644004\ttrain-mlogloss:2.062262\teval-merror:0.696105\teval-mlogloss:2.301455\n",
      "[45]\ttrain-merror:0.642527\ttrain-mlogloss:2.057604\teval-merror:0.696065\teval-mlogloss:2.300658\n",
      "[46]\ttrain-merror:0.641438\ttrain-mlogloss:2.054060\teval-merror:0.695749\teval-mlogloss:2.299820\n",
      "[47]\ttrain-merror:0.640441\ttrain-mlogloss:2.050546\teval-merror:0.695641\teval-mlogloss:2.299427\n",
      "[48]\ttrain-merror:0.639395\ttrain-mlogloss:2.046335\teval-merror:0.695575\teval-mlogloss:2.298767\n",
      "[49]\ttrain-merror:0.638200\ttrain-mlogloss:2.042203\teval-merror:0.695376\teval-mlogloss:2.298171\n",
      "[50]\ttrain-merror:0.637097\ttrain-mlogloss:2.037849\teval-merror:0.695222\teval-mlogloss:2.297633\n",
      "[51]\ttrain-merror:0.636203\ttrain-mlogloss:2.033749\teval-merror:0.695066\teval-mlogloss:2.297032\n",
      "[52]\ttrain-merror:0.635314\ttrain-mlogloss:2.029798\teval-merror:0.694790\teval-mlogloss:2.296356\n",
      "[53]\ttrain-merror:0.634120\ttrain-mlogloss:2.025882\teval-merror:0.694562\teval-mlogloss:2.295718\n",
      "[54]\ttrain-merror:0.633188\ttrain-mlogloss:2.021690\teval-merror:0.694337\teval-mlogloss:2.295069\n",
      "[55]\ttrain-merror:0.632010\ttrain-mlogloss:2.017922\teval-merror:0.694012\teval-mlogloss:2.294431\n",
      "[56]\ttrain-merror:0.630531\ttrain-mlogloss:2.013296\teval-merror:0.693807\teval-mlogloss:2.293670\n",
      "[57]\ttrain-merror:0.629517\ttrain-mlogloss:2.010154\teval-merror:0.693582\teval-mlogloss:2.293194\n",
      "[58]\ttrain-merror:0.628396\ttrain-mlogloss:2.006262\teval-merror:0.693363\teval-mlogloss:2.292738\n",
      "[59]\ttrain-merror:0.627583\ttrain-mlogloss:2.002896\teval-merror:0.693320\teval-mlogloss:2.292487\n",
      "[60]\ttrain-merror:0.626442\ttrain-mlogloss:1.999535\teval-merror:0.693138\teval-mlogloss:2.292161\n",
      "[61]\ttrain-merror:0.625326\ttrain-mlogloss:1.995870\teval-merror:0.692814\teval-mlogloss:2.291659\n",
      "[62]\ttrain-merror:0.624309\ttrain-mlogloss:1.992046\teval-merror:0.692816\teval-mlogloss:2.291360\n",
      "[63]\ttrain-merror:0.623086\ttrain-mlogloss:1.988018\teval-merror:0.692586\teval-mlogloss:2.290840\n",
      "[64]\ttrain-merror:0.621993\ttrain-mlogloss:1.984697\teval-merror:0.692478\teval-mlogloss:2.290521\n",
      "[65]\ttrain-merror:0.621095\ttrain-mlogloss:1.981152\teval-merror:0.692481\teval-mlogloss:2.290164\n",
      "[66]\ttrain-merror:0.620177\ttrain-mlogloss:1.977268\teval-merror:0.692426\teval-mlogloss:2.289776\n",
      "[67]\ttrain-merror:0.619322\ttrain-mlogloss:1.974007\teval-merror:0.692216\teval-mlogloss:2.289263\n",
      "[68]\ttrain-merror:0.617891\ttrain-mlogloss:1.969788\teval-merror:0.691854\teval-mlogloss:2.288544\n",
      "[69]\ttrain-merror:0.616667\ttrain-mlogloss:1.966241\teval-merror:0.691478\teval-mlogloss:2.288118\n",
      "[70]\ttrain-merror:0.615632\ttrain-mlogloss:1.963078\teval-merror:0.691356\teval-mlogloss:2.287698\n",
      "[71]\ttrain-merror:0.614619\ttrain-mlogloss:1.959704\teval-merror:0.691273\teval-mlogloss:2.287335\n",
      "[72]\ttrain-merror:0.613736\ttrain-mlogloss:1.956212\teval-merror:0.691074\teval-mlogloss:2.287094\n",
      "[73]\ttrain-merror:0.612762\ttrain-mlogloss:1.952811\teval-merror:0.691105\teval-mlogloss:2.286978\n",
      "[74]\ttrain-merror:0.611637\ttrain-mlogloss:1.949507\teval-merror:0.690991\teval-mlogloss:2.286624\n",
      "[75]\ttrain-merror:0.610350\ttrain-mlogloss:1.946128\teval-merror:0.690675\teval-mlogloss:2.286249\n",
      "[76]\ttrain-merror:0.609177\ttrain-mlogloss:1.942518\teval-merror:0.690630\teval-mlogloss:2.285800\n",
      "[77]\ttrain-merror:0.608097\ttrain-mlogloss:1.938900\teval-merror:0.690371\teval-mlogloss:2.285567\n",
      "[78]\ttrain-merror:0.607343\ttrain-mlogloss:1.935931\teval-merror:0.690351\teval-mlogloss:2.285308\n",
      "[79]\ttrain-merror:0.606510\ttrain-mlogloss:1.932688\teval-merror:0.690143\teval-mlogloss:2.285046\n",
      "[80]\ttrain-merror:0.605489\ttrain-mlogloss:1.928718\teval-merror:0.690029\teval-mlogloss:2.284635\n",
      "[81]\ttrain-merror:0.604234\ttrain-mlogloss:1.924797\teval-merror:0.689927\teval-mlogloss:2.284233\n",
      "[82]\ttrain-merror:0.603313\ttrain-mlogloss:1.921522\teval-merror:0.689793\teval-mlogloss:2.284005\n",
      "[83]\ttrain-merror:0.602340\ttrain-mlogloss:1.918359\teval-merror:0.689673\teval-mlogloss:2.283674\n",
      "[84]\ttrain-merror:0.601225\ttrain-mlogloss:1.914653\teval-merror:0.689531\teval-mlogloss:2.283267\n",
      "[85]\ttrain-merror:0.600269\ttrain-mlogloss:1.911409\teval-merror:0.689471\teval-mlogloss:2.282951\n",
      "[86]\ttrain-merror:0.599295\ttrain-mlogloss:1.908289\teval-merror:0.689440\teval-mlogloss:2.282753\n",
      "[87]\ttrain-merror:0.598335\ttrain-mlogloss:1.905087\teval-merror:0.689155\teval-mlogloss:2.282377\n",
      "[88]\ttrain-merror:0.597368\ttrain-mlogloss:1.901897\teval-merror:0.689007\teval-mlogloss:2.282224\n",
      "[89]\ttrain-merror:0.596605\ttrain-mlogloss:1.899363\teval-merror:0.689024\teval-mlogloss:2.282117\n",
      "[90]\ttrain-merror:0.595556\ttrain-mlogloss:1.896352\teval-merror:0.688936\teval-mlogloss:2.281902\n",
      "[91]\ttrain-merror:0.594760\ttrain-mlogloss:1.893749\teval-merror:0.688978\teval-mlogloss:2.281769\n",
      "[92]\ttrain-merror:0.593500\ttrain-mlogloss:1.890285\teval-merror:0.688768\teval-mlogloss:2.281550\n",
      "[93]\ttrain-merror:0.592562\ttrain-mlogloss:1.887317\teval-merror:0.688685\teval-mlogloss:2.281396\n",
      "[94]\ttrain-merror:0.591463\ttrain-mlogloss:1.883741\teval-merror:0.688745\teval-mlogloss:2.281111\n",
      "[95]\ttrain-merror:0.590256\ttrain-mlogloss:1.880368\teval-merror:0.688440\teval-mlogloss:2.280796\n",
      "[96]\ttrain-merror:0.589514\ttrain-mlogloss:1.877950\teval-merror:0.688457\teval-mlogloss:2.280725\n",
      "[97]\ttrain-merror:0.588531\ttrain-mlogloss:1.874237\teval-merror:0.688437\teval-mlogloss:2.280430\n",
      "[98]\ttrain-merror:0.587470\ttrain-mlogloss:1.871151\teval-merror:0.688341\teval-mlogloss:2.280191\n",
      "[99]\ttrain-merror:0.586524\ttrain-mlogloss:1.868140\teval-merror:0.688201\teval-mlogloss:2.280051\n",
      "[100]\ttrain-merror:0.585575\ttrain-mlogloss:1.865560\teval-merror:0.688204\teval-mlogloss:2.280075\n",
      "[101]\ttrain-merror:0.584696\ttrain-mlogloss:1.862642\teval-merror:0.688113\teval-mlogloss:2.279829\n",
      "[102]\ttrain-merror:0.583742\ttrain-mlogloss:1.859487\teval-merror:0.687851\teval-mlogloss:2.279657\n",
      "[103]\ttrain-merror:0.582876\ttrain-mlogloss:1.856988\teval-merror:0.687706\teval-mlogloss:2.279602\n",
      "[104]\ttrain-merror:0.581767\ttrain-mlogloss:1.853604\teval-merror:0.687683\teval-mlogloss:2.279436\n",
      "[105]\ttrain-merror:0.580790\ttrain-mlogloss:1.851074\teval-merror:0.687529\teval-mlogloss:2.279349\n",
      "[106]\ttrain-merror:0.579966\ttrain-mlogloss:1.848235\teval-merror:0.687475\teval-mlogloss:2.279198\n",
      "[107]\ttrain-merror:0.579104\ttrain-mlogloss:1.845664\teval-merror:0.687341\teval-mlogloss:2.279113\n",
      "[108]\ttrain-merror:0.578028\ttrain-mlogloss:1.842364\teval-merror:0.687099\teval-mlogloss:2.279015\n",
      "[109]\ttrain-merror:0.577202\ttrain-mlogloss:1.839972\teval-merror:0.687116\teval-mlogloss:2.279033\n",
      "[110]\ttrain-merror:0.576422\ttrain-mlogloss:1.837604\teval-merror:0.687051\teval-mlogloss:2.279057\n",
      "[111]\ttrain-merror:0.575692\ttrain-mlogloss:1.834818\teval-merror:0.687008\teval-mlogloss:2.279075\n",
      "Stopping. Best iteration:\n",
      "[108]\ttrain-merror:0.578028\ttrain-mlogloss:1.842364\teval-merror:0.687099\teval-mlogloss:2.279015\n",
      "\n"
     ]
    }
   ],
   "source": [
    "bst = xgb.train(param, dtrain, num_round, evallist, early_stopping_rounds=3)"
   ]
  },
  {
   "cell_type": "markdown",
   "metadata": {},
   "source": [
    "And here is where the program trains. As you can see the numbers are getting smaller as they go along, showing that it is getting more accurate. This will hopefully give me a better prediction."
   ]
  },
  {
   "cell_type": "code",
   "execution_count": 28,
   "metadata": {
    "collapsed": false
   },
   "outputs": [],
   "source": [
    "predictions = bst.predict(xgb.DMatrix(test.as_matrix()), output_margin=False)"
   ]
  },
  {
   "cell_type": "markdown",
   "metadata": {},
   "source": [
    "Now that the model is trained I convert the data I will actually predict upon into a matrix and run it through the model I just created and it returns it's predictions based off of all the descisions it had to make"
   ]
  },
  {
   "cell_type": "code",
   "execution_count": 29,
   "metadata": {
    "collapsed": false
   },
   "outputs": [],
   "source": [
    "predictions = pd.DataFrame(predictions)"
   ]
  },
  {
   "cell_type": "markdown",
   "metadata": {},
   "source": [
    "I then put those predictions back into a DataFrame. I can easily use that to look over my data and see what it looks like. This is a good time to see if there are any trends or problems that may arise."
   ]
  },
  {
   "cell_type": "code",
   "execution_count": 30,
   "metadata": {
    "collapsed": false
   },
   "outputs": [],
   "source": [
    "le.fit(crime_in_sf.Category)\n",
    "predictions.columns = le.inverse_transform(predictions.columns)"
   ]
  },
  {
   "cell_type": "markdown",
   "metadata": {},
   "source": [
    "I also relabel the information so that it has what the crimes are as opposed to simply numbers from 0-38 so that I know what the crimes that it is predicting on are"
   ]
  },
  {
   "cell_type": "code",
   "execution_count": 31,
   "metadata": {
    "collapsed": false
   },
   "outputs": [
    {
     "data": {
      "text/html": [
       "<div>\n",
       "<table border=\"1\" class=\"dataframe\">\n",
       "  <thead>\n",
       "    <tr style=\"text-align: right;\">\n",
       "      <th></th>\n",
       "      <th>Category</th>\n",
       "      <th>DayOfWeek</th>\n",
       "      <th>PdDistrict</th>\n",
       "      <th>Address</th>\n",
       "      <th>Longitude</th>\n",
       "      <th>Latitude</th>\n",
       "      <th>month</th>\n",
       "      <th>time</th>\n",
       "      <th>day</th>\n",
       "      <th>year</th>\n",
       "    </tr>\n",
       "  </thead>\n",
       "  <tbody>\n",
       "    <tr>\n",
       "      <th>0</th>\n",
       "      <td>WARRANTS</td>\n",
       "      <td>Wednesday</td>\n",
       "      <td>NORTHERN</td>\n",
       "      <td>OAK ST / LAGUNA ST</td>\n",
       "      <td>-122.425892</td>\n",
       "      <td>37.774599</td>\n",
       "      <td>5</td>\n",
       "      <td>23:53:00</td>\n",
       "      <td>13</td>\n",
       "      <td>2015</td>\n",
       "    </tr>\n",
       "    <tr>\n",
       "      <th>1</th>\n",
       "      <td>OTHER OFFENSES</td>\n",
       "      <td>Wednesday</td>\n",
       "      <td>NORTHERN</td>\n",
       "      <td>OAK ST / LAGUNA ST</td>\n",
       "      <td>-122.425892</td>\n",
       "      <td>37.774599</td>\n",
       "      <td>5</td>\n",
       "      <td>23:53:00</td>\n",
       "      <td>13</td>\n",
       "      <td>2015</td>\n",
       "    </tr>\n",
       "    <tr>\n",
       "      <th>2</th>\n",
       "      <td>OTHER OFFENSES</td>\n",
       "      <td>Wednesday</td>\n",
       "      <td>NORTHERN</td>\n",
       "      <td>VANNESS AV / GREENWICH ST</td>\n",
       "      <td>-122.424363</td>\n",
       "      <td>37.800414</td>\n",
       "      <td>5</td>\n",
       "      <td>23:33:00</td>\n",
       "      <td>13</td>\n",
       "      <td>2015</td>\n",
       "    </tr>\n",
       "    <tr>\n",
       "      <th>3</th>\n",
       "      <td>LARCENY/THEFT</td>\n",
       "      <td>Wednesday</td>\n",
       "      <td>NORTHERN</td>\n",
       "      <td>1500 Block of LOMBARD ST</td>\n",
       "      <td>-122.426995</td>\n",
       "      <td>37.800873</td>\n",
       "      <td>5</td>\n",
       "      <td>23:30:00</td>\n",
       "      <td>13</td>\n",
       "      <td>2015</td>\n",
       "    </tr>\n",
       "    <tr>\n",
       "      <th>4</th>\n",
       "      <td>LARCENY/THEFT</td>\n",
       "      <td>Wednesday</td>\n",
       "      <td>PARK</td>\n",
       "      <td>100 Block of BRODERICK ST</td>\n",
       "      <td>-122.438738</td>\n",
       "      <td>37.771541</td>\n",
       "      <td>5</td>\n",
       "      <td>23:30:00</td>\n",
       "      <td>13</td>\n",
       "      <td>2015</td>\n",
       "    </tr>\n",
       "  </tbody>\n",
       "</table>\n",
       "</div>"
      ],
      "text/plain": [
       "         Category  DayOfWeek PdDistrict                    Address  \\\n",
       "0        WARRANTS  Wednesday   NORTHERN         OAK ST / LAGUNA ST   \n",
       "1  OTHER OFFENSES  Wednesday   NORTHERN         OAK ST / LAGUNA ST   \n",
       "2  OTHER OFFENSES  Wednesday   NORTHERN  VANNESS AV / GREENWICH ST   \n",
       "3   LARCENY/THEFT  Wednesday   NORTHERN   1500 Block of LOMBARD ST   \n",
       "4   LARCENY/THEFT  Wednesday       PARK  100 Block of BRODERICK ST   \n",
       "\n",
       "    Longitude   Latitude  month      time  day  year  \n",
       "0 -122.425892  37.774599      5  23:53:00   13  2015  \n",
       "1 -122.425892  37.774599      5  23:53:00   13  2015  \n",
       "2 -122.424363  37.800414      5  23:33:00   13  2015  \n",
       "3 -122.426995  37.800873      5  23:30:00   13  2015  \n",
       "4 -122.438738  37.771541      5  23:30:00   13  2015  "
      ]
     },
     "execution_count": 31,
     "metadata": {},
     "output_type": "execute_result"
    }
   ],
   "source": [
    "crime_in_sf.head()"
   ]
  },
  {
   "cell_type": "markdown",
   "metadata": {},
   "source": [
    "This is what my data looked like when I fed it into my program"
   ]
  },
  {
   "cell_type": "code",
   "execution_count": 32,
   "metadata": {
    "collapsed": false
   },
   "outputs": [
    {
     "data": {
      "text/html": [
       "<div>\n",
       "<table border=\"1\" class=\"dataframe\">\n",
       "  <thead>\n",
       "    <tr style=\"text-align: right;\">\n",
       "      <th></th>\n",
       "      <th>ARSON</th>\n",
       "      <th>ASSAULT</th>\n",
       "      <th>BAD CHECKS</th>\n",
       "      <th>BRIBERY</th>\n",
       "      <th>BURGLARY</th>\n",
       "      <th>DISORDERLY CONDUCT</th>\n",
       "      <th>DRIVING UNDER THE INFLUENCE</th>\n",
       "      <th>DRUG/NARCOTIC</th>\n",
       "      <th>DRUNKENNESS</th>\n",
       "      <th>EMBEZZLEMENT</th>\n",
       "      <th>...</th>\n",
       "      <th>SEX OFFENSES NON FORCIBLE</th>\n",
       "      <th>STOLEN PROPERTY</th>\n",
       "      <th>SUICIDE</th>\n",
       "      <th>SUSPICIOUS OCC</th>\n",
       "      <th>TREA</th>\n",
       "      <th>TRESPASS</th>\n",
       "      <th>VANDALISM</th>\n",
       "      <th>VEHICLE THEFT</th>\n",
       "      <th>WARRANTS</th>\n",
       "      <th>WEAPON LAWS</th>\n",
       "    </tr>\n",
       "  </thead>\n",
       "  <tbody>\n",
       "    <tr>\n",
       "      <th>0</th>\n",
       "      <td>0.000290</td>\n",
       "      <td>0.043021</td>\n",
       "      <td>0.000005</td>\n",
       "      <td>0.000026</td>\n",
       "      <td>0.022261</td>\n",
       "      <td>0.000956</td>\n",
       "      <td>0.003738</td>\n",
       "      <td>0.003035</td>\n",
       "      <td>0.000676</td>\n",
       "      <td>0.000019</td>\n",
       "      <td>...</td>\n",
       "      <td>0.000001</td>\n",
       "      <td>0.001426</td>\n",
       "      <td>0.000004</td>\n",
       "      <td>0.024306</td>\n",
       "      <td>9.049518e-07</td>\n",
       "      <td>0.007719</td>\n",
       "      <td>0.041120</td>\n",
       "      <td>0.517870</td>\n",
       "      <td>0.017450</td>\n",
       "      <td>0.008010</td>\n",
       "    </tr>\n",
       "    <tr>\n",
       "      <th>1</th>\n",
       "      <td>0.000920</td>\n",
       "      <td>0.089390</td>\n",
       "      <td>0.000003</td>\n",
       "      <td>0.000035</td>\n",
       "      <td>0.003622</td>\n",
       "      <td>0.002782</td>\n",
       "      <td>0.004613</td>\n",
       "      <td>0.013617</td>\n",
       "      <td>0.002355</td>\n",
       "      <td>0.000004</td>\n",
       "      <td>...</td>\n",
       "      <td>0.000003</td>\n",
       "      <td>0.004976</td>\n",
       "      <td>0.000003</td>\n",
       "      <td>0.043104</td>\n",
       "      <td>3.053812e-06</td>\n",
       "      <td>0.001181</td>\n",
       "      <td>0.020824</td>\n",
       "      <td>0.033738</td>\n",
       "      <td>0.056279</td>\n",
       "      <td>0.037096</td>\n",
       "    </tr>\n",
       "    <tr>\n",
       "      <th>2</th>\n",
       "      <td>0.007583</td>\n",
       "      <td>0.087087</td>\n",
       "      <td>0.000049</td>\n",
       "      <td>0.000006</td>\n",
       "      <td>0.052787</td>\n",
       "      <td>0.001341</td>\n",
       "      <td>0.001715</td>\n",
       "      <td>0.043414</td>\n",
       "      <td>0.002997</td>\n",
       "      <td>0.000106</td>\n",
       "      <td>...</td>\n",
       "      <td>0.000002</td>\n",
       "      <td>0.007450</td>\n",
       "      <td>0.000024</td>\n",
       "      <td>0.056168</td>\n",
       "      <td>4.489783e-07</td>\n",
       "      <td>0.002990</td>\n",
       "      <td>0.091619</td>\n",
       "      <td>0.024867</td>\n",
       "      <td>0.024484</td>\n",
       "      <td>0.007925</td>\n",
       "    </tr>\n",
       "    <tr>\n",
       "      <th>3</th>\n",
       "      <td>0.002836</td>\n",
       "      <td>0.307860</td>\n",
       "      <td>0.000006</td>\n",
       "      <td>0.000036</td>\n",
       "      <td>0.017551</td>\n",
       "      <td>0.001852</td>\n",
       "      <td>0.002230</td>\n",
       "      <td>0.013117</td>\n",
       "      <td>0.001102</td>\n",
       "      <td>0.000006</td>\n",
       "      <td>...</td>\n",
       "      <td>0.000008</td>\n",
       "      <td>0.005339</td>\n",
       "      <td>0.000004</td>\n",
       "      <td>0.100644</td>\n",
       "      <td>4.561365e-06</td>\n",
       "      <td>0.007680</td>\n",
       "      <td>0.044388</td>\n",
       "      <td>0.033044</td>\n",
       "      <td>0.022216</td>\n",
       "      <td>0.054130</td>\n",
       "    </tr>\n",
       "    <tr>\n",
       "      <th>4</th>\n",
       "      <td>0.002836</td>\n",
       "      <td>0.307860</td>\n",
       "      <td>0.000006</td>\n",
       "      <td>0.000036</td>\n",
       "      <td>0.017551</td>\n",
       "      <td>0.001852</td>\n",
       "      <td>0.002230</td>\n",
       "      <td>0.013117</td>\n",
       "      <td>0.001102</td>\n",
       "      <td>0.000006</td>\n",
       "      <td>...</td>\n",
       "      <td>0.000008</td>\n",
       "      <td>0.005339</td>\n",
       "      <td>0.000004</td>\n",
       "      <td>0.100644</td>\n",
       "      <td>4.561365e-06</td>\n",
       "      <td>0.007680</td>\n",
       "      <td>0.044388</td>\n",
       "      <td>0.033044</td>\n",
       "      <td>0.022216</td>\n",
       "      <td>0.054130</td>\n",
       "    </tr>\n",
       "  </tbody>\n",
       "</table>\n",
       "<p>5 rows × 39 columns</p>\n",
       "</div>"
      ],
      "text/plain": [
       "      ARSON   ASSAULT  BAD CHECKS   BRIBERY  BURGLARY  DISORDERLY CONDUCT  \\\n",
       "0  0.000290  0.043021    0.000005  0.000026  0.022261            0.000956   \n",
       "1  0.000920  0.089390    0.000003  0.000035  0.003622            0.002782   \n",
       "2  0.007583  0.087087    0.000049  0.000006  0.052787            0.001341   \n",
       "3  0.002836  0.307860    0.000006  0.000036  0.017551            0.001852   \n",
       "4  0.002836  0.307860    0.000006  0.000036  0.017551            0.001852   \n",
       "\n",
       "   DRIVING UNDER THE INFLUENCE  DRUG/NARCOTIC  DRUNKENNESS  EMBEZZLEMENT  \\\n",
       "0                     0.003738       0.003035     0.000676      0.000019   \n",
       "1                     0.004613       0.013617     0.002355      0.000004   \n",
       "2                     0.001715       0.043414     0.002997      0.000106   \n",
       "3                     0.002230       0.013117     0.001102      0.000006   \n",
       "4                     0.002230       0.013117     0.001102      0.000006   \n",
       "\n",
       "      ...       SEX OFFENSES NON FORCIBLE  STOLEN PROPERTY   SUICIDE  \\\n",
       "0     ...                        0.000001         0.001426  0.000004   \n",
       "1     ...                        0.000003         0.004976  0.000003   \n",
       "2     ...                        0.000002         0.007450  0.000024   \n",
       "3     ...                        0.000008         0.005339  0.000004   \n",
       "4     ...                        0.000008         0.005339  0.000004   \n",
       "\n",
       "   SUSPICIOUS OCC          TREA  TRESPASS  VANDALISM  VEHICLE THEFT  WARRANTS  \\\n",
       "0        0.024306  9.049518e-07  0.007719   0.041120       0.517870  0.017450   \n",
       "1        0.043104  3.053812e-06  0.001181   0.020824       0.033738  0.056279   \n",
       "2        0.056168  4.489783e-07  0.002990   0.091619       0.024867  0.024484   \n",
       "3        0.100644  4.561365e-06  0.007680   0.044388       0.033044  0.022216   \n",
       "4        0.100644  4.561365e-06  0.007680   0.044388       0.033044  0.022216   \n",
       "\n",
       "   WEAPON LAWS  \n",
       "0     0.008010  \n",
       "1     0.037096  \n",
       "2     0.007925  \n",
       "3     0.054130  \n",
       "4     0.054130  \n",
       "\n",
       "[5 rows x 39 columns]"
      ]
     },
     "execution_count": 32,
     "metadata": {},
     "output_type": "execute_result"
    }
   ],
   "source": [
    "predictions.head()"
   ]
  },
  {
   "cell_type": "markdown",
   "metadata": {},
   "source": [
    "And this is what my predictions look like. Several categories which numbers to identify them and a probabilities of their likelyhood for each type of crime."
   ]
  },
  {
   "cell_type": "code",
   "execution_count": 33,
   "metadata": {
    "collapsed": true
   },
   "outputs": [],
   "source": [
    "predictions['Id'] = predictions.index\n",
    "\n",
    "def order(frame,var):\n",
    "    varlist =[w for w in frame.columns if w not in var]\n",
    "    frame = frame[var+varlist]\n",
    "    return frame\n",
    "\n",
    "predictions = order(predictions,['Id'])"
   ]
  },
  {
   "cell_type": "markdown",
   "metadata": {},
   "source": [
    "I used a small definition here to add an ID column and put it on the front of my data so that it could be easily identified for the competition, and then I simply run the panel below and create a file which I can submit."
   ]
  }
 ],
 "metadata": {
  "kernelspec": {
   "display_name": "Python 3",
   "language": "python",
   "name": "python3"
  },
  "language_info": {
   "codemirror_mode": {
    "name": "ipython",
    "version": 3
   },
   "file_extension": ".py",
   "mimetype": "text/x-python",
   "name": "python",
   "nbconvert_exporter": "python",
   "pygments_lexer": "ipython3",
   "version": "3.5.0"
  }
 },
 "nbformat": 4,
 "nbformat_minor": 0
}
