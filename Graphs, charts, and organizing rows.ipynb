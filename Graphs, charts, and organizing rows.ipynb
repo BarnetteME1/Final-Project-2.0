{
 "cells": [
  {
   "cell_type": "code",
   "execution_count": 1,
   "metadata": {
    "collapsed": false
   },
   "outputs": [
    {
     "name": "stderr",
     "output_type": "stream",
     "text": [
      "/Users/MatthewBarnette/final_project_2/.direnv/python-3.5.0/lib/python3.5/site-packages/matplotlib/__init__.py:872: UserWarning: axes.color_cycle is deprecated and replaced with axes.prop_cycle; please use the latter.\n",
      "  warnings.warn(self.msg_depr % (key, alt_key))\n"
     ]
    }
   ],
   "source": [
    "import pandas as pd\n",
    "import numpy as np\n",
    "import seaborn\n",
    "import matplotlib.pyplot as plt\n",
    "% matplotlib inline"
   ]
  },
  {
   "cell_type": "code",
   "execution_count": 61,
   "metadata": {
    "collapsed": false
   },
   "outputs": [],
   "source": [
    "crime_in_sf = pd.read_csv('SF_crime/train.csv')\n",
    "crime_in_sf.Dates = pd.to_datetime(crime_in_sf.Dates)\n",
    "\n",
    "test_pred = pd.read_csv('/Users/MatthewBarnette/final_project_predictions/test_results_top_three.csv')\n",
    "test_pred.Dates = pd.to_datetime(test_pred.Dates)"
   ]
  },
  {
   "cell_type": "markdown",
   "metadata": {
    "collapsed": false
   },
   "source": [
    "test_pred_500000_dec = test_pred.sort('Dates', ascending=False).head(500000)\n",
    "test_pred_500000_asc = test_pred.sort('Dates').head(500000)"
   ]
  },
  {
   "cell_type": "markdown",
   "metadata": {
    "collapsed": false
   },
   "source": [
    "test_pred_500000_asc.to_csv('/Users/MatthewBarnette/final_project_predictions/500000_asc.csv')\n",
    "test_pred_500000_dec.to_csv('/Users/MatthewBarnette/final_project_predictions/500000_dec.csv')"
   ]
  },
  {
   "cell_type": "code",
   "execution_count": 3,
   "metadata": {
    "collapsed": false
   },
   "outputs": [],
   "source": [
    "category = crime_in_sf.Category"
   ]
  },
  {
   "cell_type": "code",
   "execution_count": 4,
   "metadata": {
    "collapsed": true
   },
   "outputs": [],
   "source": [
    "catagory_df = pd.DataFrame(category)"
   ]
  },
  {
   "cell_type": "code",
   "execution_count": 65,
   "metadata": {
    "collapsed": true
   },
   "outputs": [],
   "source": [
    "sex_crimes = ['PROSTITUTION', 'SEX OFFENSES NON FORCIBLE', 'SEX OFFENSES FORCIBLE', 'PORNOGRAPHY/OBSCENE MAT']\n",
    "theft = ['VEHICLE THEFT', 'BURGLARY', 'ROBBERY', 'STOLEN PROPERTY', 'RECOVERED VEHICLE']\n",
    "misc_lesser = ['WARRANTS', 'NON-CRIMINAL', 'SECONDARY CODES', 'TRESPASS', 'FAMILY OFFENSES', \n",
    "               'LOITERING', 'TREA', 'VANDALISM']\n",
    "most_crimes = ['LARCENY/THEFT', 'OTHER OFFENSES']\n",
    "violent = ['ASSAULT', 'WEAPON LAWS', 'ARSON', 'SUICIDE']\n",
    "controlled_substances_alchohol = ['DRUNKENNESS', 'LIQUOR LAWS', 'DISORDERLY CONDUCT', 'DRUG/NARCOTIC', 'DRIVING UNDER THE INFLUENCE']\n",
    "missing = ['MISSING PERSON', 'KIDNAPPING', 'RUNAWAY']\n",
    "financial = ['FORGERY/COUNTERFEITING', 'BRIBERY', 'EMBEZZLEMENT', 'EXTORTION', 'GAMBLING', 'FRAUD', 'SUSPICIOUS OCC', 'BAD CHECKS']"
   ]
  },
  {
   "cell_type": "markdown",
   "metadata": {
    "collapsed": true
   },
   "source": [
    "TREA = 'Trespassing or loitering near posted industrial property'"
   ]
  },
  {
   "cell_type": "code",
   "execution_count": 66,
   "metadata": {
    "collapsed": true
   },
   "outputs": [],
   "source": [
    "test_pred_sex_crimes = test_pred[test_pred['most_likely'].isin(sex_crimes)]\n",
    "test_pred_theft = test_pred[test_pred['most_likely'].isin(theft)]\n",
    "test_pred_misc_lesser = test_pred[test_pred['most_likely'].isin(misc_lesser)]\n",
    "test_pred_violent = test_pred[test_pred['most_likely'].isin(violent)]\n",
    "test_pred_other_offenses = test_pred[test_pred['most_likely'].isin(most_crimes)]\n",
    "test_pred_controlled_substances_alchohol = test_pred[test_pred['most_likely'].isin(controlled_substances_alchohol)]\n",
    "test_pred_missing = test_pred[test_pred['most_likely'].isin(missing)]\n",
    "test_pred_financial = test_pred[test_pred['most_likely'].isin(financial)]"
   ]
  },
  {
   "cell_type": "code",
   "execution_count": 7,
   "metadata": {
    "collapsed": false
   },
   "outputs": [],
   "source": [
    "test_pred = test_pred.drop(['PdDistrict','Address', 'Longitude', 'Latitude'], axis=1)\n",
    "test_pred_use = test_pred.drop(['Dates', 'highest_probability', 'second_most_likely', 'second_hightest_prob', 'third_most_likely', 'third_highest_prob'], axis=1)\n",
    "test_pred_use['count'] = 1"
   ]
  },
  {
   "cell_type": "code",
   "execution_count": 8,
   "metadata": {
    "collapsed": false
   },
   "outputs": [],
   "source": [
    "test_pred_2015 = test_pred[test_pred.Dates.dt.year == 2015]\n",
    "test_pred_2014 = test_pred[test_pred.Dates.dt.year == 2014]\n",
    "test_pred_2013 = test_pred[test_pred.Dates.dt.year == 2013]\n",
    "test_pred_2012 = test_pred[test_pred.Dates.dt.year == 2012]\n",
    "test_pred_2011 = test_pred[test_pred.Dates.dt.year == 2011]\n",
    "test_pred_2010 = test_pred[test_pred.Dates.dt.year == 2010]\n",
    "test_pred_2009 = test_pred[test_pred.Dates.dt.year == 2009]\n",
    "test_pred_2008 = test_pred[test_pred.Dates.dt.year == 2008]\n",
    "test_pred_2007 = test_pred[test_pred.Dates.dt.year == 2007]\n",
    "test_pred_2006 = test_pred[test_pred.Dates.dt.year == 2006]\n",
    "test_pred_2005 = test_pred[test_pred.Dates.dt.year == 2005]\n",
    "test_pred_2004 = test_pred[test_pred.Dates.dt.year == 2004]\n",
    "test_pred_2003 = test_pred[test_pred.Dates.dt.year == 2003]"
   ]
  },
  {
   "cell_type": "code",
   "execution_count": 9,
   "metadata": {
    "collapsed": true
   },
   "outputs": [],
   "source": [
    "test_pred_mon = test_pred[test_pred.DayOfWeek == 'Monday']\n",
    "test_pred_tue = test_pred[test_pred.DayOfWeek == 'Tuesday']\n",
    "test_pred_wed = test_pred[test_pred.DayOfWeek == 'Wednesday']\n",
    "test_pred_thu = test_pred[test_pred.DayOfWeek == 'Thursday']\n",
    "test_pred_fri = test_pred[test_pred.DayOfWeek == 'Friday']\n",
    "test_pred_sat = test_pred[test_pred.DayOfWeek == 'Saturday']\n",
    "test_pred_sun = test_pred[test_pred.DayOfWeek == 'Sunday']"
   ]
  },
  {
   "cell_type": "code",
   "execution_count": 10,
   "metadata": {
    "collapsed": true
   },
   "outputs": [],
   "source": [
    "test_pred_jan = test_pred[test_pred.Dates.dt.month == 1]\n",
    "test_pred_feb = test_pred[test_pred.Dates.dt.month == 2]\n",
    "test_pred_mar = test_pred[test_pred.Dates.dt.month == 3]\n",
    "test_pred_apr = test_pred[test_pred.Dates.dt.month == 4]\n",
    "test_pred_may = test_pred[test_pred.Dates.dt.month == 5]\n",
    "test_pred_jun = test_pred[test_pred.Dates.dt.month == 6]\n",
    "test_pred_jul = test_pred[test_pred.Dates.dt.month == 7]\n",
    "test_pred_aug = test_pred[test_pred.Dates.dt.month == 8]\n",
    "test_pred_sep = test_pred[test_pred.Dates.dt.month == 9]\n",
    "test_pred_oct = test_pred[test_pred.Dates.dt.month == 10]\n",
    "test_pred_nov = test_pred[test_pred.Dates.dt.month == 11]\n",
    "test_pred_dec = test_pred[test_pred.Dates.dt.month == 12]"
   ]
  },
  {
   "cell_type": "code",
   "execution_count": 11,
   "metadata": {
    "collapsed": true
   },
   "outputs": [],
   "source": [
    "test_pred_0 = test_pred[test_pred.Dates.dt.hour == 0]\n",
    "test_pred_1 = test_pred[test_pred.Dates.dt.hour == 1]\n",
    "test_pred_2 = test_pred[test_pred.Dates.dt.hour == 2]\n",
    "test_pred_3 = test_pred[test_pred.Dates.dt.hour == 3]\n",
    "test_pred_4 = test_pred[test_pred.Dates.dt.hour == 4]\n",
    "test_pred_5 = test_pred[test_pred.Dates.dt.hour == 5]\n",
    "test_pred_6 = test_pred[test_pred.Dates.dt.hour == 6]\n",
    "test_pred_7 = test_pred[test_pred.Dates.dt.hour == 7]\n",
    "test_pred_8 = test_pred[test_pred.Dates.dt.hour == 8]\n",
    "test_pred_9 = test_pred[test_pred.Dates.dt.hour == 9]\n",
    "test_pred_10 = test_pred[test_pred.Dates.dt.hour == 10]\n",
    "test_pred_11 = test_pred[test_pred.Dates.dt.hour == 11]\n",
    "test_pred_12 = test_pred[test_pred.Dates.dt.hour == 12]\n",
    "test_pred_13 = test_pred[test_pred.Dates.dt.hour == 13]\n",
    "test_pred_14 = test_pred[test_pred.Dates.dt.hour == 14]\n",
    "test_pred_15 = test_pred[test_pred.Dates.dt.hour == 15]\n",
    "test_pred_16 = test_pred[test_pred.Dates.dt.hour == 16]\n",
    "test_pred_17 = test_pred[test_pred.Dates.dt.hour == 17]\n",
    "test_pred_18 = test_pred[test_pred.Dates.dt.hour == 18]\n",
    "test_pred_19 = test_pred[test_pred.Dates.dt.hour == 19]\n",
    "test_pred_20 = test_pred[test_pred.Dates.dt.hour == 20]\n",
    "test_pred_21 = test_pred[test_pred.Dates.dt.hour == 21]\n",
    "test_pred_22 = test_pred[test_pred.Dates.dt.hour == 22]\n",
    "test_pred_23 = test_pred[test_pred.Dates.dt.hour == 23]"
   ]
  },
  {
   "cell_type": "code",
   "execution_count": 12,
   "metadata": {
    "collapsed": false
   },
   "outputs": [],
   "source": [
    "test_pred_mar = test_pred_mar.drop(['DayOfWeek', 'Dates', 'highest_probability', 'second_most_likely', 'second_hightest_prob', 'third_most_likely', 'third_highest_prob'], axis=1)\n",
    "test_pred_mar = pd.DataFrame((pd.get_dummies(test_pred_mar, columns = ['most_likely'], prefix='',prefix_sep='')).sum())\n",
    "test_pred_mar = test_pred_mar.rename(columns={0:'March'})\n",
    "\n",
    "test_pred_apr = test_pred_apr.drop(['DayOfWeek', 'Dates', 'highest_probability', 'second_most_likely', 'second_hightest_prob', 'third_most_likely', 'third_highest_prob'], axis=1)\n",
    "test_pred_apr = pd.DataFrame((pd.get_dummies(test_pred_apr, columns = ['most_likely'], prefix='',prefix_sep='')).sum())\n",
    "test_pred_apr = test_pred_apr.rename(columns={0:'April'})\n",
    "\n",
    "test_pred_may = test_pred_may.drop(['DayOfWeek', 'Dates', 'highest_probability', 'second_most_likely', 'second_hightest_prob', 'third_most_likely', 'third_highest_prob'], axis=1)\n",
    "test_pred_may = pd.DataFrame((pd.get_dummies(test_pred_may, columns = ['most_likely'], prefix='',prefix_sep='')).sum())\n",
    "test_pred_may = test_pred_may.rename(columns={0:'May'})\n",
    "\n",
    "test_pred_spr = test_pred_mar.join(test_pred_apr).join(test_pred_may)\n",
    "test_pred_spr = test_pred_spr.fillna(0)"
   ]
  },
  {
   "cell_type": "code",
   "execution_count": 13,
   "metadata": {
    "collapsed": true
   },
   "outputs": [],
   "source": [
    "test_pred_jun = test_pred_jun.drop(['DayOfWeek', 'Dates', 'highest_probability', 'second_most_likely', 'second_hightest_prob', 'third_most_likely', 'third_highest_prob'], axis=1)\n",
    "test_pred_jun = pd.DataFrame((pd.get_dummies(test_pred_jun, columns = ['most_likely'], prefix='',prefix_sep='')).sum())\n",
    "test_pred_jun = test_pred_jun.rename(columns={0:'June'})\n",
    "\n",
    "test_pred_jul = test_pred_jul.drop(['DayOfWeek', 'Dates', 'highest_probability', 'second_most_likely', 'second_hightest_prob', 'third_most_likely', 'third_highest_prob'], axis=1)\n",
    "test_pred_jul = pd.DataFrame((pd.get_dummies(test_pred_jul, columns = ['most_likely'], prefix='',prefix_sep='')).sum())\n",
    "test_pred_jul = test_pred_jul.rename(columns={0:'July'})\n",
    "\n",
    "test_pred_aug = test_pred_aug.drop(['DayOfWeek', 'Dates', 'highest_probability', 'second_most_likely', 'second_hightest_prob', 'third_most_likely', 'third_highest_prob'], axis=1)\n",
    "test_pred_aug = pd.DataFrame((pd.get_dummies(test_pred_aug, columns = ['most_likely'], prefix='',prefix_sep='')).sum())\n",
    "test_pred_aug = test_pred_aug.rename(columns={0:'August'})\n",
    "\n",
    "test_pred_sum = test_pred_jun.join(test_pred_jul).join(test_pred_aug)\n",
    "test_pred_sum = test_pred_sum.fillna(0)"
   ]
  },
  {
   "cell_type": "code",
   "execution_count": 14,
   "metadata": {
    "collapsed": true
   },
   "outputs": [],
   "source": [
    "test_pred_sep = test_pred_sep.drop(['DayOfWeek', 'Dates', 'highest_probability', 'second_most_likely', 'second_hightest_prob', 'third_most_likely', 'third_highest_prob'], axis=1)\n",
    "test_pred_sep = pd.DataFrame((pd.get_dummies(test_pred_sep, columns = ['most_likely'], prefix='',prefix_sep='')).sum())\n",
    "test_pred_sep = test_pred_sep.rename(columns={0:'September'})\n",
    "\n",
    "test_pred_oct = test_pred_oct.drop(['DayOfWeek', 'Dates', 'highest_probability', 'second_most_likely', 'second_hightest_prob', 'third_most_likely', 'third_highest_prob'], axis=1)\n",
    "test_pred_oct = pd.DataFrame((pd.get_dummies(test_pred_oct, columns = ['most_likely'], prefix='',prefix_sep='')).sum())\n",
    "test_pred_oct = test_pred_oct.rename(columns={0:'October'})\n",
    "\n",
    "test_pred_nov = test_pred_nov.drop(['DayOfWeek', 'Dates', 'highest_probability', 'second_most_likely', 'second_hightest_prob', 'third_most_likely', 'third_highest_prob'], axis=1)\n",
    "test_pred_nov = pd.DataFrame((pd.get_dummies(test_pred_nov, columns = ['most_likely'], prefix='',prefix_sep='')).sum())\n",
    "test_pred_nov = test_pred_nov.rename(columns={0:'November'})\n",
    "\n",
    "test_pred_fall = test_pred_sep.join(test_pred_oct).join(test_pred_nov)\n",
    "test_pred_fall = test_pred_fall.fillna(0)"
   ]
  },
  {
   "cell_type": "code",
   "execution_count": 15,
   "metadata": {
    "collapsed": false
   },
   "outputs": [],
   "source": [
    "test_pred_dec = test_pred_dec.drop(['DayOfWeek', 'Dates', 'highest_probability', 'second_most_likely', 'second_hightest_prob', 'third_most_likely', 'third_highest_prob'], axis=1)\n",
    "test_pred_dec = pd.DataFrame((pd.get_dummies(test_pred_dec, columns = ['most_likely'], prefix='',prefix_sep='')).sum())\n",
    "test_pred_dec = test_pred_dec.rename(columns={0:'December'})\n",
    "\n",
    "test_pred_jan = test_pred_jan.drop(['DayOfWeek', 'Dates', 'highest_probability', 'second_most_likely', 'second_hightest_prob', 'third_most_likely', 'third_highest_prob'], axis=1)\n",
    "test_pred_jan = pd.DataFrame((pd.get_dummies(test_pred_jan, columns = ['most_likely'], prefix='',prefix_sep='')).sum())\n",
    "test_pred_jan = test_pred_jan.rename(columns={0:'January'})\n",
    "\n",
    "test_pred_feb = test_pred_feb.drop(['DayOfWeek', 'Dates', 'highest_probability', 'second_most_likely', 'second_hightest_prob', 'third_most_likely', 'third_highest_prob'], axis=1)\n",
    "test_pred_feb = pd.DataFrame((pd.get_dummies(test_pred_feb, columns = ['most_likely'], prefix='',prefix_sep='')).sum())\n",
    "test_pred_feb = test_pred_feb.rename(columns={0:'February'})\n",
    "\n",
    "test_pred_win = test_pred_dec.join(test_pred_jan).join(test_pred_feb)\n",
    "test_pred_win = test_pred_win.fillna(0)"
   ]
  },
  {
   "cell_type": "code",
   "execution_count": 16,
   "metadata": {
    "collapsed": false
   },
   "outputs": [],
   "source": [
    "spring = pd.DataFrame(test_pred_spr.T.sum())\n",
    "spring = spring.rename(columns={0:'Spring'})\n",
    "\n",
    "summer = pd.DataFrame(test_pred_sum.T.sum())\n",
    "summer = summer.rename(columns={0:'Summer'})\n",
    "\n",
    "fall = pd.DataFrame(test_pred_fall.T.sum())\n",
    "fall = fall.rename(columns={0:'Fall'})\n",
    "\n",
    "winter = pd.DataFrame(test_pred_win.T.sum())\n",
    "winter = winter.rename(columns={0:'Winter'})\n",
    "\n",
    "seasons = spring.join(summer).join(fall).join(winter)\n",
    "seasons = test_pred_win.fillna(0)"
   ]
  },
  {
   "cell_type": "code",
   "execution_count": 17,
   "metadata": {
    "collapsed": false
   },
   "outputs": [],
   "source": [
    "seasons = spring.join(summer).join(fall).join(winter)"
   ]
  },
  {
   "cell_type": "code",
   "execution_count": 18,
   "metadata": {
    "collapsed": true
   },
   "outputs": [],
   "source": [
    "midnight_to_four = [0, 1, 2, 3]\n",
    "four_to_eight = [4, 5, 6, 7]\n",
    "eight_to_twelve = [8, 9, 10, 11]\n",
    "twelve_to_sixteen = [12, 13, 14, 15]\n",
    "sixteen_to_twenty = [16, 17, 18, 19]\n",
    "twenty_to_midnight = [20, 21, 22, 23]"
   ]
  },
  {
   "cell_type": "code",
   "execution_count": 19,
   "metadata": {
    "collapsed": false
   },
   "outputs": [],
   "source": [
    "test_pred_mon = test_pred_mon.drop(['DayOfWeek', 'Dates', 'highest_probability', 'second_most_likely', 'second_hightest_prob', 'third_most_likely', 'third_highest_prob'], axis=1)\n",
    "test_pred_mon = pd.DataFrame((pd.get_dummies(test_pred_mon, columns = ['most_likely'], prefix='',prefix_sep='')).sum())\n",
    "test_pred_mon = test_pred_mon.rename(columns={0:'Monday'})\n",
    "\n",
    "test_pred_tue = test_pred_tue.drop(['DayOfWeek', 'Dates', 'highest_probability', 'second_most_likely', 'second_hightest_prob', 'third_most_likely', 'third_highest_prob'], axis=1)\n",
    "test_pred_tue = pd.DataFrame((pd.get_dummies(test_pred_tue, columns = ['most_likely'], prefix='',prefix_sep='')).sum())\n",
    "test_pred_tue = test_pred_tue.rename(columns={0:'Tuesday'})\n",
    "\n",
    "test_pred_wed = test_pred_wed.drop(['DayOfWeek', 'Dates', 'highest_probability', 'second_most_likely', 'second_hightest_prob', 'third_most_likely', 'third_highest_prob'], axis=1)\n",
    "test_pred_wed = pd.DataFrame((pd.get_dummies(test_pred_wed, columns = ['most_likely'], prefix='',prefix_sep='')).sum())\n",
    "test_pred_wed = test_pred_wed.rename(columns={0:'Wednesday'})\n",
    "\n",
    "test_pred_thu = test_pred_thu.drop(['DayOfWeek', 'Dates', 'highest_probability', 'second_most_likely', 'second_hightest_prob', 'third_most_likely', 'third_highest_prob'], axis=1)\n",
    "test_pred_thu = pd.DataFrame((pd.get_dummies(test_pred_thu, columns = ['most_likely'], prefix='',prefix_sep='')).sum())\n",
    "test_pred_thu = test_pred_thu.rename(columns={0:'Thursday'})\n",
    "\n",
    "test_pred_fri = test_pred_fri.drop(['DayOfWeek', 'Dates', 'highest_probability', 'second_most_likely', 'second_hightest_prob', 'third_most_likely', 'third_highest_prob'], axis=1)\n",
    "test_pred_fri = pd.DataFrame((pd.get_dummies(test_pred_fri, columns = ['most_likely'], prefix='',prefix_sep='')).sum())\n",
    "test_pred_fri = test_pred_fri.rename(columns={0:'Friday'})\n",
    "\n",
    "test_pred_sat = test_pred_sat.drop(['DayOfWeek', 'Dates', 'highest_probability', 'second_most_likely', 'second_hightest_prob', 'third_most_likely', 'third_highest_prob'], axis=1)\n",
    "test_pred_sat = pd.DataFrame((pd.get_dummies(test_pred_sat, columns = ['most_likely'], prefix='',prefix_sep='')).sum())\n",
    "test_pred_sat = test_pred_sat.rename(columns={0:'Saturday'})\n",
    "\n",
    "test_pred_sun = test_pred_sun.drop(['DayOfWeek', 'Dates', 'highest_probability', 'second_most_likely', 'second_hightest_prob', 'third_most_likely', 'third_highest_prob'], axis=1)\n",
    "test_pred_sun = pd.DataFrame((pd.get_dummies(test_pred_sun, columns = ['most_likely'], prefix='',prefix_sep='')).sum())\n",
    "test_pred_sun = test_pred_sun.rename(columns={0:'Sunday'})\n",
    "\n",
    "test_pred_week = test_pred_mon.join(test_pred_tue).join(test_pred_wed).join(test_pred_thu).join(test_pred_fri).join(test_pred_sat).join(test_pred_sun)\n",
    "test_pred_week = test_pred_week.fillna(0)"
   ]
  },
  {
   "cell_type": "code",
   "execution_count": 20,
   "metadata": {
    "collapsed": true
   },
   "outputs": [],
   "source": [
    "test_pred_2015 = test_pred_2015.drop(['DayOfWeek', 'Dates', 'highest_probability', 'second_most_likely', 'second_hightest_prob', 'third_most_likely', 'third_highest_prob'], axis=1)\n",
    "test_pred_2015 = pd.DataFrame((pd.get_dummies(test_pred_2015, columns = ['most_likely'], prefix='',prefix_sep='')).sum())\n",
    "test_pred_2015 = test_pred_2015.rename(columns={0:'2015'})\n",
    "\n",
    "test_pred_2014 = test_pred_2014.drop(['DayOfWeek', 'Dates', 'highest_probability', 'second_most_likely', 'second_hightest_prob', 'third_most_likely', 'third_highest_prob'], axis=1)\n",
    "test_pred_2014 = pd.DataFrame((pd.get_dummies(test_pred_2014, columns = ['most_likely'], prefix='',prefix_sep='')).sum())\n",
    "test_pred_2014 = test_pred_2014.rename(columns={0:'2014'})\n",
    "\n",
    "test_pred_2013 = test_pred_2013.drop(['DayOfWeek', 'Dates', 'highest_probability', 'second_most_likely', 'second_hightest_prob', 'third_most_likely', 'third_highest_prob'], axis=1)\n",
    "test_pred_2013 = pd.DataFrame((pd.get_dummies(test_pred_2013, columns = ['most_likely'], prefix='',prefix_sep='')).sum())\n",
    "test_pred_2013 = test_pred_2013.rename(columns={0:'2013'})\n",
    "\n",
    "test_pred_2012 = test_pred_2012.drop(['DayOfWeek', 'Dates', 'highest_probability', 'second_most_likely', 'second_hightest_prob', 'third_most_likely', 'third_highest_prob'], axis=1)\n",
    "test_pred_2012 = pd.DataFrame((pd.get_dummies(test_pred_2012, columns = ['most_likely'], prefix='',prefix_sep='')).sum())\n",
    "test_pred_2012 = test_pred_2012.rename(columns={0:'2012'})\n",
    "\n",
    "test_pred_2011 = test_pred_2011.drop(['DayOfWeek', 'Dates', 'highest_probability', 'second_most_likely', 'second_hightest_prob', 'third_most_likely', 'third_highest_prob'], axis=1)\n",
    "test_pred_2011 = pd.DataFrame((pd.get_dummies(test_pred_2011, columns = ['most_likely'], prefix='',prefix_sep='')).sum())\n",
    "test_pred_2011 = test_pred_2011.rename(columns={0:'2011'})\n",
    "\n",
    "test_pred_2010 = test_pred_2010.drop(['DayOfWeek', 'Dates', 'highest_probability', 'second_most_likely', 'second_hightest_prob', 'third_most_likely', 'third_highest_prob'], axis=1)\n",
    "test_pred_2010 = pd.DataFrame((pd.get_dummies(test_pred_2010, columns = ['most_likely'], prefix='',prefix_sep='')).sum())\n",
    "test_pred_2010 = test_pred_2010.rename(columns={0:'2010'})\n",
    "\n",
    "test_pred_2009 = test_pred_2009.drop(['DayOfWeek', 'Dates', 'highest_probability', 'second_most_likely', 'second_hightest_prob', 'third_most_likely', 'third_highest_prob'], axis=1)\n",
    "test_pred_2009 = pd.DataFrame((pd.get_dummies(test_pred_2009, columns = ['most_likely'], prefix='',prefix_sep='')).sum())\n",
    "test_pred_2009 = test_pred_2009.rename(columns={0:'2009'})\n",
    "\n",
    "test_pred_2008 = test_pred_2008.drop(['DayOfWeek', 'Dates', 'highest_probability', 'second_most_likely', 'second_hightest_prob', 'third_most_likely', 'third_highest_prob'], axis=1)\n",
    "test_pred_2008 = pd.DataFrame((pd.get_dummies(test_pred_2008, columns = ['most_likely'], prefix='',prefix_sep='')).sum())\n",
    "test_pred_2008 = test_pred_2008.rename(columns={0:'2008'})\n",
    "\n",
    "test_pred_2007 = test_pred_2007.drop(['DayOfWeek', 'Dates', 'highest_probability', 'second_most_likely', 'second_hightest_prob', 'third_most_likely', 'third_highest_prob'], axis=1)\n",
    "test_pred_2007 = pd.DataFrame((pd.get_dummies(test_pred_2007, columns = ['most_likely'], prefix='',prefix_sep='')).sum())\n",
    "test_pred_2007 = test_pred_2007.rename(columns={0:'2007'})\n",
    "\n",
    "test_pred_2006 = test_pred_2006.drop(['DayOfWeek', 'Dates', 'highest_probability', 'second_most_likely', 'second_hightest_prob', 'third_most_likely', 'third_highest_prob'], axis=1)\n",
    "test_pred_2006 = pd.DataFrame((pd.get_dummies(test_pred_2006, columns = ['most_likely'], prefix='',prefix_sep='')).sum())\n",
    "test_pred_2006 = test_pred_2006.rename(columns={0:'2006'})\n",
    "\n",
    "test_pred_2005 = test_pred_2005.drop(['DayOfWeek', 'Dates', 'highest_probability', 'second_most_likely', 'second_hightest_prob', 'third_most_likely', 'third_highest_prob'], axis=1)\n",
    "test_pred_2005 = pd.DataFrame((pd.get_dummies(test_pred_2005, columns = ['most_likely'], prefix='',prefix_sep='')).sum())\n",
    "test_pred_2005 = test_pred_2005.rename(columns={0:'2005'})\n",
    "\n",
    "test_pred_2004 = test_pred_2004.drop(['DayOfWeek', 'Dates', 'highest_probability', 'second_most_likely', 'second_hightest_prob', 'third_most_likely', 'third_highest_prob'], axis=1)\n",
    "test_pred_2004 = pd.DataFrame((pd.get_dummies(test_pred_2004, columns = ['most_likely'], prefix='',prefix_sep='')).sum())\n",
    "test_pred_2004 = test_pred_2004.rename(columns={0:'2004'})\n",
    "\n",
    "test_pred_2003 = test_pred_2003.drop(['DayOfWeek', 'Dates', 'highest_probability', 'second_most_likely', 'second_hightest_prob', 'third_most_likely', 'third_highest_prob'], axis=1)\n",
    "test_pred_2003 = pd.DataFrame((pd.get_dummies(test_pred_2003, columns = ['most_likely'], prefix='',prefix_sep='')).sum())\n",
    "test_pred_2003 = test_pred_2003.rename(columns={0:'2003'})"
   ]
  },
  {
   "cell_type": "code",
   "execution_count": 43,
   "metadata": {
    "collapsed": false
   },
   "outputs": [],
   "source": [
    "two015 =[]\n",
    "for cat in test_pred.most_likely.unique():\n",
    "    if cat not in test_pred_2015.index:\n",
    "        two015.append(cat)\n",
    "        \n",
    "test_pred_2015 = test_pred_2015.reset_index()\n",
    "test_pred_2015 = test_pred_2015.rename(columns={'index':'Category'})\n",
    "two015 = pd.DataFrame(two015)\n",
    "two015 = two015.rename(columns={0:'Category'})\n",
    "test_pred_2015 = test_pred_2015.append(two015)\n",
    "test_pred_2015 = test_pred_2015.fillna(0)\n",
    "test_pred_2015.index = test_pred_2015.pop('Category')\n",
    "\n",
    "two014 =[]\n",
    "for cat in test_pred.most_likely.unique():\n",
    "    if cat not in test_pred_2014.index:\n",
    "        two014.append(cat)\n",
    "        \n",
    "test_pred_2014 = test_pred_2014.reset_index()\n",
    "test_pred_2014 = test_pred_2014.rename(columns={'index':'Category'})\n",
    "two014 = pd.DataFrame(two014)\n",
    "two014 = two014.rename(columns={0:'Category'})\n",
    "test_pred_2014 = test_pred_2014.append(two014)\n",
    "test_pred_2014 = test_pred_2014.fillna(0)\n",
    "test_pred_2014.index = test_pred_2014.pop('Category')\n",
    "\n",
    "two013 =[]\n",
    "for cat in test_pred.most_likely.unique():\n",
    "    if cat not in test_pred_2013.index:\n",
    "        two013.append(cat)\n",
    "        \n",
    "test_pred_2013 = test_pred_2013.reset_index()\n",
    "test_pred_2013 = test_pred_2013.rename(columns={'index':'Category'})\n",
    "two013 = pd.DataFrame(two013)\n",
    "two013 = two013.rename(columns={0:'Category'})\n",
    "test_pred_2013 = test_pred_2013.append(two013)\n",
    "test_pred_2013 = test_pred_2013.fillna(0)\n",
    "test_pred_2013.index = test_pred_2013.pop('Category')\n",
    "\n",
    "two012 =[]\n",
    "for cat in test_pred.most_likely.unique():\n",
    "    if cat not in test_pred_2012.index:\n",
    "        two012.append(cat)\n",
    "        \n",
    "test_pred_2012 = test_pred_2012.reset_index()\n",
    "test_pred_2012 = test_pred_2012.rename(columns={'index':'Category'})\n",
    "two012 = pd.DataFrame(two012)\n",
    "two012 = two012.rename(columns={0:'Category'})\n",
    "test_pred_2012 = test_pred_2012.append(two012)\n",
    "test_pred_2012 = test_pred_2012.fillna(0)\n",
    "test_pred_2012.index = test_pred_2012.pop('Category')\n",
    "\n",
    "two011 =[]\n",
    "for cat in test_pred.most_likely.unique():\n",
    "    if cat not in test_pred_2011.index:\n",
    "        two011.append(cat)\n",
    "        \n",
    "test_pred_2011 = test_pred_2011.reset_index()\n",
    "test_pred_2011 = test_pred_2011.rename(columns={'index':'Category'})\n",
    "two011 = pd.DataFrame(two011)\n",
    "two011 = two011.rename(columns={0:'Category'})\n",
    "test_pred_2011 = test_pred_2011.append(two011)\n",
    "test_pred_2011 = test_pred_2011.fillna(0)\n",
    "test_pred_2011.index = test_pred_2011.pop('Category')\n",
    "\n",
    "two010 =[]\n",
    "for cat in test_pred.most_likely.unique():\n",
    "    if cat not in test_pred_2010.index:\n",
    "        two010.append(cat)\n",
    "        \n",
    "test_pred_2010 = test_pred_2010.reset_index()\n",
    "test_pred_2010 = test_pred_2010.rename(columns={'index':'Category'})\n",
    "two010 = pd.DataFrame(two010)\n",
    "two010 = two010.rename(columns={0:'Category'})\n",
    "test_pred_2010 = test_pred_2010.append(two010)\n",
    "test_pred_2010 = test_pred_2010.fillna(0)\n",
    "test_pred_2010.index = test_pred_2010.pop('Category')\n",
    "\n",
    "two009 =[]\n",
    "for cat in test_pred.most_likely.unique():\n",
    "    if cat not in test_pred_2009.index:\n",
    "        two009.append(cat)\n",
    "        \n",
    "test_pred_2009 = test_pred_2009.reset_index()\n",
    "test_pred_2009 = test_pred_2009.rename(columns={'index':'Category'})\n",
    "two009 = pd.DataFrame(two009)\n",
    "two009 = two009.rename(columns={0:'Category'})\n",
    "test_pred_2009 = test_pred_2009.append(two009)\n",
    "test_pred_2009 = test_pred_2009.fillna(0)\n",
    "test_pred_2009.index = test_pred_2009.pop('Category')\n",
    "\n",
    "two008 =[]\n",
    "for cat in test_pred.most_likely.unique():\n",
    "    if cat not in test_pred_2008.index:\n",
    "        two008.append(cat)\n",
    "        \n",
    "test_pred_2008 = test_pred_2008.reset_index()\n",
    "test_pred_2008 = test_pred_2008.rename(columns={'index':'Category'})\n",
    "two008 = pd.DataFrame(two008)\n",
    "two008 = two008.rename(columns={0:'Category'})\n",
    "test_pred_2008 = test_pred_2008.append(two008)\n",
    "test_pred_2008 = test_pred_2008.fillna(0)\n",
    "test_pred_2008.index = test_pred_2008.pop('Category')\n",
    "\n",
    "two007 =[]\n",
    "for cat in test_pred.most_likely.unique():\n",
    "    if cat not in test_pred_2007.index:\n",
    "        two007.append(cat)\n",
    "        \n",
    "test_pred_2007 = test_pred_2007.reset_index()\n",
    "test_pred_2007 = test_pred_2007.rename(columns={'index':'Category'})\n",
    "two007 = pd.DataFrame(two007)\n",
    "two007 = two007.rename(columns={0:'Category'})\n",
    "test_pred_2007 = test_pred_2007.append(two007)\n",
    "test_pred_2007 = test_pred_2007.fillna(0)\n",
    "test_pred_2007.index = test_pred_2007.pop('Category')\n",
    "\n",
    "two006 =[]\n",
    "for cat in test_pred.most_likely.unique():\n",
    "    if cat not in test_pred_2006.index:\n",
    "        two006.append(cat)\n",
    "        \n",
    "test_pred_2006 = test_pred_2006.reset_index()\n",
    "test_pred_2006 = test_pred_2006.rename(columns={'index':'Category'})\n",
    "two006 = pd.DataFrame(two006)\n",
    "two006 = two006.rename(columns={0:'Category'})\n",
    "test_pred_2006 = test_pred_2006.append(two006)\n",
    "test_pred_2006 = test_pred_2006.fillna(0)\n",
    "test_pred_2006.index = test_pred_2006.pop('Category')\n",
    "\n",
    "two005 =[]\n",
    "for cat in test_pred.most_likely.unique():\n",
    "    if cat not in test_pred_2005.index:\n",
    "        two005.append(cat)\n",
    "        \n",
    "test_pred_2005 = test_pred_2005.reset_index()\n",
    "test_pred_2005 = test_pred_2005.rename(columns={'index':'Category'})\n",
    "two005 = pd.DataFrame(two005)\n",
    "two005 = two005.rename(columns={0:'Category'})\n",
    "test_pred_2005 = test_pred_2005.append(two005)\n",
    "test_pred_2005 = test_pred_2005.fillna(0)\n",
    "test_pred_2005.index = test_pred_2005.pop('Category')\n",
    "\n",
    "two004 =[]\n",
    "for cat in test_pred.most_likely.unique():\n",
    "    if cat not in test_pred_2004.index:\n",
    "        two004.append(cat)\n",
    "        \n",
    "test_pred_2004 = test_pred_2004.reset_index()\n",
    "test_pred_2004 = test_pred_2004.rename(columns={'index':'Category'})\n",
    "two004 = pd.DataFrame(two004)\n",
    "two004 = two004.rename(columns={0:'Category'})\n",
    "test_pred_2004 = test_pred_2004.append(two004)\n",
    "test_pred_2004 = test_pred_2004.fillna(0)\n",
    "test_pred_2004.index = test_pred_2004.pop('Category')\n",
    "\n",
    "two003 =[]\n",
    "for cat in test_pred.most_likely.unique():\n",
    "    if cat not in test_pred_2003.index:\n",
    "        two003.append(cat)\n",
    "        \n",
    "test_pred_2003 = test_pred_2003.reset_index()\n",
    "test_pred_2003 = test_pred_2003.rename(columns={'index':'Category'})\n",
    "two003 = pd.DataFrame(two003)\n",
    "two003 = two003.rename(columns={0:'Category'})\n",
    "test_pred_2003 = test_pred_2003.append(two003)\n",
    "test_pred_2003 = test_pred_2003.fillna(0)\n",
    "test_pred_2003.index = test_pred_2003.pop('Category')\n",
    "\n",
    "test_pred_years = test_pred_2015.join(test_pred_2014).join(test_pred_2013).join(test_pred_2012).join(test_pred_2011).join(test_pred_2010).join(test_pred_2009).join(test_pred_2008).join(test_pred_2007).join(test_pred_2006).join(test_pred_2005).join(test_pred_2004).join(test_pred_2003)\n",
    "test_pred_years = test_pred_week.fillna(0)"
   ]
  },
  {
   "cell_type": "code",
   "execution_count": 45,
   "metadata": {
    "collapsed": false
   },
   "outputs": [],
   "source": [
    "test_pred_years = test_pred_2015.join(test_pred_2014).join(test_pred_2013).join(test_pred_2012).join(test_pred_2011).join(test_pred_2010).join(test_pred_2009).join(test_pred_2008).join(test_pred_2007).join(test_pred_2006).join(test_pred_2005).join(test_pred_2004).join(test_pred_2003)"
   ]
  },
  {
   "cell_type": "code",
   "execution_count": 68,
   "metadata": {
    "collapsed": true
   },
   "outputs": [],
   "source": [
    "test_pred_sex_crimes.to_csv('/Users/MatthewBarnette/final_project_predictions//test_pred_sex_crimes.csv')\n",
    "test_pred_theft.to_csv('/Users/MatthewBarnette/final_project_predictions//test_pred_theft.csv')\n",
    "test_pred_misc_lesser.to_csv('/Users/MatthewBarnette/final_project_predictions//test_pred_misc_lesser.csv')\n",
    "test_pred_other_offenses.to_csv('/Users/MatthewBarnette/final_project_predictions//test_pred_other_offenses.csv')\n",
    "test_pred_violent.to_csv('/Users/MatthewBarnette/final_project_predictions//test_pred_violent.csv')\n",
    "test_pred_controlled_substances_alchohol.to_csv('/Users/MatthewBarnette/final_project_predictions//test_pred_controlled_substances_alchohol.csv')\n",
    "test_pred_missing.to_csv('/Users/MatthewBarnette/final_project_predictions//test_pred_missing.csv')\n",
    "test_pred_financial.to_csv('/Users/MatthewBarnette/final_project_predictions//test_pred_financial.csv')"
   ]
  }
 ],
 "metadata": {
  "kernelspec": {
   "display_name": "Python 3",
   "language": "python",
   "name": "python3"
  }
 },
 "nbformat": 4,
 "nbformat_minor": 0
}
